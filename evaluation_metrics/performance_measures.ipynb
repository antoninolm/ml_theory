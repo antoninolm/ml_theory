{
 "cells": [
  {
   "cell_type": "markdown",
   "id": "02e7c951",
   "metadata": {},
   "source": [
    "<p style=\"text-align: center; font-size: 28px;\"><b>Evaluation Metrics</b></p>\n",
    "\n",
    "When we build a machine learning model to classify data, it’s not enough to just make predictions — we need to understand **how well the model performs**.  \n",
    "Different evaluation metrics give us different perspectives on the model’s strengths and weaknesses. By using a combination of these measures, we can make informed decisions about whether the model is suitable for our problem or needs further improvement."
   ]
  },
  {
   "attachments": {
    "image.png": {
     "image/png": "[encoded data removed]"
    }
   },
   "cell_type": "markdown",
   "id": "aebcc4fe",
   "metadata": {},
   "source": [
    "# Confusion Matrix\n",
    "\n",
    "When building a machine learning model that makes predictions, an essential step is evaluating its performance. To do this, we often use a **confusion matrix**, which summarizes how well the model’s predictions match the actual outcomes.\n",
    "\n",
    "Suppose we are creating a classifier to detect spam emails. After passing the evaluation set through the model, we compare predicted labels with the true labels. Each prediction falls into one of four categories:\n",
    "\n",
    "- **True Positive (TP):** Predicted spam, and it was actually spam  \n",
    "- **True Negative (TN):** Predicted not spam, and it was actually not spam  \n",
    "- **False Positive (FP):** Predicted spam, but it was not spam  \n",
    "- **False Negative (FN):** Predicted not spam, but it was spam  \n",
    "\n",
    "These outcomes can be visualized in a confusion matrix, where rows represent the actual labels and columns represent the predicted labels:\n",
    "\n",
    "![image.png](attachment:image.png)\n",
    "\n",
    "In practice, we calculate these values from the evaluation data to construct the confusion matrix, which then serves as the foundation for many other performance metrics in classification tasks.\n",
    "```\n"
   ]
  },
  {
   "cell_type": "code",
   "execution_count": 1,
   "id": "f1e32036",
   "metadata": {},
   "outputs": [
    {
     "name": "stdout",
     "output_type": "stream",
     "text": [
      "True Positives: 3\n",
      "True Negatives: 0\n",
      "False Positives: 3\n",
      "False Negatives: 4\n",
      "\n",
      "Confusion Matrix:\n",
      " [[0 3]\n",
      " [4 3]]\n"
     ]
    }
   ],
   "source": [
    "# Import the confusion_matrix function from scikit-learn\n",
    "from sklearn.metrics import confusion_matrix\n",
    "\n",
    "# ----------------------------------------------------------\n",
    "# Checkpoint 1:\n",
    "# We are given two ordered lists:\n",
    "#   - actual: the true labels of the dataset (1 = spam, 0 = not spam)\n",
    "#   - predicted: the classifications returned by the model\n",
    "# We need to create four variables to store the results,\n",
    "# initialized to zero.\n",
    "# ----------------------------------------------------------\n",
    "actual = [1, 0, 0, 1, 1, 1, 0, 1, 1, 1]\n",
    "predicted = [0, 1, 1, 1, 1, 0, 1, 0, 1, 0]\n",
    "\n",
    "true_positives = 0\n",
    "true_negatives = 0\n",
    "false_positives = 0\n",
    "false_negatives = 0\n",
    "\n",
    "# ----------------------------------------------------------\n",
    "# Checkpoint 2 & 3:\n",
    "# Loop through each prediction and compare with the actual label.\n",
    "# - True Positive (TP): actual[i] == 1 and predicted[i] == 1\n",
    "# - True Negative (TN): actual[i] == 0 and predicted[i] == 0\n",
    "# - False Positive (FP): actual[i] == 0 and predicted[i] == 1\n",
    "# - False Negative (FN): actual[i] == 1 and predicted[i] == 0\n",
    "# ----------------------------------------------------------\n",
    "for i in range(len(actual)):\n",
    "    if actual[i] == 1 and actual[i] == predicted[i]:\n",
    "        true_positives += 1\n",
    "    elif actual[i] == 0 and predicted[i] == 0:\n",
    "        true_negatives += 1\n",
    "    elif predicted[i] == 1 and actual[i] == 0:\n",
    "        false_positives += 1\n",
    "    elif actual[i] == 1 and predicted[i] == 0:\n",
    "        false_negatives += 1\n",
    "\n",
    "# ----------------------------------------------------------\n",
    "# Checkpoint 4:\n",
    "# Print the counts of true positives, true negatives,\n",
    "# false positives, and false negatives.\n",
    "# ----------------------------------------------------------\n",
    "print(\"True Positives:\", true_positives)\n",
    "print(\"True Negatives:\", true_negatives)\n",
    "print(\"False Positives:\", false_positives)\n",
    "print(\"False Negatives:\", false_negatives)\n",
    "\n",
    "# ----------------------------------------------------------\n",
    "# Checkpoint 5 & 6:\n",
    "# Use scikit-learn's confusion_matrix function to compute\n",
    "# the matrix directly, and print the result.\n",
    "# ----------------------------------------------------------\n",
    "conf_matrix = confusion_matrix(actual, predicted)\n",
    "print(\"\\nConfusion Matrix:\\n\", conf_matrix)\n"
   ]
  },
  {
   "attachments": {
    "image.png": {
     "image/png": "[encoded data removed]"
    }
   },
   "cell_type": "markdown",
   "id": "bff9b381",
   "metadata": {},
   "source": [
    "# Accuracy\n",
    "\n",
    "One way to evaluate the performance of a classification model is by calculating its **accuracy**. Accuracy measures the proportion of correct predictions out of the total predictions made by the model. It is computed using the counts from the confusion matrix:\n",
    "\n",
    "![image.png](attachment:image.png)\n",
    "\n",
    "In other words, accuracy represents how often the classifier makes the right prediction, whether identifying positive cases correctly or recognizing negatives correctly.  \n",
    "Next, we can calculate the accuracy of our classification algorithm using this formula.\n"
   ]
  },
  {
   "cell_type": "code",
   "execution_count": 2,
   "id": "73dcd746",
   "metadata": {
    "scrolled": true
   },
   "outputs": [
    {
     "name": "stdout",
     "output_type": "stream",
     "text": [
      "Accuracy: 0.3\n"
     ]
    }
   ],
   "source": [
    "# ----------------------------------------------------------\n",
    "# Checkpoint 1:\n",
    "# Calculate the accuracy of the classification algorithm.\n",
    "# Accuracy is defined as:\n",
    "#   (True Positives + True Negatives) /\n",
    "#   (True Positives + True Negatives + False Positives + False Negatives)\n",
    "# Store the result in a variable named `accuracy` and print it.\n",
    "# ----------------------------------------------------------\n",
    "\n",
    "accuracy = (true_positives + true_negatives) / (\n",
    "    true_positives + true_negatives + false_positives + false_negatives\n",
    ")\n",
    "\n",
    "print(\"Accuracy:\", accuracy)\n"
   ]
  },
  {
   "cell_type": "markdown",
   "id": "86c71769",
   "metadata": {},
   "source": [
    "# Recall\n",
    "\n",
    "While accuracy is a common metric, it can sometimes give a misleading picture of model performance. For example, imagine building a spam classifier for email accounts that almost never receive spam. A model that always predicts \"not spam\" would achieve high accuracy but fail to detect the few spam messages that do exist — missing the actual goal of the classifier.\n",
    "\n",
    "In such cases, **recall** is a more meaningful measure. Recall quantifies the ability of a model to correctly identify positive cases. It is defined as:\n",
    "\n",
    "\\[\n",
    "\\text{Recall} = \\frac{\\text{True Positives}}{\\text{True Positives} + \\text{False Negatives}}\n",
    "\\]\n",
    "\n",
    "In other words, recall represents the proportion of actual positive cases that the model successfully classified as positive.  \n",
    "For our spam detection example, recall would be the fraction of spam emails correctly identified out of all spam emails in the dataset. A model that never predicts spam would have a recall of **0**, regardless of its overall accuracy.\n"
   ]
  },
  {
   "cell_type": "code",
   "execution_count": 3,
   "id": "9e2dfc42",
   "metadata": {},
   "outputs": [
    {
     "name": "stdout",
     "output_type": "stream",
     "text": [
      "Recall: 0.42857142857142855\n"
     ]
    }
   ],
   "source": [
    "# ----------------------------------------------------------\n",
    "# Checkpoint 1:\n",
    "# Calculate the recall of the classification algorithm.\n",
    "# Recall is defined as:\n",
    "#   True Positives /\n",
    "#   (True Positives + False Negatives)\n",
    "# Store the result in a variable named `recall` and print it.\n",
    "# ----------------------------------------------------------\n",
    "\n",
    "recall = true_positives / (true_positives + false_negatives)\n",
    "\n",
    "print(\"Recall:\", recall)\n"
   ]
  },
  {
   "attachments": {
    "image.png": {
     "image/png": "[encoded data removed]"
    }
   },
   "cell_type": "markdown",
   "id": "58b10180",
   "metadata": {},
   "source": [
    "# Precision\n",
    "\n",
    "Just like recall, precision highlights another important aspect of model evaluation. Consider a classifier that always predicts \"spam.\" Such a model would have a recall of 1, since it never misses a spam email, but its accuracy would be low and its usefulness limited because it also misclassifies most non-spam emails as spam.\n",
    "\n",
    "**Precision** measures how reliable the model’s positive predictions are. It is defined as:\n",
    "\n",
    "![image.png](attachment:image.png)\n",
    "\n",
    "In other words, precision is the proportion of correct positive predictions out of all predictions the model labeled as positive.  \n",
    "For the spam classifier, precision tells us how many of the emails predicted as spam were actually spam. A model that always predicts spam would have high recall but very low precision, since most of its positive predictions would be wrong.\n"
   ]
  },
  {
   "cell_type": "code",
   "execution_count": 4,
   "id": "fc07d998",
   "metadata": {},
   "outputs": [
    {
     "name": "stdout",
     "output_type": "stream",
     "text": [
      "Precision: 0.5\n"
     ]
    }
   ],
   "source": [
    "# ----------------------------------------------------------\n",
    "# Checkpoint 1:\n",
    "# Calculate the precision of the classification algorithm.\n",
    "# Precision is defined as:\n",
    "#   True Positives /\n",
    "#   (True Positives + False Positives)\n",
    "# Store the result in a variable named `precision` and print it.\n",
    "# ----------------------------------------------------------\n",
    "\n",
    "precision = true_positives / (true_positives + false_positives)\n",
    "\n",
    "print(\"Precision:\", precision)\n"
   ]
  },
  {
   "cell_type": "markdown",
   "id": "996d07a0",
   "metadata": {},
   "source": [
    "# F1-Score\n",
    "\n",
    "To evaluate a model more comprehensively, we often need to balance both **precision** and **recall**. The **F1-score** combines these two metrics into a single measure using the **harmonic mean**, which penalizes extreme differences between precision and recall.\n",
    "\n",
    "The F1-score is defined as:\n",
    "\n",
    "$$\n",
    "F1 = \\frac{2 \\times Precision \\times Recall}{Precision + Recall}\n",
    "$$\n",
    "\n",
    "We use the harmonic mean rather than the arithmetic mean because it ensures that the F1-score will be low if either precision or recall is close to 0.\n",
    "\n",
    "**Example:**\n",
    "\n",
    "- Precision = 0.02, Recall = 1  \n",
    "\n",
    "Arithmetic mean:\n",
    "\n",
    "$$\n",
    "\\frac{1 + 0.02}{2} = 0.51\n",
    "$$\n",
    "\n",
    "Harmonic mean (F1-score):\n",
    "\n",
    "$$\n",
    "\\frac{2 \\times 1 \\times 0.02}{1 + 0.02} = 0.039\n",
    "$$\n"
   ]
  },
  {
   "cell_type": "code",
   "execution_count": 5,
   "id": "88c7a3ce",
   "metadata": {},
   "outputs": [
    {
     "name": "stdout",
     "output_type": "stream",
     "text": [
      "F1-score: 0.4615384615384615\n"
     ]
    }
   ],
   "source": [
    "# ----------------------------------------------------------\n",
    "# Checkpoint 1:\n",
    "# Calculate the F1-score of the classification algorithm.\n",
    "# The F1-score is the harmonic mean of precision and recall:\n",
    "# \n",
    "#   F1 = (2 * Precision * Recall) / (Precision + Recall)\n",
    "#\n",
    "# Store the result in a variable named `f_1` and print it.\n",
    "# ----------------------------------------------------------\n",
    "\n",
    "f_1 = (2 * precision * recall) / (precision + recall)\n",
    "\n",
    "print(\"F1-score:\", f_1)\n"
   ]
  },
  {
   "cell_type": "markdown",
   "id": "d69dda01",
   "metadata": {},
   "source": [
    "# Review\n",
    "\n",
    "There is no single metric that works best in all situations. Choosing between **accuracy**, **precision**, **recall**, **F1-score**, or other evaluation metrics depends on the specific classification task and its priorities.\n",
    "\n",
    "For instance, in the spam email example, we would likely prefer a model with high **precision** even if its recall is lower. This is because it is more important to avoid mistakenly classifying an important email as spam than it is to let a few spam messages slip into the inbox.\n",
    "\n",
    "The key is to understand the problem you are trying to solve — that will guide which metric is most meaningful.\n",
    "\n",
    "Libraries like **scikit-learn** provide built-in functions to calculate these metrics, making evaluation more efficient.\n",
    "\n",
    "**Key Takeaways:**\n",
    "\n",
    "- Each classification result falls into one of four categories:  \n",
    "  - True Positive (actual = 1, predicted = 1)  \n",
    "  - True Negative (actual = 0, predicted = 0)  \n",
    "  - False Positive (actual = 0, predicted = 1)  \n",
    "  - False Negative (actual = 1, predicted = 0)  \n",
    "  These outcomes are often summarized in a **confusion matrix**.  \n",
    "\n",
    "- **Accuracy**: Proportion of all predictions that were correct.  \n",
    "\n",
    "- **Recall**: Fraction of actual positives correctly identified.  \n",
    "\n",
    "- **Precision**: Fraction of predicted positives that were truly positive.  \n",
    "\n",
    "- **F1-score**: Harmonic mean of precision and recall.  \n",
    "  - This score will be low if either precision or recall is low, reflecting poor balance.  \n"
   ]
  },
  {
   "cell_type": "code",
   "execution_count": 7,
   "id": "48cbdac8",
   "metadata": {},
   "outputs": [
    {
     "name": "stdout",
     "output_type": "stream",
     "text": [
      "Accuracy: 0.3\n",
      "Recall: 0.42857142857142855\n",
      "Precision: 0.5\n",
      "F1-score: 0.46153846153846156\n"
     ]
    }
   ],
   "source": [
    "# ----------------------------------------------------------\n",
    "# Checkpoint 1:\n",
    "# Use scikit-learn's built-in functions to calculate evaluation metrics.\n",
    "# All functions take two parameters:\n",
    "#   - actual: the list of true labels\n",
    "#   - predicted: the list of predicted classifications\n",
    "#\n",
    "# Call accuracy_score() first and print the result.\n",
    "# ----------------------------------------------------------\n",
    "\n",
    "from sklearn.metrics import accuracy_score, recall_score, precision_score, f1_score\n",
    "\n",
    "print(\"Accuracy:\", accuracy_score(actual, predicted))\n",
    "\n",
    "# ----------------------------------------------------------\n",
    "# Checkpoint 2:\n",
    "# Call recall_score(), precision_score(), and f1_score()\n",
    "# with the same parameters (actual, predicted).\n",
    "# Print their results as well.\n",
    "# ----------------------------------------------------------\n",
    "\n",
    "print(\"Recall:\", recall_score(actual, predicted))\n",
    "print(\"Precision:\", precision_score(actual, predicted))\n",
    "print(\"F1-score:\", f1_score(actual, predicted))\n"
   ]
  },
  {
   "cell_type": "markdown",
   "id": "0ec404c5",
   "metadata": {},
   "source": [
    "### Summary of Key Metrics\n",
    "\n",
    "To evaluate classification results, we use four main statistics derived from the confusion matrix:\n",
    "\n",
    "- **Accuracy** → *How often the model is right overall*  \n",
    "  $$Accuracy = \\frac{TP + TN}{TP + TN + FP + FN}$$  \n",
    "\n",
    "- **Recall** → *How many actual positives the model correctly found*  \n",
    "  $$Recall = \\frac{TP}{TP + FN}$$  \n",
    "\n",
    "- **Precision** → *Of the predicted positives, how many were actually positive*  \n",
    "  $$Precision = \\frac{TP}{TP + FP}$$  \n",
    "\n",
    "- **F1-score** → *Balances precision and recall into one number*  \n",
    "  $$F1 = \\frac{2 \\times Precision \\times Recall}{Precision + Recall}$$  \n",
    "\n",
    "---\n",
    "\n",
    "### Easy Way to Remember 🧠\n",
    "\n",
    "- **Accuracy** → “Out of everything, how much did I get right?”  \n",
    "- **Recall** → “Of all the real positives, how many did I catch?” *(think: catching spam emails)*  \n",
    "- **Precision** → “Of all the ones I called positive, how many were truly positive?” *(think: avoiding false alarms)*  \n",
    "- **F1-score** → “How well am I balancing precision and recall together?”  \n",
    "\n",
    "By keeping these short questions in mind, you’ll be able to quickly recall what each metric means and when to use it."
   ]
  }
 ],
 "metadata": {
  "kernelspec": {
   "display_name": "Python 3 (ipykernel)",
   "language": "python",
   "name": "python3"
  },
  "language_info": {
   "codemirror_mode": {
    "name": "ipython",
    "version": 3
   },
   "file_extension": ".py",
   "mimetype": "text/x-python",
   "name": "python",
   "nbconvert_exporter": "python",
   "pygments_lexer": "ipython3",
   "version": "3.10.6"
  },
  "toc": {
   "base_numbering": 1,
   "nav_menu": {},
   "number_sections": true,
   "sideBar": true,
   "skip_h1_title": false,
   "title_cell": "Table of Contents",
   "title_sidebar": "Contents",
   "toc_cell": false,
   "toc_position": {},
   "toc_section_display": true,
   "toc_window_display": false
  }
 },
 "nbformat": 4,
 "nbformat_minor": 5
}
