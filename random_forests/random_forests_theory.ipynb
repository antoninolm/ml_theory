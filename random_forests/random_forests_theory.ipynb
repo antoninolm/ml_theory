{
 "cells": [
  {
   "cell_type": "markdown",
   "id": "78eb1b2f",
   "metadata": {},
   "source": [
    "<p style=\"text-align: center; font-size: 28px;\"><b>Random Forests</b></p>\n",
    "\n",
    "# Introduction\n",
    "\n",
    "Random forests aren’t just for classification—they also work well for **regression** when the target is continuous (e.g., a numeric `price`). The model builds many decision trees on **bootstrapped** samples of the data and, at each split, considers a **random subset of features**. For regression, each tree outputs a number and the forest prediction is the **average** of those outputs, which reduces variance and typically generalizes better than a single tree.\n",
    "\n",
    "In scikit-learn, `RandomForestRegressor` follows the familiar workflow: `.fit()`, `.predict()`, and `.score()`. By default, `.score()` reports the **\\(R^2\\)** (coefficient of determination):\n",
    "\n",
    "$$\n",
    "R^2 \\;=\\; 1 - \\frac{\\sum_{i=1}^{n}(y_i - \\hat{y}_i)^2}{\\sum_{i=1}^{n}(y_i - \\bar{y})^2}\n",
    "$$\n",
    "\n",
    "Alongside \\(R^2\\), it’s useful to track **MAE** and **RMSE** to understand typical error magnitudes:\n",
    "\n",
    "- \\( \\text{MAE} = \\frac{1}{n}\\sum |y_i - \\hat{y}_i| \\)\n",
    "- \\( \\text{RMSE} = \\sqrt{\\frac{1}{n}\\sum (y_i - \\hat{y}_i)^2} \\)\n",
    "\n",
    "Key knobs include `n_estimators`, `max_depth`, `min_samples_leaf`, and `max_features`. With one-hot encoded categoricals, random forests often perform strongly out of the box with modest tuning.\n"
   ]
  },
  {
   "cell_type": "markdown",
   "id": "3112b0dd",
   "metadata": {},
   "source": [
    "# Basics of a Random Forest\n",
    "\n",
    "A **random forest** is an ensemble machine learning algorithm that combines multiple decision trees to improve prediction accuracy and reduce overfitting.\n",
    "\n",
    "While **decision trees** are powerful supervised learning models, they can easily overfit the training data. Techniques such as pruning can reduce this issue but may not always be sufficient. Random forests solve this problem by aggregating the results of many trees.\n",
    "\n",
    "When classifying a new data point:\n",
    "\n",
    "1. The point is passed to each tree in the forest.  \n",
    "2. Each tree provides its own classification.  \n",
    "3. The forest outputs the **majority vote** — the most common classification among all trees.\n",
    "\n",
    "This voting process reduces the influence of overfitted trees, resulting in a more generalized and reliable model.\n",
    "\n",
    "*Prerequisite:* A solid understanding of decision trees is recommended before diving into random forests.\n"
   ]
  },
  {
   "cell_type": "markdown",
   "id": "8202f782",
   "metadata": {},
   "source": [
    "# Bootstrapping\n",
    "\n",
    "When building a random forest, each decision tree must be different to ensure variety and robustness. However, a single decision tree algorithm is **deterministic** — it produces the same structure given the same dataset. To overcome this, random forests use a technique called **bagging** (short for *bootstrap aggregating*), which relies on a statistical method known as **bootstrapping**.\n",
    "\n",
    "Bootstrapping is a type of **sampling with replacement**, meaning that each time we draw a data point from the dataset, we put it back before drawing again. This allows the same observation to be selected multiple times in the same sample.\n",
    "\n",
    "**How Bootstrapping Works**\n",
    "\n",
    "1. Suppose our training dataset has 1000 rows.  \n",
    "2. For each tree in the forest, we randomly pick a subset (for example, 100 rows) **with replacement** to build that tree.  \n",
    "3. Because we replace each row after drawing it, the same row can appear more than once, while others may not appear at all.  \n",
    "\n",
    "As a result, each decision tree is trained on a different bootstrapped dataset, which introduces diversity and helps reduce overfitting when the trees are combined into a random forest.\n",
    "\n",
    "**Intuitive Example**\n",
    "\n",
    "Imagine placing all 1000 rows of your dataset into a bag. You reach in, grab one row at random, note it down, and then put it back before drawing again. Repeating this process ensures that some rows are picked multiple times, while others might not be picked at all — yet you still end up with a valid dataset of the same size.\n",
    " \n",
    "**Example Dataset**\n",
    "\n",
    "We’ll illustrate this with a **car evaluation dataset**, which includes features like safety, buying price, and passenger capacity. The goal is to use bootstrapping to estimate the **average safety rating** (`low`, `med`, or `high`) across multiple resampled datasets.\n",
    "\n",
    "| Variable   | Description |\n",
    "|-------------|-------------|\n",
    "| `safety`    | Estimated safety of the car (`low`, `med`, or `high`) |\n",
    "| `buying`    | Buying price |\n",
    "| `maint`     | Maintenance cost |\n",
    "| `doors`     | Number of doors |\n",
    "| `persons`   | Passenger capacity |\n",
    "| `lug_boot`  | Size of luggage boot |\n",
    "| `accep`     | Evaluation level (`unacceptable`, `acceptable`, `good`, `very good`) |\n",
    "\n",
    "Bootstrapping is the foundation of random forests — it ensures that each tree sees a slightly different view of the data, making the ensemble stronger, more stable, and less prone to overfitting.\n"
   ]
  },
  {
   "cell_type": "code",
   "execution_count": 1,
   "id": "0299ce6e",
   "metadata": {},
   "outputs": [],
   "source": [
    "# Step 1: Import required libraries\n",
    "# pandas and numpy for data manipulation\n",
    "# matplotlib and seaborn for visualization\n",
    "# sklearn for creating and training decision trees / random forests\n",
    "import pandas as pd\n",
    "import numpy as np\n",
    "import matplotlib.pyplot as plt\n",
    "import seaborn as sns\n",
    "from sklearn.model_selection import train_test_split\n",
    "from sklearn.tree import DecisionTreeClassifier\n",
    "from sklearn.ensemble import RandomForestClassifier"
   ]
  },
  {
   "cell_type": "code",
   "execution_count": 2,
   "id": "3addecb7",
   "metadata": {},
   "outputs": [],
   "source": [
    "# Step 2: Load the car evaluation dataset and name the columns\n",
    "df = pd.read_csv(\n",
    "    'https://archive.ics.uci.edu/ml/machine-learning-databases/car/car.data',\n",
    "    names=['buying', 'maint', 'doors', 'persons', 'lug_boot', 'safety', 'accep']\n",
    ")\n",
    "\n",
    "# Step 3: Convert the target variable `accep` into a binary indicator\n",
    "# Here, 'unacc' is converted to 0 (not acceptable), all others become 1 (acceptable)\n",
    "df['accep'] = ~(df['accep'] == 'unacc')\n",
    "\n",
    "# Step 4: Prepare the features (X) and target (y)\n",
    "# We use one-hot encoding for categorical variables to make them numeric\n",
    "X = pd.get_dummies(df.iloc[:, 0:6], drop_first=True)\n",
    "y = df['accep']\n",
    "\n",
    "# Step 5: Split the dataset into training and testing sets (75% train, 25% test)\n",
    "x_train, x_test, y_train, y_test = train_test_split(X, y, random_state=0, test_size=0.25)\n",
    "\n",
    "# Step 6: Get the total number of rows for later use\n",
    "nrows = df.shape[0]"
   ]
  },
  {
   "cell_type": "code",
   "execution_count": 3,
   "id": "8edfe3f5",
   "metadata": {},
   "outputs": [
    {
     "name": "stdout",
     "output_type": "stream",
     "text": [
      "1728\n",
      "Distribution of safety ratings in 1728 rows of data:\n",
      "safety\n",
      "low     0.333333\n",
      "med     0.333333\n",
      "high    0.333333\n",
      "Name: proportion, dtype: float64\n",
      "Distribution of safety ratings in bootstrapped sample data:\n",
      "safety\n",
      "med     0.345486\n",
      "high    0.329861\n",
      "low     0.324653\n",
      "Name: proportion, dtype: float64\n"
     ]
    }
   ],
   "source": [
    "# -------------------------------------------------------\n",
    "# ✅ Checkpoint 1: Print dataset size and safety distribution\n",
    "# -------------------------------------------------------\n",
    "# Print the total number of rows and the distribution of safety ratings\n",
    "print(nrows)\n",
    "print(f'Distribution of safety ratings in {nrows} rows of data:')\n",
    "print(df.safety.value_counts(normalize=True))\n",
    "# Observation: Each safety class (\"low\", \"med\", \"high\") occurs equally — around 0.333 each.\n",
    "\n",
    "# -------------------------------------------------------\n",
    "# ✅ Checkpoint 2: Create a single bootstrapped sample\n",
    "# -------------------------------------------------------\n",
    "# Bootstrapping = sampling with replacement\n",
    "# Here we randomly pick nrows samples, allowing duplicates\n",
    "boot_sample = df.sample(nrows, replace=True)\n",
    "\n",
    "# Print the new distribution of safety ratings\n",
    "print(f'Distribution of safety ratings in bootstrapped sample data:')\n",
    "print(boot_sample.safety.value_counts(normalize=True))\n",
    "# Observation: The proportions now vary — they are no longer perfectly equal.\n",
    "\n",
    "# -------------------------------------------------------\n",
    "# ✅ Checkpoint 3: Repeat bootstrapping 1000 times\n",
    "# -------------------------------------------------------\n",
    "# We’ll repeat the sampling process 1000 times and record\n",
    "# the proportion of \"low\" safety ratings in each bootstrapped sample\n",
    "low_perc = []\n",
    "for i in range(1000):\n",
    "    boot_sample = df.sample(nrows, replace=True)\n",
    "    low_perc.append(boot_sample.safety.value_counts(normalize=True)[\"low\"])\n",
    "\n",
    "# Convert list to numpy array for easy calculations\n",
    "low_perc = np.array(low_perc)"
   ]
  },
  {
   "cell_type": "markdown",
   "id": "caf6cb25",
   "metadata": {},
   "source": [
    "**A digression Calculating the proportion of rows where `safety == \"low\"**`\n",
    "\n",
    "There are several ways to compute the proportion of rows in a DataFrame where the column `safety` equals `\"low\"`.\n",
    "\n",
    "✅ Correct methods:\n",
    "\n",
    "1. Using `value_counts()` with normalization:\n",
    "\n",
    "`boot_sample.safety.value_counts(normalize=True)[\"low\"]`\n",
    "\n",
    "→ Returns the relative frequency (proportion) of `\"low\"` values directly.\n",
    "\n",
    "2. Using boolean comparison and division:\n",
    "\n",
    "`(boot_sample.safety == \"low\").sum() / boot_sample.safety.count()`\n",
    "\n",
    "→ The boolean comparison creates a Series of `True`/`False` values, and `.sum()` counts the number of `True` values.\n",
    "\n",
    "3. Using the mean of the boolean Series:\n",
    "\n",
    "`(boot_sample.safety == \"low\").mean()`\n",
    "\n",
    "→ Since `True` is treated as `1` and `False` as `0`, the mean gives the fraction of `True` values.\n",
    "\n",
    "❌ Incorrect method:\n",
    "\n",
    "`(boot_sample.safety == \"low\").count() / boot_sample.safety.count()`\n",
    "\n",
    "This always returns `1.0` because `.count()` counts all non-missing entries, **not only those equal to `\"low\"`**.\n",
    "\n",
    "✅ Recommended:\n",
    "The cleanest and most readable approach is:\n",
    "\n",
    "`(boot_sample.safety == \"low\").mean()`\n"
   ]
  },
  {
   "cell_type": "code",
   "execution_count": 6,
   "id": "e8869f7d",
   "metadata": {},
   "outputs": [
    {
     "name": "stdout",
     "output_type": "stream",
     "text": [
      "Mean of 'low' safety proportions: 0.3333\n"
     ]
    },
    {
     "data": {
      "image/png": "[encoded data removed]",
      "text/plain": [
       "<Figure size 640x480 with 1 Axes>"
      ]
     },
     "metadata": {},
     "output_type": "display_data"
    }
   ],
   "source": [
    "# -------------------------------------------------------\n",
    "# ✅ Checkpoint 4: Plot histogram of low safety proportions\n",
    "# -------------------------------------------------------\n",
    "mean_lp = np.mean(low_perc)\n",
    "print(f\"Mean of 'low' safety proportions: {mean_lp:.4f}\")\n",
    "\n",
    "# A diagramm with the distribution pf the percentage values for \"low\", they t3end to the mean value of the original Datafgrame\n",
    "plt.hist(low_perc, bins=20, color='skyblue', edgecolor='black')\n",
    "plt.title('Bootstrapped Low Safety Percentage Distribution')\n",
    "plt.xlabel('Low Safety Percentage')\n",
    "plt.ylabel('Frequency')\n",
    "plt.show()\n",
    "# Observation: The histogram shows a bell-shaped distribution\n",
    "# centered around the true mean proportion (~0.333)."
   ]
  },
  {
   "cell_type": "code",
   "execution_count": 7,
   "id": "4f1176d0",
   "metadata": {},
   "outputs": [
    {
     "name": "stdout",
     "output_type": "stream",
     "text": [
      "Average low percentage: 0.3333\n",
      "95% Confidence Interval for low percentage: (0.3125, 0.3553)\n"
     ]
    }
   ],
   "source": [
    "# -------------------------------------------------------\n",
    "# ✅ Checkpoint 5: Calculate 95% Confidence Interval\n",
    "# -------------------------------------------------------\n",
    "# Sort the percentages and extract the 2.5th and 97.5th percentiles\n",
    "low_perc.sort()\n",
    "lower_bound = low_perc[25].round(4)\n",
    "upper_bound = low_perc[975].round(4)\n",
    "\n",
    "print(f'Average low percentage: {np.mean(low_perc).round(4)}')\n",
    "print(f'95% Confidence Interval for low percentage: ({lower_bound}, {upper_bound})')\n",
    "# Interpretation: We are 95% confident that the true proportion\n",
    "# of \"low\" safety ratings lies within this interval."
   ]
  },
  {
   "cell_type": "markdown",
   "id": "efc3ea08",
   "metadata": {},
   "source": [
    "Bootstrapping: Why Sampling *With Replacement* Matters\n",
    "\n",
    "Bootstrapping introduces randomness into each decision tree by sampling **with replacement** from the training data.  \n",
    "Although this can over-represent some observations, it’s a deliberate design choice that improves the overall robustness of the random forest.\n",
    "\n",
    "Key Reasons for Using Bootstrapping  \n",
    "- **Simulates Sampling Variability:** Mimics drawing multiple datasets from the same population, allowing better estimation of variability and reducing overfitting.  \n",
    "- **Increases Tree Diversity:** Each tree sees a different view of the data, leading to uncorrelated models whose errors average out.  \n",
    "- **Statistical Foundation:** Bootstrapping’s “resample-with-replacement” design ensures each sample behaves like an independent dataset.  \n",
    "\n",
    "Why Not Sample Without Replacement?  \n",
    "- Produces less diverse trees, reducing the benefit of ensemble averaging.  \n",
    "- Samples are more similar to the original dataset (lower variance, higher bias).  \n",
    "- Fewer unique dataset combinations, limiting randomness across trees.  \n",
    "\n",
    "Trade-Off Summary  \n",
    "| Method | Pros | Cons |\n",
    "|--------|------|------|\n",
    "| **With Replacement (Bootstrapping)** | High diversity, strong ensemble effect, well-established method | Some rows may appear multiple times |\n",
    "| **Without Replacement (Subsampling)** | Simpler, no duplicates | Lower diversity, weaker ensemble performance |\n",
    "\n",
    "Takeaway  \n",
    "Bootstrapping intentionally adds variability by resampling with replacement, creating more diverse and independent trees that, when combined, make the random forest more stable and accurate.\n"
   ]
  },
  {
   "cell_type": "markdown",
   "id": "74805f23",
   "metadata": {},
   "source": [
    "**Interpretation of the Bootstrapping Result**\n",
    "\n",
    "If the proportion of \"low\" safety values in the bootstrapped sample is close to the original dataset’s proportion, this indicates that:\n",
    "\n",
    "Although bootstrapping resamples the data with replacement,\n",
    "\n",
    "The overall distribution of categories (e.g., \"low\", \"med\", \"high\") remains roughly consistent with the original dataset.\n",
    "\n",
    "In essence, bootstrapping introduces random variation while preserving the underlying statistical structure of the data.\n",
    "\n",
    "Each bootstrapped sample is a slightly different version of the original dataset, yet the relative frequency of \"low\" safety ratings tends to remain similar to the original.\n",
    "\n",
    "This consistency ensures that ensemble methods like Random Forests can combine results from many bootstrapped trees without losing the core patterns of the training data."
   ]
  },
  {
   "cell_type": "markdown",
   "id": "fe3123c6",
   "metadata": {},
   "source": [
    "# Bagging\n",
    "\n",
    "Bagging, short for Bootstrap Aggregating, is the process by which random forests create diverse decision trees and then combine their predictions to improve model performance.\n",
    "\n",
    "The idea begins with bootstrapping — training each decision tree on a different subset of the data sampled with replacement. Once multiple trees have been trained, their results are aggregated to form the final prediction.\n",
    "\n",
    "How Bagging Works:\n",
    "\n",
    "1. Bootstrap Sampling: Each tree is trained on a random subset of the training data, created through bootstrapping.  \n",
    "2. Independent Model Training: Every tree is grown independently from its own bootstrapped sample.  \n",
    "3. Aggregation of Results:  \n",
    "   - For classification, the final prediction is determined by majority vote across all trees.  \n",
    "   - For regression, the final prediction is the average of all tree outputs.  \n",
    "\n",
    "This ensemble approach significantly reduces variance and helps prevent overfitting — one of the main weaknesses of a single decision tree.\n",
    "\n",
    "Example Dataset:\n",
    "\n",
    "We’ll apply bagging to the same car evaluation dataset used previously, which contains the following features:\n",
    "\n",
    "| Feature  | Description |\n",
    "|-----------|-------------|\n",
    "| `buying`  | Buying price (`vhigh`, `high`, `med`, `low`) |\n",
    "| `maint`   | Maintenance cost (`vhigh`, `high`, `med`, `low`) |\n",
    "| `doors`   | Number of doors (`2`, `3`, `4`, `5more`) |\n",
    "| `persons` | Passenger capacity (`2`, `4`, `more`) |\n",
    "| `lugboot` | Size of trunk (`small`, `med`, `big`) |\n",
    "| `safety`  | Safety rating (`low`, `med`, `high`) |\n",
    "\n",
    "The target variable is `accep`, which indicates whether a car is acceptable (True) or unacceptable (False).\n",
    "\n",
    "By combining multiple trees through bagging, a random forest achieves higher stability, reduces overfitting, and generally improves predictive accuracy compared to individual decision trees.\n"
   ]
  },
  {
   "cell_type": "code",
   "execution_count": 12,
   "id": "febb5c1d",
   "metadata": {},
   "outputs": [],
   "source": [
    "from sklearn.metrics import accuracy_score"
   ]
  },
  {
   "cell_type": "code",
   "execution_count": 14,
   "id": "724c1e57",
   "metadata": {},
   "outputs": [
    {
     "name": "stdout",
     "output_type": "stream",
     "text": [
      "Checkpoint 1 — DT@full-train accuracy: 0.8588\n"
     ]
    }
   ],
   "source": [
    "# -------------------------------------------------------\n",
    "# ✅ Checkpoint 1\n",
    "# Train a decision tree with max_depth=5 and evaluate accuracy on test data.\n",
    "# -------------------------------------------------------\n",
    "dt = DecisionTreeClassifier(max_depth=5, random_state=0)\n",
    "dt.fit(x_train, y_train)\n",
    "y_pred = dt.predict(x_test)\n",
    "base_acc = accuracy_score(y_test, y_pred)\n",
    "print(f\"Checkpoint 1 — DT@full-train accuracy: {base_acc:.4f}\")"
   ]
  },
  {
   "cell_type": "code",
   "execution_count": 15,
   "id": "f9cdc1a1",
   "metadata": {},
   "outputs": [
    {
     "name": "stdout",
     "output_type": "stream",
     "text": [
      "Checkpoint 2 — DT@bootstrap(rs=0) accuracy: 0.8912\n"
     ]
    }
   ],
   "source": [
    "# -------------------------------------------------------\n",
    "# ✅ Checkpoint 2\n",
    "# Use a provided bootstrapped set of indices (random_state=0) to fit another tree.\n",
    "# Evaluate accuracy on the test set for this new classifier.\n",
    "# -------------------------------------------------------\n",
    "# This gives us back the indices of the new sampled distribution\n",
    "ids = x_train.sample(len(x_train), replace=True, random_state=0).index\n",
    "dt_boot = DecisionTreeClassifier(max_depth=5, random_state=0)\n",
    "# the list of indices get applied to the x_train and y_train to assure \n",
    "# that the right combination of x and y are used for the training\n",
    "dt_boot.fit(x_train.loc[ids], y_train.loc[ids])\n",
    "boot_pred = dt_boot.predict(x_test)\n",
    "boot_acc = accuracy_score(y_test, boot_pred)\n",
    "print(f\"Checkpoint 2 — DT@bootstrap(rs=0) accuracy: {boot_acc:.4f}\")"
   ]
  },
  {
   "cell_type": "code",
   "execution_count": 16,
   "id": "f024dcf2",
   "metadata": {},
   "outputs": [
    {
     "name": "stdout",
     "output_type": "stream",
     "text": [
      "[ True  True False False False  True False False  True  True False False\n",
      "  True False False  True  True False  True False  True  True  True False\n",
      " False False False False  True False  True  True False  True  True False\n",
      "  True False False False False False False False  True False False  True\n",
      " False False False  True False False False False False False False  True\n",
      "  True  True False  True  True  True False False False False False  True\n",
      "  True False  True  True False  True  True False  True  True False False\n",
      "  True False False  True False False False  True  True False False  True\n",
      " False  True  True  True False  True  True False  True  True  True  True\n",
      " False False False False  True  True False  True  True False False False\n",
      " False False  True False False False False  True  True False False False\n",
      "  True False False False False False  True False False False False False\n",
      " False False  True False False  True  True  True False False False False\n",
      " False False False False  True False False False  True False False False\n",
      " False False False False False False  True False False False False False\n",
      "  True  True False False  True False  True False False False False False\n",
      " False  True False False False  True False  True False  True  True False\n",
      " False False False False False False False  True False False False False\n",
      " False  True False False False False False  True False False False  True\n",
      " False False False False  True False  True False  True  True False False\n",
      " False False False False  True False  True False False False False False\n",
      "  True  True  True  True  True False False False  True False  True  True\n",
      " False False  True False  True False False False False False  True False\n",
      " False False  True False False False  True False False  True False  True\n",
      "  True False False False False False False False False False False  True\n",
      " False  True  True  True  True False  True False  True False  True  True\n",
      " False False  True False  True False False  True False False  True False\n",
      "  True  True  True False False False  True False  True False  True False\n",
      " False  True  True False False  True False  True False  True False False\n",
      "  True False  True False False  True  True False False  True False  True\n",
      " False  True False False  True  True  True  True False  True False False\n",
      " False  True False False False  True  True False  True False  True False\n",
      " False False  True False False False False False False  True False False\n",
      "  True False False  True False  True False False  True False False False\n",
      "  True  True False False False  True False False  True False False  True\n",
      " False  True  True False False False  True False False  True False  True]\n"
     ]
    }
   ],
   "source": [
    "# -------------------------------------------------------\n",
    "# ✅ Checkpoint 3\n",
    "# Build 10 different bootstrapped trees in a loop.\n",
    "# Save each test-set prediction (y_pred) into 'preds'.\n",
    "# Take the average (bagging) and store as 'ba_pred' (will be floats in [0,1]).\n",
    "# -------------------------------------------------------\n",
    "preds = []\n",
    "for i in range(10):\n",
    "    # New bootstrap sample with a different seed each iteration\n",
    "    ids_i = x_train.sample(len(x_train), replace=True, random_state=i).index\n",
    "    tree_i = DecisionTreeClassifier(max_depth=5, random_state=i)\n",
    "    tree_i.fit(x_train.loc[ids_i], y_train.loc[ids_i])\n",
    "    # This appends a list of True and False to pred\n",
    "    preds.append(tree_i.predict(x_test))  # 0/1 array\n",
    "\n",
    "preds = np.array(preds)             # shape: (10, n_test)\n",
    "print(preds[0])"
   ]
  },
  {
   "cell_type": "code",
   "execution_count": 17,
   "id": "3d65218b",
   "metadata": {},
   "outputs": [
    {
     "data": {
      "text/plain": [
       "(10, 432)"
      ]
     },
     "execution_count": 17,
     "metadata": {},
     "output_type": "execute_result"
    }
   ],
   "source": [
    "preds.shape"
   ]
  },
  {
   "cell_type": "code",
   "execution_count": 18,
   "id": "c3ea0a60",
   "metadata": {},
   "outputs": [],
   "source": [
    "# turns boolean into numbers, how? True is a 1 and False is a 0, so the mean calculates the average column-wise\n",
    "# being preds.shape == (10, 432), it returns an array oflen 432, \n",
    "# with the average of the predictions (True/False or 1/0) for the 10 trees\n",
    "ba_pred = preds.mean(axis=0)        # averaged predictions (floats)"
   ]
  },
  {
   "cell_type": "code",
   "execution_count": 19,
   "id": "238ea467",
   "metadata": {},
   "outputs": [
    {
     "name": "stdout",
     "output_type": "stream",
     "text": [
      "Checkpoint 4 — Bagged(10) accuracy: 0.9097\n",
      "\n",
      "Summary:\n",
      "  Single DT (full train):       0.8588\n",
      "  Single DT (bootstrap rs=0):   0.8912\n",
      "  Bagged DTs (10 models):       0.9097\n"
     ]
    }
   ],
   "source": [
    "# -------------------------------------------------------\n",
    "# ✅ Checkpoint 4\n",
    "# Compute accuracy of the bagged predictions.\n",
    "# Note: 'ba_pred' is averaged (floats), so threshold at 0.5 to get binary labels.\n",
    "# -------------------------------------------------------\n",
    "# this turns once more the numbers int boolean, \n",
    "# giving back an array of True if the value is >= 0.5 (half of the tree returned True > makority vote)\n",
    "# otherwise giving False\n",
    "ba_accuracy = accuracy_score(ba_pred>=0.5, y_test)\n",
    "print(f\"Checkpoint 4 — Bagged(10) accuracy: {ba_accuracy:.4f}\")\n",
    "\n",
    "# (Optional) Quick summary\n",
    "print(\"\\nSummary:\")\n",
    "print(f\"  Single DT (full train):       {base_acc:.4f}\")\n",
    "print(f\"  Single DT (bootstrap rs=0):   {boot_acc:.4f}\")\n",
    "print(f\"  Bagged DTs (10 models):       {ba_accuracy:.4f}\")"
   ]
  },
  {
   "cell_type": "markdown",
   "id": "2d25693e",
   "metadata": {},
   "source": [
    "**What the code is doing (step-by-step)**\n",
    "\n",
    "preds construction\n",
    "\n",
    "Each loop trains a DecisionTreeClassifier on a bootstrapped version of x_train, y_train.\n",
    "\n",
    "dt.predict(x_test) returns a vector of booleans (True/False) because your y is boolean.\n",
    "\n",
    "preds becomes a list of 10 such vectors → shape (10, len(x_test)), e.g. (10, 432).\n",
    "\n",
    "Averaging predictions\n",
    "\n",
    "np.array(preds) converts to a 2D boolean array; in NumPy, True→1, False→0.\n",
    "\n",
    "mean(0) computes the per-sample average across trees, i.e. the fraction of trees voting True for each test point.\n",
    "\n",
    "ba_pred ∈ [0,1] for each sample (e.g., 0.7 means 7/10 trees predicted True).\n",
    "\n",
    "Majority vote via thresholding\n",
    "\n",
    "(ba_pred >= 0.5) converts those fractions back to booleans (majority voting).\n",
    "\n",
    "So you’re not comparing booleans to numbers in accuracy_score; you’ve converted the numbers to booleans first.\n",
    "\n",
    "Accuracy computation\n",
    "\n",
    "accuracy_score(y_true, y_pred) compares two boolean arrays element-wise and reports the fraction equal.\n",
    "\n",
    "In your call you wrote accuracy_score(ba_pred>=0.5, y_test). It still works (symmetry), but the conventional order is accuracy_score(y_test, ba_pred>=0.5)."
   ]
  },
  {
   "cell_type": "markdown",
   "id": "69c1e3b1",
   "metadata": {},
   "source": [
    "# Random Feature Selection\n",
    "\n",
    "In addition to bootstrapping samples from the dataset, we can introduce further variability by randomly selecting which features are used to train each tree.\n",
    "\n",
    "For the car dataset, the original features are:\n",
    "\n",
    "- Price of the car: “vhigh”, “high”, “med”, or “low”  \n",
    "- Maintenance cost: “vhigh”, “high”, “med”, or “low”  \n",
    "- Number of doors: “2”, “3”, “4”, or “5more”  \n",
    "- Capacity (number of people): “2”, “4”, or “more”  \n",
    "- Trunk size: “small”, “med”, or “big”  \n",
    "- Safety rating: “low”, “med”, or “high”\n",
    "\n",
    "The target variable, `accep`, represents whether a car is acceptable (`True` or `False`).  \n",
    "After dummy encoding the categorical features, the dataset contains 15 total features for training (`x_train`) and testing (`x_test`).\n",
    "\n",
    "When using a single decision tree, all available features are considered at each split, and the best one is chosen based on the highest information gain.  \n",
    "However, in ensemble methods like Random Forests, **randomly selecting a subset of fea**\n"
   ]
  },
  {
   "cell_type": "code",
   "execution_count": 20,
   "id": "ed8ef93f",
   "metadata": {},
   "outputs": [
    {
     "name": "stdout",
     "output_type": "stream",
     "text": [
      "Accuracy of DT on test set (full feature set):\n",
      "0.9467592592592593\n"
     ]
    }
   ],
   "source": [
    "# ------------------------------------------------------------\n",
    "# Random Feature Selection with Aggregated Predictions (Ensemble)\n",
    "# ------------------------------------------------------------\n",
    "# Goal:\n",
    "# Embed the step-by-step instructions directly into executable code,\n",
    "# with clear, numbered comments aligned to the checkpoints.\n",
    "\n",
    "# Train/test split\n",
    "x_train, x_test, y_train, y_test = train_test_split(\n",
    "    X, y, random_state=0, test_size=0.25\n",
    ")\n",
    "\n",
    "# ----------------------------\n",
    "# Baseline Decision Tree (All Features)\n",
    "# ----------------------------\n",
    "# Train a baseline tree using the full feature set and evaluate on the test set\n",
    "dt = DecisionTreeClassifier()\n",
    "dt.fit(x_train, y_train)\n",
    "accuracy_dt = dt.score(x_test, y_test)\n",
    "print(\"Accuracy of DT on test set (full feature set):\")\n",
    "print(accuracy_dt)"
   ]
  },
  {
   "cell_type": "code",
   "execution_count": 21,
   "id": "4afa6522",
   "metadata": {},
   "outputs": [
    {
     "name": "stdout",
     "output_type": "stream",
     "text": [
      "Accuracy of DT on test set (random feature sample):\n",
      "0.7291666666666666\n"
     ]
    }
   ],
   "source": [
    "# ============================================================\n",
    "# Checkpoint 1\n",
    "# ============================================================\n",
    "# Step 1.1: Create a random sample of 10 features from the 15 total features\n",
    "rand_features = np.random.choice(x_train.columns, 10)\n",
    "\n",
    "# Step 1.2: Define a new decision tree classifier (no pre-selected hyperparameters)\n",
    "dt2 = DecisionTreeClassifier()\n",
    "\n",
    "# Step 1.3: Train dt2 ONLY on the selected random feature subset\n",
    "dt2.fit(x_train[rand_features], y_train)\n",
    "\n",
    "# Step 1.4: Evaluate on the test set using ONLY those same features\n",
    "accuracy_dt2 = dt2.score(x_test[rand_features], y_test)\n",
    "print(\"Accuracy of DT on test set (random feature sample):\")\n",
    "print(accuracy_dt2)"
   ]
  },
  {
   "cell_type": "code",
   "execution_count": 22,
   "id": "dc74cb44",
   "metadata": {},
   "outputs": [],
   "source": [
    "# ============================================================\n",
    "# Checkpoint 2\n",
    "# ============================================================\n",
    "# Step 2.1: Initialize a container for predictions from 10 different random-feature trees\n",
    "predictions = []\n",
    "\n",
    "# Step 2.2: Loop ten times; each iteration:\n",
    "#   - Selects 10 random features\n",
    "#   - Fits dt2 on the corresponding training subset\n",
    "#   - Appends predictions on the corresponding test subset\n",
    "for _ in range(10):\n",
    "    rand_features = np.random.choice(x_train.columns, 10)\n",
    "    dt2.fit(x_train[rand_features], y_train)\n",
    "    preds = dt2.predict(x_test[rand_features])\n",
    "    predictions.append(preds)\n",
    "\n",
    "# Convert list of arrays into a 2D NumPy array of shape (10, n_samples)\n",
    "predictions = np.array(predictions)"
   ]
  },
  {
   "cell_type": "code",
   "execution_count": 23,
   "id": "1c64e2d8",
   "metadata": {},
   "outputs": [
    {
     "name": "stdout",
     "output_type": "stream",
     "text": [
      "Accuracy of aggregated predictions from 10 random-feature trees:\n",
      "0.7175925925925926\n"
     ]
    }
   ],
   "source": [
    "# ============================================================\n",
    "# Checkpoint 3\n",
    "# ============================================================\n",
    "# Step 3.1: Compute the mean prediction per sample across the 10 classifiers.\n",
    "#           Since it's binary (False/True → 0/1), this acts like a probability.\n",
    "prob_predictions = predictions.mean(axis=0)\n",
    "\n",
    "# Step 3.2: Aggregate to a final class prediction using majority vote (> 0.5 → True)\n",
    "agg_predictions = prob_predictions > 0.5\n",
    "\n",
    "# Step 3.3: Compute accuracy of the aggregated predictions\n",
    "# NOTE: accuracy_score expects (y_true, y_pred)\n",
    "agg_accuracy = accuracy_score(y_test, agg_predictions)\n",
    "\n",
    "print(\"Accuracy of aggregated predictions from 10 random-feature trees:\")\n",
    "print(agg_accuracy)"
   ]
  },
  {
   "cell_type": "markdown",
   "id": "d266e94a",
   "metadata": {},
   "source": [
    "**Why the accuracy drops when using random feature subsets**\n",
    "\n",
    "Your experiment tests three setups:\n",
    "1) Single tree with all features\n",
    "2) Single tree with a random subset of features\n",
    "3) An ensemble of 10 trees, each trained on a random subset of features\n",
    "\n",
    "Why accuracy often decreases in this demo\n",
    "\n",
    "- You weakened each tree without enough pay-off  \n",
    "  Limiting features reduces each tree’s strength. Ensembles win when many *reasonably strong* but *less correlated* trees are combined. With only 10 trees, the strength loss can outweigh the benefit.\n",
    "\n",
    "- Randomness is at the tree level, not the split level  \n",
    "  True Random Forests sample a subset of features at *every split*, creating much stronger decorrelation than picking 10 columns once per tree.\n",
    "\n",
    "- No bootstrapping of rows  \n",
    "  Random Forests also sample rows with replacement (bagging). Only randomizing features gives less diversity and weaker variance reduction.\n",
    "\n",
    "- Hard votes instead of probability averaging  \n",
    "  Averaging `predict` (hard 0/1) and thresholding at 0.5 discards uncertainty. Averaging `predict_proba` and then thresholding is usually better.\n",
    "\n",
    "- Single train/test split variance  \n",
    "  A plain tree can “luck out” on a particular split. Small datasets and a single split can mask the true generalization effect—use cross-validation.\n",
    "\n",
    "- Threshold and class imbalance  \n",
    "  If classes are imbalanced, a 0.5 threshold may be suboptimal. Metrics like AUC, F1, or balanced accuracy can give a fairer picture.\n",
    "\n",
    "What’s missing compared to a proper Random Forest\n",
    "\n",
    "- Feature subsampling at every split (`max_features`)\n",
    "- Row bootstrapping (`bootstrap=True`)\n",
    "- Many trees (typically 100–1000+)\n",
    "- Probability averaging (or majority vote across many trees)\n",
    "- Regularized trees (e.g., `max_depth`, `min_samples_leaf`) to reduce overfitting\n",
    "\n",
    "How to make the ensemble actually help\n",
    "\n",
    "1) Use a proper Random Forest\n",
    "\n",
    "2) If keeping your custom loop, average probabilities and add bootstrapping\n",
    "\n",
    "3) Evaluate robustly\n",
    "\n",
    "- Use stratified k-fold cross-validation to reduce split-specific noise.\n",
    "\n",
    "- Consider balanced accuracy, F1, or AUC, and tune the decision threshold if needed."
   ]
  },
  {
   "cell_type": "markdown",
   "id": "0d49317a",
   "metadata": {},
   "source": [
    "# Bagging in scikit-learn\n",
    "\n",
    "Bagging (“bootstrap aggregating”) combines two ideas we explored: training base learners on bootstrapped samples and (optionally) using random subsets of features. Doing both increases diversity among the learners and typically improves generalization by reducing variance while keeping bias roughly similar.\n",
    "\n",
    "In scikit-learn, this is implemented with `BaggingClassifier`. You provide:\n",
    "- the base model to bag (e.g., a `DecisionTreeClassifier(max_depth=5)`),\n",
    "- how many models to train (`n_estimators`),\n",
    "- how many samples/features each model sees (`max_samples`, `max_features`),\n",
    "- whether to sample rows/features with replacement (`bootstrap`, `bootstrap_features`).\n",
    "\n",
    "After instantiation, you use `.fit()`, `.predict()`, and `.score()` as usual.\n",
    "\n",
    "Example (decision tree as base estimator, depth 5):\n",
    "```python\n",
    "from sklearn.ensemble import BaggingClassifier\n",
    "from sklearn.tree import DecisionTreeClassifier\n",
    "\n",
    "base_tree = DecisionTreeClassifier(max_depth=5, random_state=0)\n",
    "\n",
    "bag = BaggingClassifier(\n",
    "    base_estimator=base_tree,   # in newer versions: estimator=base_tree\n",
    "    n_estimators=100,           # number of bootstrapped trees\n",
    "    max_samples=1.0,            # fraction or count of rows per tree\n",
    "    max_features=1.0,           # fraction or count of features per tree\n",
    "    bootstrap=True,             # sample rows with replacement\n",
    "    bootstrap_features=False,   # (optional) sample features with replacement\n",
    "    n_jobs=-1,                  # use all cores\n",
    "    random_state=0\n",
    ")\n",
    "\n",
    "bag.fit(x_train, y_train)\n",
    "test_accuracy = bag.score(x_test, y_test)\n",
    "print(test_accuracy)\n"
   ]
  },
  {
   "cell_type": "code",
   "execution_count": 24,
   "id": "8741ea85",
   "metadata": {},
   "outputs": [],
   "source": [
    "# ------------------------------------------------------------\n",
    "# Bagging in scikit-learn — Checkpoints with Embedded Instructions\n",
    "# ------------------------------------------------------------\n",
    "# Goal: Implement bagging with different base estimators and feature sampling,\n",
    "# and report test accuracy for each configuration.\n",
    "\n",
    "# Train/test split (fixed random_state for reproducibility)\n",
    "x_train, x_test, y_train, y_test = train_test_split(\n",
    "    X, y, random_state=0, test_size=0.25, stratify=y\n",
    ")"
   ]
  },
  {
   "cell_type": "code",
   "execution_count": 28,
   "id": "0be0a54b",
   "metadata": {},
   "outputs": [],
   "source": [
    "from sklearn.ensemble import RandomForestClassifier, BaggingClassifier, RandomForestRegressor"
   ]
  },
  {
   "cell_type": "code",
   "execution_count": 30,
   "id": "beec79a0",
   "metadata": {},
   "outputs": [
    {
     "name": "stdout",
     "output_type": "stream",
     "text": [
      "Accuracy score of Bagged DT (10 estimators, all features):\n",
      "0.9189814814814815\n"
     ]
    }
   ],
   "source": [
    "# ------------------------------------------------------------\n",
    "# Checkpoint 1\n",
    "# ------------------------------------------------------------\n",
    "# Step 1.1: Instantiate BaggingClassifier with DecisionTreeClassifier(max_depth=5)\n",
    "#           Use 10 estimators; bootstrap rows (default True); use all features per estimator.\n",
    "bag_dt = BaggingClassifier(\n",
    "    DecisionTreeClassifier(max_depth=5, random_state=0),\n",
    "    n_estimators=10,\n",
    "    n_jobs=-1,\n",
    "    random_state=0\n",
    ")\n",
    "\n",
    "# Step 1.2: Fit on training data\n",
    "bag_dt.fit(x_train, y_train)\n",
    "\n",
    "# Step 1.3: Evaluate on test data; store & print bag_accuracy\n",
    "bag_accuracy = bag_dt.score(x_test, y_test)\n",
    "print('Accuracy score of Bagged DT (10 estimators, all features):')\n",
    "print(bag_accuracy)"
   ]
  },
  {
   "cell_type": "code",
   "execution_count": 32,
   "id": "cde5573c",
   "metadata": {},
   "outputs": [
    {
     "name": "stdout",
     "output_type": "stream",
     "text": [
      "Accuracy score of Bagged DT (10 estimators, max_features=10):\n",
      "0.8773148148148148\n"
     ]
    }
   ],
   "source": [
    "# ------------------------------------------------------------\n",
    "# Checkpoint 2\n",
    "# ------------------------------------------------------------\n",
    "# Step 2.1: Instantiate BaggingClassifier with max_features=10\n",
    "#           (each base estimator gets a random subset of 10 features)\n",
    "bag_dt_10 = BaggingClassifier(\n",
    "    DecisionTreeClassifier(max_depth=5, random_state=0),\n",
    "    n_estimators=10,\n",
    "    max_features=10,        # draw 10 features (count) per estimator\n",
    "    n_jobs=-1,\n",
    "    random_state=0\n",
    ")\n",
    "\n",
    "# Step 2.2: Fit and evaluate; store & print bag_accuracy_10\n",
    "bag_dt_10.fit(x_train, y_train)\n",
    "bag_accuracy_10 = bag_dt_10.score(x_test, y_test)\n",
    "print('Accuracy score of Bagged DT (10 estimators, max_features=10):')\n",
    "print(bag_accuracy_10)"
   ]
  },
  {
   "cell_type": "code",
   "execution_count": 34,
   "id": "2045dcfe",
   "metadata": {},
   "outputs": [],
   "source": [
    "from sklearn.linear_model import LogisticRegression"
   ]
  },
  {
   "cell_type": "code",
   "execution_count": 35,
   "id": "3af42f52",
   "metadata": {},
   "outputs": [
    {
     "name": "stdout",
     "output_type": "stream",
     "text": [
      "Accuracy score of Bagged Logistic Regression (10 estimators, max_features=10):\n",
      "0.8611111111111112\n"
     ]
    }
   ],
   "source": [
    "# ------------------------------------------------------------\n",
    "# Checkpoint 3\n",
    "# ------------------------------------------------------------\n",
    "# Step 3.1: Change base estimator to LogisticRegression()\n",
    "#           Use solver suited for small/medium data; increase max_iter for convergence.\n",
    "bag_lr = BaggingClassifier(\n",
    "    LogisticRegression(\n",
    "        solver='liblinear',   # robust on small dense data\n",
    "        max_iter=1000,\n",
    "        random_state=0\n",
    "    ),\n",
    "    n_estimators=10,\n",
    "    max_features=10,\n",
    "    n_jobs=-1,\n",
    "    random_state=0\n",
    ")\n",
    "\n",
    "# Step 3.2: Fit and evaluate; store & print bag_accuracy_lr\n",
    "bag_lr.fit(x_train, y_train)\n",
    "bag_accuracy_lr = bag_lr.score(x_test, y_test)\n",
    "print('Accuracy score of Bagged Logistic Regression (10 estimators, max_features=10):')\n",
    "print(bag_accuracy_lr)"
   ]
  },
  {
   "cell_type": "markdown",
   "id": "a2795712",
   "metadata": {},
   "source": [
    "# Random Forests: Train and Predict using scikit-learn\n",
    "\n",
    "Random forests combine decision trees using two kinds of randomness:\n",
    "- **Row sampling (bagging):** each tree is trained on a bootstrapped sample of the training data.\n",
    "- **Feature sampling at every split:** instead of choosing one random set of features once per tree, **each split** considers a fresh random subset of features.\n",
    "\n",
    "How split-level feature sampling works\n",
    "- First split: pick a random subset of features (e.g., price, doors, safety), choose the best splitter among them.\n",
    "- Next split(s): pick a **new** random subset (e.g., maint, doors, trunk), choose the best splitter, and continue until the tree is complete.\n",
    "- This per-split randomness reduces correlation among trees while keeping trees relatively strong.\n",
    "\n",
    "Choosing how many features per split\n",
    "- A common rule of thumb for classification: use about **\\(\\sqrt{d}\\)** features at each split, where \\(d\\) is the total number of features.\n",
    "- Example: if \\(d = 25\\), consider **5** features per split.\n",
    "- Small feature sets may limit how closely you can follow this rule, but the principle still applies.\n",
    "\n",
    "Using `RandomForestClassifier` in scikit-learn\n",
    "- `RandomForestClassifier` (from `sklearn.ensemble`) implements both bagging and split-level feature sampling for you.\n",
    "- The API mirrors `DecisionTreeClassifier`: use `.fit()`, `.predict()`, and `.score()` in the same way.\n",
    "\n",
    "Example:\n",
    "```python\n",
    "from sklearn.ensemble import RandomForestClassifier\n",
    "\n",
    "rf = RandomForestClassifier(\n",
    "    n_estimators=300,     # number of trees\n",
    "    max_features='sqrt', # ~ sqrt(d) features per split\n",
    "    bootstrap=True,      # bootstrapped row samples\n",
    "    n_jobs=-1,           # parallelism\n",
    "    random_state=0\n",
    ")\n",
    "\n",
    "rf.fit(x_train, y_train)\n",
    "test_acc = rf.score(x_test, y_test)\n",
    "print(test_acc)\n"
   ]
  },
  {
   "cell_type": "code",
   "execution_count": 40,
   "id": "88b2eb57",
   "metadata": {},
   "outputs": [],
   "source": [
    "# ------------------------------------------------------------\n",
    "# Random Forest — Training, Prediction, and Evaluation Metrics\n",
    "# ------------------------------------------------------------\n",
    "# Checkpoint 1:\n",
    "#   Create a RandomForestClassifier with default parameters,\n",
    "#   retrieve parameters via .get_params(), store as rf_params, and print.\n",
    "#\n",
    "# Checkpoint 2:\n",
    "#   Fit on training data; predict on x_test into y_pred;\n",
    "#   compute accuracy as rf_accuracy and print.\n",
    "#\n",
    "# Checkpoint 3:\n",
    "#   Compute precision, recall, and confusion matrix on test set;\n",
    "#   store as rf_precision, rf_recall, rf_confusion_matrix; print.\n",
    "# ------------------------------------------------------------\n",
    "\n",
    "# Imports\n",
    "from sklearn.metrics import (\n",
    "    confusion_matrix, accuracy_score, precision_score, recall_score\n",
    ")"
   ]
  },
  {
   "cell_type": "code",
   "execution_count": 41,
   "id": "6075e306",
   "metadata": {},
   "outputs": [],
   "source": [
    "# Train/test split\n",
    "x_train, x_test, y_train, y_test = train_test_split(\n",
    "    X, y, random_state=0, test_size=0.25\n",
    ")"
   ]
  },
  {
   "cell_type": "code",
   "execution_count": 42,
   "id": "3d837e35",
   "metadata": {},
   "outputs": [
    {
     "name": "stdout",
     "output_type": "stream",
     "text": [
      "Random Forest parameters:\n",
      "{'bootstrap': True, 'ccp_alpha': 0.0, 'class_weight': None, 'criterion': 'gini', 'max_depth': None, 'max_features': 'sqrt', 'max_leaf_nodes': None, 'max_samples': None, 'min_impurity_decrease': 0.0, 'min_samples_leaf': 1, 'min_samples_split': 2, 'min_weight_fraction_leaf': 0.0, 'monotonic_cst': None, 'n_estimators': 100, 'n_jobs': None, 'oob_score': False, 'random_state': None, 'verbose': 0, 'warm_start': False}\n"
     ]
    }
   ],
   "source": [
    "# ------------------------------------------------------------\n",
    "# Checkpoint 1 — Instantiate RF and print parameters\n",
    "# ------------------------------------------------------------\n",
    "rf = RandomForestClassifier()     # default parameters\n",
    "rf_params = rf.get_params()       # retrieve parameters dictionary\n",
    "print('Random Forest parameters:')\n",
    "print(rf_params)"
   ]
  },
  {
   "cell_type": "code",
   "execution_count": 43,
   "id": "df909d08",
   "metadata": {},
   "outputs": [
    {
     "name": "stdout",
     "output_type": "stream",
     "text": [
      "Test set accuracy:\n",
      "0.9398148148148148\n"
     ]
    }
   ],
   "source": [
    "# ------------------------------------------------------------\n",
    "# Checkpoint 2 — Fit, predict, and compute accuracy\n",
    "# ------------------------------------------------------------\n",
    "rf.fit(x_train, y_train)          # train on bootstrapped trees by default\n",
    "y_pred = rf.predict(x_test)       # predicted classes on test set\n",
    "# Either rf.score(...) or accuracy_score(...), both are fine:\n",
    "rf_accuracy = rf.score(x_test, y_test)\n",
    "print('Test set accuracy:')\n",
    "print(rf_accuracy)"
   ]
  },
  {
   "cell_type": "code",
   "execution_count": 44,
   "id": "a904cc91",
   "metadata": {},
   "outputs": [
    {
     "name": "stdout",
     "output_type": "stream",
     "text": [
      "Test set precision: 0.9435483870967742\n",
      "Test set recall: 0.8602941176470589\n",
      "Test set confusion matrix:\n",
      "[[289   7]\n",
      " [ 19 117]]\n"
     ]
    }
   ],
   "source": [
    "# ------------------------------------------------------------\n",
    "# Checkpoint 3 — Precision, Recall, Confusion Matrix\n",
    "# ------------------------------------------------------------\n",
    "rf_precision = precision_score(y_test, y_pred)\n",
    "print(f'Test set precision: {rf_precision}')\n",
    "rf_recall = recall_score(y_test, y_pred)\n",
    "print(f'Test set recall: {rf_recall}')\n",
    "rf_confusion_matrix = confusion_matrix(y_test, y_pred)\n",
    "print('Test set confusion matrix:')\n",
    "print(rf_confusion_matrix)"
   ]
  },
  {
   "cell_type": "markdown",
   "id": "b6d57307",
   "metadata": {},
   "source": [
    "# Random Forest Regressor\n",
    "\n",
    "Random forests can be used for **regression** when the target variable is continuous (e.g., a numeric `price`) rather than categorical (e.g., acceptable vs not acceptable). In this setup, each tree predicts a numeric value, and the forest’s prediction is the **average** of the individual trees’ outputs.\n",
    "\n",
    "Key differences vs. classification\n",
    "- **Target type:** continuous values (regression) instead of class labels (classification).\n",
    "- **Aggregation:** average of tree predictions (regression) vs. majority vote or probability averaging (classification).\n",
    "- **Loss/criteria:** trees typically optimize variance reduction (e.g., MSE-based splits) rather than impurity (e.g., Gini/entropy).\n",
    "\n",
    "Using `RandomForestRegressor` (scikit-learn)\n",
    "- Import from `sklearn.ensemble` and use the same workflow as classifiers: `.fit()`, `.predict()`, `.score()`.\n",
    "- The default `.score()` for regressors is the **\\(R^2\\)** (coefficient of determination).\n",
    "\n",
    "Default evaluation: \\(R^2\\)\n",
    "- Measures proportion of variance explained by the model:\n",
    "  \n",
    "  $$\n",
    "  R^2 \\;=\\; 1 - \\frac{\\sum_{i=1}^{n}\\left(y_i - \\hat{y}_i\\right)^2}{\\sum_{i=1}^{n}\\left(y_i - \\bar{y}\\right)^2}\n",
    "  $$\n",
    "  \n",
    "  where \\(y_i\\) are true values, \\(\\hat{y}_i\\) are predictions, and \\(\\bar{y}\\) is the mean of \\(y\\).\n",
    "- Values close to 1 indicate better fit; values \\(\\le 0\\) indicate the model performs no better (or worse) than predicting the mean.\n",
    "\n",
    "Other useful regression metrics\n",
    "- **MSE:** \\( \\text{MSE} = \\frac{1}{n}\\sum_{i=1}^{n} (y_i - \\hat{y}_i)^2 \\)\n",
    "- **RMSE:** \\( \\text{RMSE} = \\sqrt{\\text{MSE}} \\)\n",
    "- **MAE:** \\( \\text{MAE} = \\frac{1}{n}\\sum_{i=1}^{n} |y_i - \\hat{y}_i| \\)\n",
    "\n",
    "Practical notes\n",
    "- The example uses a synthetic continuous `price` to illustrate regression on the same car features.\n",
    "- Typical knobs: `n_estimators`, `max_depth`, `min_samples_leaf`, and `max_features` (often set to `sqrt(d)` or a fraction).\n",
    "- Random forests are robust to nonlinearity and feature interactions; they require minimal preprocessing and handle mixed feature types well (use one-hot encoding for categoricals).\n"
   ]
  },
  {
   "cell_type": "code",
   "execution_count": 45,
   "id": "a6113241",
   "metadata": {},
   "outputs": [
    {
     "name": "stdout",
     "output_type": "stream",
     "text": [
      "Train set R^2: 0.9765\n",
      "Test set R^2:  0.8064\n",
      "Average price (overall): 36,495.70\n",
      "Train set MAE:           1,633.02\n",
      "Test set MAE:            4,678.91\n"
     ]
    }
   ],
   "source": [
    "# ------------------------------------------------------------\n",
    "# Random Forest Regressor — Training, Scoring (R^2), and MAE\n",
    "# ------------------------------------------------------------\n",
    "# Checkpoint 1:\n",
    "#   1) Initialize RandomForestRegressor() as rfr\n",
    "#   2) Fit on (x_train, y_train)\n",
    "#   3) Compute default scores (R^2) on train and test:\n",
    "#      - r_squared_train, r_squared_test\n",
    "#   4) Print both R^2 values\n",
    "#\n",
    "# Checkpoint 2:\n",
    "#   1) Compute average price of all cars: avg_price\n",
    "#   2) Compute MAE on train and test:\n",
    "#      - mae_train, mae_test\n",
    "#   3) Print avg_price, mae_train, mae_test\n",
    "# ------------------------------------------------------------\n",
    "\n",
    "# Imports\n",
    "import pandas as pd\n",
    "import numpy as np\n",
    "\n",
    "from sklearn.model_selection import train_test_split\n",
    "from sklearn.ensemble import RandomForestRegressor\n",
    "from sklearn.metrics import mean_absolute_error\n",
    "\n",
    "# ----------------------------\n",
    "# Data Loading & Feature Prep\n",
    "# ----------------------------\n",
    "# Load UCI Car Evaluation dataset (categorical features + acceptability label)\n",
    "df = pd.read_csv(\n",
    "    'https://archive.ics.uci.edu/ml/machine-learning-databases/car/car.data',\n",
    "    names=['buying', 'maint', 'doors', 'persons', 'lug_boot', 'safety', 'accep']\n",
    ")\n",
    "\n",
    "# (Not used in regression target, but kept for parity with earlier steps)\n",
    "df['accep'] = ~(df['accep'] == 'unacc')\n",
    "\n",
    "# One-hot encode the 6 categorical input features\n",
    "X = pd.get_dummies(df.iloc[:, 0:6], drop_first=True)\n",
    "\n",
    "# ------------------------------------------------------------\n",
    "# Create a synthetic continuous regression target `price`\n",
    "# ------------------------------------------------------------\n",
    "# For illustration only: synthetic prices with trend + noise\n",
    "rng = np.random.default_rng(0)\n",
    "fake_prices = 15000 + 25 * df.index.values + rng.normal(0, 5000, size=df.shape[0])\n",
    "df['price'] = fake_prices\n",
    "y = df['price']\n",
    "\n",
    "# Train/test split\n",
    "x_train, x_test, y_train, y_test = train_test_split(\n",
    "    X, y, random_state=0, test_size=0.25\n",
    ")\n",
    "\n",
    "# ------------------------------------------------------------\n",
    "# Checkpoint 1 — Train and Score (R^2)\n",
    "# ------------------------------------------------------------\n",
    "# Step 1.1: Initialize the Random Forest Regressor\n",
    "rfr = RandomForestRegressor(random_state=0)\n",
    "\n",
    "# Step 1.2: Fit the model on training data\n",
    "rfr.fit(x_train, y_train)\n",
    "\n",
    "# Step 1.3: Compute R^2 on train and test sets\n",
    "r_squared_train = rfr.score(x_train, y_train)\n",
    "r_squared_test = rfr.score(x_test, y_test)\n",
    "\n",
    "# Step 1.4: Print R^2 scores\n",
    "print(f\"Train set R^2: {r_squared_train:.4f}\")\n",
    "print(f\"Test set R^2:  {r_squared_test:.4f}\")\n",
    "\n",
    "# ------------------------------------------------------------\n",
    "# Checkpoint 2 — Average Price & Mean Absolute Error (MAE)\n",
    "# ------------------------------------------------------------\n",
    "# Step 2.1: Compute the average price over the whole dataset\n",
    "avg_price = y.mean()\n",
    "\n",
    "# Step 2.2: Predictions for MAE on train and test\n",
    "y_pred_train = rfr.predict(x_train)\n",
    "y_pred_test  = rfr.predict(x_test)\n",
    "\n",
    "# Step 2.3: Compute MAE on train and test sets\n",
    "mae_train = mean_absolute_error(y_train, y_pred_train)\n",
    "mae_test  = mean_absolute_error(y_test, y_pred_test)\n",
    "\n",
    "# Step 2.4: Print the mean price and both MAEs\n",
    "print(f\"Average price (overall): {avg_price:,.2f}\")\n",
    "print(f\"Train set MAE:           {mae_train:,.2f}\")\n",
    "print(f\"Test set MAE:            {mae_test:,.2f}\")\n"
   ]
  },
  {
   "cell_type": "markdown",
   "id": "35c514d6",
   "metadata": {},
   "source": [
    "# Final Remarks\n",
    "\n",
    "- **Why it works:** Averaging many de-correlated trees lowers variance and improves stability over a single decision tree.  \n",
    "- **Evaluate with multiple metrics:** Combine \\(R^2\\) with **MAE/RMSE** to gauge both explained variance and error magnitude.  \n",
    "- **Guardrails against overfitting:** Limit tree depth (`max_depth`) or enforce minimum leaf sizes (`min_samples_leaf`), and validate with cross-validation.  \n",
    "- **Feature considerations:** Try `max_features='sqrt'` or a fraction to increase tree diversity; review feature importances for sanity checks, not as causal proof.  \n",
    "- **Practical tuning:** Start with more trees (`n_estimators` 200–500), then adjust `max_depth` and `min_samples_leaf`; use `random_state` for reproducibility and `n_jobs=-1` for speed.  \n",
    "- **Next steps:** Add pipeline steps (scaling if needed for other models), perform grid/random search for hyperparameters, and compare against baselines and simpler regressors.\n",
    "\n",
    "Bottom line: `RandomForestRegressor` is a strong, low-maintenance baseline for nonlinear tabular regression—robust, interpretable enough to debug, and a solid benchmark for more advanced methods.\n"
   ]
  },
  {
   "cell_type": "code",
   "execution_count": null,
   "id": "31b22749",
   "metadata": {},
   "outputs": [],
   "source": []
  }
 ],
 "metadata": {
  "kernelspec": {
   "display_name": "Python 3 (ipykernel)",
   "language": "python",
   "name": "python3"
  },
  "language_info": {
   "codemirror_mode": {
    "name": "ipython",
    "version": 3
   },
   "file_extension": ".py",
   "mimetype": "text/x-python",
   "name": "python",
   "nbconvert_exporter": "python",
   "pygments_lexer": "ipython3",
   "version": "3.10.6"
  },
  "toc": {
   "base_numbering": 1,
   "nav_menu": {},
   "number_sections": true,
   "sideBar": true,
   "skip_h1_title": false,
   "title_cell": "Table of Contents",
   "title_sidebar": "Contents",
   "toc_cell": false,
   "toc_position": {},
   "toc_section_display": true,
   "toc_window_display": false
  }
 },
 "nbformat": 4,
 "nbformat_minor": 5
}
