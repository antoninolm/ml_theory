{
 "cells": [
  {
   "cell_type": "markdown",
   "id": "d886c050",
   "metadata": {},
   "source": [
    "<p style=\"text-align: center; font-size: 28px;\"><b>K-Means Clustering</b></p>\n",
    "\n",
    "K-means is a clustering algorithm that groups data into k clusters by iteratively assigning points to the nearest centroid and updating centroids to the mean of their assigned points. The process continues until the centroids stabilize, a condition known as convergence. The quality of clustering can be evaluated using inertia, which measures how tightly the points are grouped around the centroids. The elbow method is often used to choose the optimal number of clusters by finding the point where adding more clusters yields only small improvements in reducing inertia.\n",
    "```\n"
   ]
  },
  {
   "cell_type": "markdown",
   "id": "14b0f32b",
   "metadata": {},
   "source": [
    "# Introduction to Clustering\n",
    "\n",
    "In many real-world scenarios, data is not labeled or pre-categorized. Identifying patterns within this **unlabeled data** is a key challenge addressed by **unsupervised learning**.\n",
    "\n",
    "Clustering is one of the most widely used unsupervised learning techniques. It uncovers structure in data by grouping similar items into **clusters**.\n",
    "\n",
    "- Common Applications\n",
    "- **Recommendation engines**: group products to personalize user experience  \n",
    "- **Search engines**: organize news topics or search results  \n",
    "- **Market segmentation**: divide customers based on geography, demographics, or behavior  \n",
    "- **Image segmentation**: used in medical imaging and self-driving car vision systems  \n",
    "- **Text clustering**: group texts by word usage patterns  \n",
    "\n",
    "- Example: The Iris Dataset\n",
    "A classic dataset consists of measurements of sepals and petals from 50 iris flowers. Visualizations show that the flowers naturally form three distinct clusters. In this lesson, we’ll learn how to identify those clusters using **K-Means Clustering**."
   ]
  },
  {
   "cell_type": "markdown",
   "id": "22ac5fd9",
   "metadata": {},
   "source": [
    "# K-Means Clustering\n",
    "\n",
    "Clustering is a method for grouping data so that similar points are placed together, while dissimilar points are separated. This raises two central questions:\n",
    "\n",
    "1. How many groups should we create?\n",
    "2. How do we measure similarity?\n",
    "\n",
    "K-means is one of the most widely used algorithms designed to address these issues.\n",
    "\n",
    "* **k** represents the number of clusters (groups) to form.\n",
    "* **Means** refers to the average distance between data points and their cluster centers (centroids), which the algorithm minimizes.\n",
    "\n",
    "**Algorithm Steps:**\n",
    "\n",
    "1. Randomly place *k* centroids as initial cluster centers.\n",
    "2. Assign each data point to the nearest centroid.\n",
    "3. Recalculate centroids based on the current assignments.\n",
    "4. Repeat steps 2–3 until the centroids stop changing significantly (convergence).\n",
    "\n",
    "This process of updating assignments and centroids is known as **training**.\n",
    "\n",
    "After training, the algorithm can classify new, unlabeled data points by assigning them to the nearest centroid — this step is called **inference**.\n",
    "\n",
    "**Note:** Choosing the right number of clusters (*k*) is not always straightforward. For example, the illustration below shows data being separated into *k = 2* clusters.\n"
   ]
  },
  {
   "cell_type": "markdown",
   "id": "d768ed70",
   "metadata": {},
   "source": [
    "# Iris Dataset\n",
    "\n",
    "Before using the k-means algorithm, we first introduce the Iris dataset, a classic dataset in machine learning.\n",
    "\n",
    "It includes measurements of sepals and petals for three different species of iris plants:\n",
    "\n",
    "- Iris setosa  \n",
    "- Iris versicolor  \n",
    "- Iris virginica  \n",
    "\n",
    "**Biological context:**\n",
    "\n",
    "- The sepal protects the flower when it is still in the bud stage.  \n",
    "- The petal is typically colorful and leaflike.  \n",
    "\n",
    "**Dataset structure:**\n",
    "\n",
    "- Each row in the dataset represents one sample (a flower).  \n",
    "- Each column represents a feature (a measured characteristic):  \n",
    "  - Column 0: Sepal length  \n",
    "  - Column 1: Sepal width  \n",
    "  - Column 2: Petal length  \n",
    "  - Column 3: Petal width  \n",
    "\n",
    "In total, the dataset contains samples from all three species, which will later be clustered using k-means.\n"
   ]
  },
  {
   "cell_type": "code",
   "execution_count": 1,
   "id": "492eec96",
   "metadata": {},
   "outputs": [],
   "source": [
    "# Step 1: Import required libraries\n",
    "import matplotlib.pyplot as plt\n",
    "from sklearn import datasets"
   ]
  },
  {
   "cell_type": "code",
   "execution_count": 2,
   "id": "d58fe48b",
   "metadata": {},
   "outputs": [],
   "source": [
    "# Step 2: Load the Iris dataset from sklearn\n",
    "iris = datasets.load_iris()"
   ]
  },
  {
   "cell_type": "code",
   "execution_count": 3,
   "id": "412c835d",
   "metadata": {},
   "outputs": [
    {
     "name": "stdout",
     "output_type": "stream",
     "text": [
      "[[5.1 3.5 1.4 0.2]\n",
      " [4.9 3.  1.4 0.2]\n",
      " [4.7 3.2 1.3 0.2]\n",
      " [4.6 3.1 1.5 0.2]\n",
      " [5.  3.6 1.4 0.2]]\n"
     ]
    }
   ],
   "source": [
    "# Step 3: Print the first 5 rows of sample data\n",
    "# Each row corresponds to one flower, with features (sepal length, sepal width, petal length, petal width)\n",
    "print(iris.data[:5])"
   ]
  },
  {
   "cell_type": "code",
   "execution_count": 4,
   "id": "e5c51311",
   "metadata": {},
   "outputs": [
    {
     "name": "stdout",
     "output_type": "stream",
     "text": [
      "[0 0 0 0 0]\n"
     ]
    }
   ],
   "source": [
    "# Step 4: Print the first 5 target values\n",
    "# These are the labels that indicate the species of each flower\n",
    "# Note: In real-world clustering problems, we usually don't have target labels\n",
    "print(iris.target[:5])"
   ]
  },
  {
   "cell_type": "code",
   "execution_count": 5,
   "id": "e2349f06",
   "metadata": {},
   "outputs": [
    {
     "name": "stdout",
     "output_type": "stream",
     "text": [
      "[5.1 3.5 1.4 0.2] 0\n"
     ]
    }
   ],
   "source": [
    "# Step 5: Print a single row of data with its corresponding target\n",
    "# This shows the 4 measurements for one flower and the label representing its species\n",
    "print(iris.data[0, :], iris.target[0])"
   ]
  },
  {
   "cell_type": "code",
   "execution_count": 6,
   "id": "1bcfe17d",
   "metadata": {},
   "outputs": [
    {
     "name": "stdout",
     "output_type": "stream",
     "text": [
      "<class 'numpy.ndarray'>\n",
      "<class 'numpy.ndarray'>\n",
      "150\n",
      "150\n"
     ]
    }
   ],
   "source": [
    "print(type(iris.data))\n",
    "print(type(iris.target))\n",
    "print(len(iris.data))\n",
    "print(len(iris.target))"
   ]
  },
  {
   "cell_type": "code",
   "execution_count": 7,
   "id": "7b964784",
   "metadata": {},
   "outputs": [
    {
     "name": "stdout",
     "output_type": "stream",
     "text": [
      ".. _iris_dataset:\n",
      "\n",
      "Iris plants dataset\n",
      "--------------------\n",
      "\n",
      "**Data Set Characteristics:**\n",
      "\n",
      ":Number of Instances: 150 (50 in each of three classes)\n",
      ":Number of Attributes: 4 numeric, predictive attributes and the class\n",
      ":Attribute Information:\n",
      "    - sepal length in cm\n",
      "    - sepal width in cm\n",
      "    - petal length in cm\n",
      "    - petal width in cm\n",
      "    - class:\n",
      "            - Iris-Setosa\n",
      "            - Iris-Versicolour\n",
      "            - Iris-Virginica\n",
      "\n",
      ":Summary Statistics:\n",
      "\n",
      "============== ==== ==== ======= ===== ====================\n",
      "                Min  Max   Mean    SD   Class Correlation\n",
      "============== ==== ==== ======= ===== ====================\n",
      "sepal length:   4.3  7.9   5.84   0.83    0.7826\n",
      "sepal width:    2.0  4.4   3.05   0.43   -0.4194\n",
      "petal length:   1.0  6.9   3.76   1.76    0.9490  (high!)\n",
      "petal width:    0.1  2.5   1.20   0.76    0.9565  (high!)\n",
      "============== ==== ==== ======= ===== ====================\n",
      "\n",
      ":Missing Attribute Values: None\n",
      ":Class Distribution: 33.3% for each of 3 classes.\n",
      ":Creator: R.A. Fisher\n",
      ":Donor: Michael Marshall (MARSHALL%PLU@io.arc.nasa.gov)\n",
      ":Date: July, 1988\n",
      "\n",
      "The famous Iris database, first used by Sir R.A. Fisher. The dataset is taken\n",
      "from Fisher's paper. Note that it's the same as in R, but not as in the UCI\n",
      "Machine Learning Repository, which has two wrong data points.\n",
      "\n",
      "This is perhaps the best known database to be found in the\n",
      "pattern recognition literature.  Fisher's paper is a classic in the field and\n",
      "is referenced frequently to this day.  (See Duda & Hart, for example.)  The\n",
      "data set contains 3 classes of 50 instances each, where each class refers to a\n",
      "type of iris plant.  One class is linearly separable from the other 2; the\n",
      "latter are NOT linearly separable from each other.\n",
      "\n",
      ".. dropdown:: References\n",
      "\n",
      "  - Fisher, R.A. \"The use of multiple measurements in taxonomic problems\"\n",
      "    Annual Eugenics, 7, Part II, 179-188 (1936); also in \"Contributions to\n",
      "    Mathematical Statistics\" (John Wiley, NY, 1950).\n",
      "  - Duda, R.O., & Hart, P.E. (1973) Pattern Classification and Scene Analysis.\n",
      "    (Q327.D83) John Wiley & Sons.  ISBN 0-471-22361-1.  See page 218.\n",
      "  - Dasarathy, B.V. (1980) \"Nosing Around the Neighborhood: A New System\n",
      "    Structure and Classification Rule for Recognition in Partially Exposed\n",
      "    Environments\".  IEEE Transactions on Pattern Analysis and Machine\n",
      "    Intelligence, Vol. PAMI-2, No. 1, 67-71.\n",
      "  - Gates, G.W. (1972) \"The Reduced Nearest Neighbor Rule\".  IEEE Transactions\n",
      "    on Information Theory, May 1972, 431-433.\n",
      "  - See also: 1988 MLC Proceedings, 54-64.  Cheeseman et al\"s AUTOCLASS II\n",
      "    conceptual clustering system finds 3 classes in the data.\n",
      "  - Many, many more ...\n",
      "\n"
     ]
    }
   ],
   "source": [
    "# Step 6: Print the dataset description\n",
    "# Contains metadata such as publication date, measurement units, and background info\n",
    "print(iris.DESCR)"
   ]
  },
  {
   "cell_type": "markdown",
   "id": "2dc4cb51",
   "metadata": {},
   "source": [
    "# Visualize Before K-Means\n",
    "\n",
    "To better understand the data in the `iris.data` matrix, it is helpful to visualize it. Using **Matplotlib**, we can create a 2D scatter plot of the dataset by selecting two features at a time. Since the dataset has four features, plotting only two dimensions makes the data easier to interpret.\n",
    "\n",
    "- **Feature locations in the matrix:**\n",
    "  - Column 0: Sepal length  \n",
    "  - Column 1: Sepal width  \n",
    "  - Column 2: Petal length  \n",
    "  - Column 3: Petal width  \n",
    "\n",
    "To retrieve all values from a specific column, we use the NumPy notation `[:, column_index]`. For example:\n",
    "\n",
    "matrix[:, 0]\n",
    "\n",
    "This means: *all rows, column 0*.  \n",
    "With the selected features, we can plot them as a scatter plot."
   ]
  },
  {
   "cell_type": "code",
   "execution_count": 8,
   "id": "43d5ddfa",
   "metadata": {},
   "outputs": [],
   "source": [
    "import numpy as np"
   ]
  },
  {
   "cell_type": "code",
   "execution_count": 9,
   "id": "81699e79",
   "metadata": {
    "scrolled": true
   },
   "outputs": [
    {
     "data": {
      "image/png": "[encoded data removed]",
      "text/plain": [
       "<Figure size 640x480 with 1 Axes>"
      ]
     },
     "metadata": {},
     "output_type": "display_data"
    }
   ],
   "source": [
    "# Step 3: Store the data matrix in a variable called 'samples'\n",
    "samples = iris.data\n",
    "\n",
    "# Step 4: Extract features for plotting\n",
    "# Column 0 → Sepal length\n",
    "x = samples[:, 0]\n",
    "# Column 1 → Sepal width\n",
    "y = samples[:, 1]\n",
    "# Putting the 2 columns together > creates a table with 2 columns for later use\n",
    "sepal_length_width = np.array(list(zip(x, y)))\n",
    "# Step 5: Create a scatter plot\n",
    "# alpha=0.5 makes overlapping points more transparent\n",
    "plt.scatter(x, y)\n",
    "\n",
    "# Step 6: Display the scatter plot\n",
    "plt.show()\n"
   ]
  },
  {
   "cell_type": "markdown",
   "id": "edafa9a1",
   "metadata": {},
   "source": [
    "# Implementing K-Means: Step 1 — Initialize Centroids\n",
    "\n",
    "**K-Means recap**\n",
    "1. Place *k* random centroids for the initial clusters.  \n",
    "2. Assign each sample to the nearest centroid.  \n",
    "3. Update centroids using the mean of assigned samples.  \n",
    "4. Repeat steps 2–3 until convergence.\n",
    "\n",
    "**Goal for this step:** Initialize the centroids.\n",
    "\n",
    "- We expect **three clusters** (the three iris species), so set **\\(k = 3\\)**.\n",
    "- Create **three random initial centroids** in the same feature space as the data (sepal length, sepal width, petal length, petal width).\n",
    "- Plot these centroids on top of the scatter of samples to visually confirm their starting positions.\n",
    "\n",
    "The k-means algorithm begins with the initialization of centroids, which serve as the starting points for the clusters.  \n",
    "\n",
    "Since the Iris dataset is known to contain three species of flowers, we set \\(k = 3\\). In practice, however, the number of clusters is often unknown and must be determined through evaluation methods, which we will study later.  \n",
    "\n",
    "For this step, we generate three random centroids using NumPy and place them within the feature space. These centroids act as the initial guesses for the cluster centers.  \n",
    "\n",
    "Once initialized, we can plot these centroids along with the data samples to visualize the starting positions of the clusters before the iterative process of assignment and updating begins.  \n",
    "\n",
    "**Why random initialization matters**\n",
    "- Different random starts can lead to different local minima.  \n",
    "- For reproducibility, fix a random seed when generating initial centroids (useful for teaching, debugging, and result comparisons).\n",
    "\n",
    "**What to visualize**\n",
    "- A 2D scatter of two chosen features (e.g., sepal length vs. sepal width).  \n",
    "- Overlay the three initial centroids as distinct markers to see their starting locations relative to the data.\n"
   ]
  },
  {
   "cell_type": "code",
   "execution_count": 10,
   "id": "445c8a28",
   "metadata": {},
   "outputs": [],
   "source": [
    "import numpy as np"
   ]
  },
  {
   "cell_type": "code",
   "execution_count": 11,
   "id": "58b4bd54",
   "metadata": {},
   "outputs": [
    {
     "name": "stdout",
     "output_type": "stream",
     "text": [
      "Initial centroid x-coordinates: [7.49159194 7.61988204 7.55164393]\n",
      "Initial centroid y-coordinates: [2.17079365 2.65766642 3.52220039]\n",
      "Centroids array:\n",
      " [[7.49159194 2.17079365]\n",
      " [7.61988204 2.65766642]\n",
      " [7.55164393 3.52220039]]\n"
     ]
    },
    {
     "data": {
      "image/png": "[encoded data removed]",
      "text/plain": [
       "<Figure size 640x480 with 1 Axes>"
      ]
     },
     "metadata": {},
     "output_type": "display_data"
    }
   ],
   "source": [
    "# Step 4: Define the number of clusters (k = 3, since there are 3 iris species)\n",
    "k = 3\n",
    "\n",
    "# Step 5: Randomly initialize centroids\n",
    "# Generate k random x-coordinates within the range of sepal length\n",
    "centroids_x = np.random.uniform(min(x), max(x), k)\n",
    "# Generate k random y-coordinates within the range of sepal width\n",
    "centroids_y = np.random.uniform(min(y), max(y), k)\n",
    "\n",
    "# Step 6: Combine centroid coordinates into an array\n",
    "# Each centroid is represented as (x, y)\n",
    "# 1. zip(centroids_x, centroids_y) pairs each x-coordinate with its corresponding y-coordinate → iterator of tuples > <zip object at 0x...>\n",
    "# 2. list(...) converts the iterator into a list of tuples, e.g. [(x1, y1), (x2, y2), (x3, y3)]\n",
    "# 3. np.array(...) transforms the list into a 2D NumPy array for easy mathematical operations\n",
    "centroids = np.array(list(zip(centroids_x, centroids_y)))\n",
    "\n",
    "# Print centroids to verify initialization\n",
    "print(\"Initial centroid x-coordinates:\", centroids_x)\n",
    "print(\"Initial centroid y-coordinates:\", centroids_y)\n",
    "print(\"Centroids array:\\n\", centroids)\n",
    "\n",
    "# Step 7: Create scatter plots\n",
    "# Plot the original data points\n",
    "plt.scatter(x, y, alpha=0.5, label=\"Samples\")\n",
    "# Overlay the randomly initialized centroids\n",
    "plt.scatter(centroids_x, centroids_y, color=\"red\", marker=\"X\", s=200, label=\"Centroids\")\n",
    "\n",
    "# Step 8: Display the plot with legend\n",
    "plt.legend()\n",
    "plt.show()"
   ]
  },
  {
   "cell_type": "markdown",
   "id": "533a15c8",
   "metadata": {},
   "source": [
    "# Implementing K-Means: Step 2 — Assign Samples to Centroids\n",
    "\n",
    "**K-Means recap**\n",
    "1. Place *k* random centroids for the initial clusters.  \n",
    "2. Assign each data sample to the nearest centroid.  \n",
    "3. Update centroids using the mean of assigned samples.  \n",
    "4. Repeat steps 2–3 until convergence.\n",
    "\n",
    "**Goal for this step:** Assign each data point to the closest centroid.\n",
    "\n",
    "**Distance formulas:**\n",
    "- Euclidean distance  \n",
    "The straight-line distance between two points \\((x_1, y_1)\\) and \\((x_2, y_2)\\):  \n",
    "\n",
    "$$\n",
    "d = \\sqrt{(x_1 - x_2)^2 + (y_1 - y_2)^2}\n",
    "$$  \n",
    "\n",
    "- Taxicab (Manhattan) distance  \n",
    "The distance measured along grid lines, like moving through city blocks:  \n",
    "\n",
    "$$\n",
    "d = |x_1 - x_2| + |y_1 - y_2|\n",
    "$$  \n",
    "\n",
    "For this exercise, we will use **Euclidean distance**.\n",
    "\n",
    "**Process:**\n",
    "1. Write a `distance()` function that calculates the Euclidean distance between a single sample from the sataset and a centroid.  \n",
    "2. For each data point, compute its distance to all three centroids.  \n",
    "3. Assign the point to the cluster corresponding to the nearest centroid (the index of the minimum distance).  \n",
    "\n",
    "**Example:**  \n",
    "If the distances to three centroids are:  \n",
    "\n",
    "[15, 20, 5]\n",
    "\n",
    "Then the point is closest to the 3rd centroid.  \n",
    "The `argmin()` of this list would return index `2`, indicating cluster **2**.\n"
   ]
  },
  {
   "cell_type": "code",
   "execution_count": 12,
   "id": "7dec9c25",
   "metadata": {},
   "outputs": [
    {
     "name": "stdout",
     "output_type": "stream",
     "text": [
      "Cluster labels for all samples:\n",
      " [2. 2. 2. 2. 2. 2. 2. 2. 0. 2. 2. 2. 2. 2. 2. 2. 2. 2. 2. 2. 2. 2. 2. 2.\n",
      " 2. 2. 2. 2. 2. 2. 2. 2. 2. 2. 2. 2. 2. 2. 2. 2. 2. 0. 2. 2. 2. 2. 2. 2.\n",
      " 2. 2. 2. 2. 2. 0. 1. 0. 2. 0. 1. 0. 0. 2. 0. 1. 0. 2. 2. 0. 0. 0. 2. 1.\n",
      " 0. 1. 1. 1. 1. 1. 1. 0. 0. 0. 0. 0. 2. 2. 2. 0. 2. 0. 0. 2. 0. 0. 0. 2.\n",
      " 0. 1. 0. 0. 2. 0. 1. 1. 1. 1. 0. 1. 0. 2. 2. 0. 1. 0. 0. 2. 1. 2. 1. 0.\n",
      " 2. 0. 1. 0. 2. 2. 1. 2. 1. 1. 1. 2. 1. 1. 0. 1. 2. 2. 2. 2. 2. 2. 0. 2.\n",
      " 2. 1. 0. 1. 2. 2.]\n"
     ]
    }
   ],
   "source": [
    "# ✅ Checkpoint 1: Define a distance function (Euclidean)\n",
    "def distance(a, b):\n",
    "    one = (a[0] - b[0]) ** 2\n",
    "    two = (a[1] - b[1]) ** 2\n",
    "    return (one + two) ** 0.5\n",
    "\n",
    "# ✅ Checkpoint 2: Create an array to hold cluster labels for each sample\n",
    "labels = np.zeros(len(samples))\n",
    "\n",
    "# ✅ Checkpoint 3: Function to assign one sample to the nearest centroid\n",
    "def assign_to_centroid(sample, centroids):\n",
    "    k_local = len(centroids)\n",
    "    distances = np.zeros(k_local)\n",
    "    # Compute distance from sample to each centroid\n",
    "    for i in range(k_local):\n",
    "        distances[i] = distance(sample, centroids[i])\n",
    "    # Return index of centroid with smallest distance\n",
    "    closest_centroid = np.argmin(distances)\n",
    "    return closest_centroid\n",
    "\n",
    "# ✅ Checkpoint 4: Loop through all samples and assign to nearest centroid\n",
    "for i in range(len(samples)):\n",
    "    labels[i] = assign_to_centroid(samples[i], centroids)\n",
    "\n",
    "# ✅ Checkpoint 5: Print the cluster assignments for each sample\n",
    "print(\"Cluster labels for all samples:\\n\", labels)"
   ]
  },
  {
   "cell_type": "markdown",
   "id": "2b802361",
   "metadata": {},
   "source": [
    "**How `assign_to_centroid` Works (Step-by-Step)**\n",
    "\n",
    "1. **Initialize labels**  \n",
    "   - Create an array `labels` of length equal to the number of samples (150).  \n",
    "   - This will hold the cluster index (0, 1, or 2) for each sample.\n",
    "\n",
    "2. **Loop over all samples**  \n",
    "   - For each row `i` in the dataset, call the function `assign_to_centroid(samples[i], centroids)`.\n",
    "\n",
    "3. **Inside `assign_to_centroid(sample, centroids)`**  \n",
    "   - Set `k = len(centroids)` (here `k = 3`).  \n",
    "   - Initialize an array `distances` of length `k`.  \n",
    "   - For each centroid `j` from 0 to `k-1`, compute the Euclidean distance between the sample and `centroids[j]` and store it in `distances[j]`.\n",
    "\n",
    "4. **Find the nearest centroid**  \n",
    "   - Use `np.argmin(distances)` to get the index of the smallest distance.  \n",
    "   - This index (0, 1, or 2) represents the nearest centroid.\n",
    "\n",
    "5. **Assign the label**  \n",
    "   - Return this index to the outer loop.  \n",
    "   - Set `labels[i] = closest_centroid`, so sample `i` is assigned to its nearest cluster.\n",
    "\n",
    "6. **Centroids remain fixed in this step**  \n",
    "   - The centroids are not updated yet; this step only assigns samples to the nearest centroid.  \n",
    "   - Updating centroids comes in the next stage of the k-means algorithm.\n"
   ]
  },
  {
   "cell_type": "markdown",
   "id": "41e6d113",
   "metadata": {},
   "source": [
    "# Implementing K-Means: Step 3 — Update Centroids\n",
    "\n",
    "**K-Means recap**\n",
    "1. Place *k* random centroids for the initial clusters.  \n",
    "2. Assign each data sample to the nearest centroid.  \n",
    "3. Update centroids based on the points assigned to them.  \n",
    "4. Repeat Steps 2–3 until convergence.\n",
    "\n",
    "**Goal for this step:** Recalculate the position of each centroid.\n",
    "\n",
    "- After assigning every sample to a cluster, each cluster may contain several points.  \n",
    "- The **new centroid** of a cluster is computed as the **mean of all the points** assigned to it.  \n",
    "- This ensures that centroids move toward the center of their cluster, making the algorithm gradually more accurate.\n",
    "\n",
    "**Mathematical definition:**  \n",
    "For cluster \\( j \\), with points \\( x_1, x_2, \\dots, x_m \\), the updated centroid is given by:  \n",
    "\n",
    "$$\n",
    "\\mu_j = \\frac{1}{m} \\sum_{i=1}^{m} x_i\n",
    "$$\n",
    "\n",
    "**Implementation idea:**  \n",
    "- For each centroid \\( j \\):  \n",
    "  - Select all samples where `labels == j`.  \n",
    "  - Compute the mean across these samples using `.mean(axis=0)`.  \n",
    "  - Update centroid \\( j \\) to this new value.\n",
    "\n",
    "**Note:**  \n",
    "- If a centroid has no points assigned, it can remain in place or be reinitialized randomly.  \n",
    "- This update step is repeated along with reassignment until the centroids stabilize (convergence).\n"
   ]
  },
  {
   "cell_type": "code",
   "execution_count": 13,
   "id": "31cebeab",
   "metadata": {},
   "outputs": [],
   "source": [
    "from copy import deepcopy"
   ]
  },
  {
   "cell_type": "code",
   "execution_count": 14,
   "id": "43bf8af2",
   "metadata": {},
   "outputs": [
    {
     "name": "stdout",
     "output_type": "stream",
     "text": [
      "[[7.49159194 2.17079365]\n",
      " [7.61988204 2.65766642]\n",
      " [7.55164393 3.52220039]]\n",
      "- - - - - - - - - - - - - -\n",
      "[[5.66153846 2.55384615]\n",
      " [6.70344828 2.89310345]\n",
      " [5.62560976 3.35487805]]\n"
     ]
    }
   ],
   "source": [
    "# ----------------------------\n",
    "# Step 3: Update centroids\n",
    "# ----------------------------\n",
    "\n",
    "# Step 3.1: Save the old centroid positions (deep copy to avoid reference issues)\n",
    "centroids_old = deepcopy(centroids)\n",
    "\n",
    "# Step 3.2: For each cluster index i, collect points with label i\n",
    "\n",
    "for i in range(k):\n",
    "    # Collect all points whose assigned label equals i\n",
    "    points = []\n",
    "    for j in range(len(sepal_length_width)):\n",
    "        if labels[j] == i:\n",
    "          points.append(sepal_length_width[j])\n",
    "# Step 3.3: Update centroid i to the mean of its assigned points (axis=0 for column-wise mean) \n",
    "    centroids[i] = np.mean(points, axis=0)  # mean along rows -> new (x, y)\n",
    "\n",
    "# np.mean(points, axis=0) → averages column-wise, giving the mean x and mean y (correct new centroid).\n",
    "# np.mean(points, axis=1) → averages row-wise, giving one number per point (not useful for centroids).\n",
    "# np.mean(points)         → averages over all values into a single scalar (also not useful here).\n",
    "\n",
    "# Step 3.4: Print before/after to observe the centroid movement\n",
    "print(centroids_old)\n",
    "print(\"- - - - - - - - - - - - - -\")\n",
    "print(centroids)"
   ]
  },
  {
   "cell_type": "markdown",
   "id": "049ae582",
   "metadata": {},
   "source": [
    "**Step 3: Aggiornamento dei centroidi**\n",
    "\n",
    "In the third step of the k-means algorithm, the goal is to update the position of the centroids based on the points assigned to them.\n",
    "\n",
    "1. The main loop iterates over the range of `k` (the number of clusters).  \n",
    "   For each value of `i` (the current cluster), an empty list `points` is initialized.\n",
    "\n",
    "2. A second loop then iterates over the entire `sepal_length_width` dataset.  \n",
    "   For each element `j`, the algorithm checks whether the label `labels[j]` matches the cluster `i`.  \n",
    "   If the condition is true, the corresponding row `sepal_length_width[j]` is appended to the list `points`.\n",
    "\n",
    "3. Once all points belonging to cluster `i` have been collected, the new centroid `centroids[i]` is computed as the mean of the values in `points`.  \n",
    "   Concretely, this means calculating:\n",
    "   - the average of the first column (`sepal_length_width[:, 0]` → sepal length),\n",
    "   - and the average of the second column (`sepal_length_width[:, 1]` → sepal width).\n",
    "\n",
    "As a result, each centroid moves to the mean position of the points assigned to it, representing the “true center” of that cluster.\n",
    "\n"
   ]
  },
  {
   "cell_type": "markdown",
   "id": "2ebb2f49",
   "metadata": {},
   "source": [
    "# Implementing K-Means: Step 4 \n",
    "\n",
    "In this step, we extend the k-means algorithm by repeating Steps 2 and 3 until the centroids no longer change, a point known as **convergence**.\n",
    "\n",
    "**Algorithm Recap** \n",
    "1. Place *k* random centroids for the initial clusters.  \n",
    "2. Assign each data sample to the nearest centroid.  \n",
    "3. Update the centroids based on the points assigned to them.  \n",
    "4. Repeat Steps 2 and 3 until convergence.  \n",
    "\n",
    "**Step 4: Iterative Update **\n",
    "- To achieve convergence, we enclose Steps 2 and 3 in a `while` loop.  \n",
    "- The stopping condition is defined using an array called `errors`, which measures the change between the updated centroids (`centroids`) and the previous centroids (`centroids_old`).  \n",
    "- If all entries in `errors` are equal to zero, this means that the centroids have stabilized and the algorithm has converged.  \n",
    "\n",
    "This iterative process ensures that the algorithm continues refining cluster centers until no further movement occurs. Each centroid then represents the optimal mean position of its assigned cluster.\n"
   ]
  },
  {
   "cell_type": "markdown",
   "id": "4f545703",
   "metadata": {},
   "source": [
    "<p style=\"text-align: center; font-size: 16px;\"><b>Complete process</b></p>"
   ]
  },
  {
   "cell_type": "code",
   "execution_count": 15,
   "id": "2b032d9c",
   "metadata": {},
   "outputs": [],
   "source": [
    "# Implementing K-Means: Step 1 to 4 — loop until convergence, with step-by-step comments\n",
    "# From the beginning\n",
    "\n",
    "# ------------------------------------------------------------\n",
    "# Load and prepare data (Iris: use sepal length vs sepal width)\n",
    "# ------------------------------------------------------------\n",
    "iris = datasets.load_iris()\n",
    "samples = iris.data\n",
    "x = samples[:, 0]\n",
    "y = samples[:, 1]\n",
    "sepal_length_width = np.array(list(zip(x, y)))\n",
    "\n",
    "# ------------------------------------------------------------\n",
    "# Step 1 — Place K random centroids\n",
    "# ------------------------------------------------------------\n",
    "k = 3\n",
    "centroids_x = np.random.uniform(min(x), max(x), size=k)\n",
    "centroids_y = np.random.uniform(min(y), max(y), size=k)\n",
    "centroids = np.array(list(zip(centroids_x, centroids_y)))\n",
    "\n",
    "# ------------------------------------------------------------\n",
    "# Utilities\n",
    "# ------------------------------------------------------------\n",
    "def distance(a, b):\n",
    "    \"\"\"Euclidean distance between 2D points a and b.\"\"\"\n",
    "    one = (a[0] - b[0]) ** 2\n",
    "    two = (a[1] - b[1]) ** 2\n",
    "    return (one + two) ** 0.5\n",
    "\n",
    "def assign_to_centroid(sample, centroids):\n",
    "    \"\"\"Return index of the nearest centroid to a sample.\"\"\"\n",
    "    k_local = len(centroids)\n",
    "    distances = np.zeros(k_local)\n",
    "    for i in range(k_local):\n",
    "        distances[i] = distance(sample, centroids[i])\n",
    "    return int(np.argmin(distances))\n",
    "\n",
    "# ------------------------------------------------------------\n",
    "# Initialization for Step 4 (convergence loop)\n",
    "# ------------------------------------------------------------\n",
    "# Keep previous centroid positions here\n",
    "centroids_old = np.zeros(centroids.shape)\n",
    "\n",
    "# Cluster labels (0, 1, 2)\n",
    "labels = np.zeros(len(samples), dtype=int)\n",
    "\n",
    "# ✅ Checkpoint 1 — Initialize error and compute initial distances\n",
    "error = np.zeros(3)\n",
    "for i in range(k):\n",
    "    error[i] = distance(centroids[i], centroids_old[i])\n",
    "\n",
    "# ------------------------------------------------------------\n",
    "# ✅ Checkpoint 2 — Repeat Steps 2 & 3 until convergence\n",
    "# The loop stops when all entries in `error` are zero.\n",
    "# ------------------------------------------------------------\n",
    "while error.all() != 0:\n",
    "    # Step 2 — Assign samples to nearest centroid\n",
    "    for i in range(len(samples)):\n",
    "        labels[i] = assign_to_centroid(samples[i], centroids)\n",
    "\n",
    "    # Step 3 — Update centroids\n",
    "    centroids_old = deepcopy(centroids)\n",
    "\n",
    "    for i in range(k):\n",
    "        # Collect all points that belong to cluster i\n",
    "        points = [sepal_length_width[j] for j in range(len(sepal_length_width)) if labels[j] == i]\n",
    "        # Update centroid i to the mean of its assigned points\n",
    "        centroids[i] = np.mean(points, axis=0)\n",
    "        # Recompute error for this centroid (new vs old)\n",
    "        error[i] = distance(centroids[i], centroids_old[i])"
   ]
  },
  {
   "cell_type": "code",
   "execution_count": 16,
   "id": "2c508cad",
   "metadata": {},
   "outputs": [
    {
     "data": {
      "image/png": "[encoded data removed]",
      "text/plain": [
       "<Figure size 640x480 with 1 Axes>"
      ]
     },
     "metadata": {},
     "output_type": "display_data"
    }
   ],
   "source": [
    "# ------------------------------------------------------------\n",
    "# ✅ Checkpoint 3 — Visualize clustered points\n",
    "# ------------------------------------------------------------\n",
    "colors = ['r', 'g', 'b']\n",
    "\n",
    "for i in range(k):\n",
    "    points = np.array([sepal_length_width[j] for j in range(len(samples)) if labels[j] == i])\n",
    "    plt.scatter(points[:, 0], points[:, 1], c=colors[i], alpha=0.5)\n",
    "\n",
    "# ------------------------------------------------------------\n",
    "# ✅ Checkpoint 4 — Plot centroids and labels\n",
    "# ------------------------------------------------------------\n",
    "plt.scatter(centroids[:, 0], centroids[:, 1], marker='D', s=150)\n",
    "plt.xlabel('sepal length (cm)')\n",
    "plt.ylabel('sepal width (cm)')\n",
    "plt.show()"
   ]
  },
  {
   "cell_type": "markdown",
   "id": "c6c8292b",
   "metadata": {},
   "source": [
    "# Implementing K-Means: Scikit-Learn\n",
    "\n",
    "Implementing k-means clustering from scratch is a great exercise, but in practice it can be time-consuming and prone to errors. A much more efficient and reliable approach is to use the scikit-learn library.  \n",
    "\n",
    "Scikit-learn allows k-means to run on datasets with as many features as your computer can handle, making it easy to use all four features of the Iris dataset instead of only two.  \n",
    "\n",
    "Another advantage is that scikit-learn is a widely used open-source library that is extensively tested, which greatly reduces the risk of mistakes. Because of its popularity, there is also a wealth of online resources and community support available if questions arise.  \n",
    "\n",
    "To run k-means with scikit-learn, you start by importing `KMeans` from `sklearn.cluster`, then create a model specifying the number of clusters with the `n_clusters` argument. Once the model is defined, the `.fit()` method computes the clustering on the dataset, and the `.predict()` method assigns each sample to its closest cluster while also making the cluster centers available.  \n",
    "\n",
    "This way, clustering can be performed quickly, accurately, and with minimal code.\n"
   ]
  },
  {
   "cell_type": "code",
   "execution_count": 17,
   "id": "90cacd7b",
   "metadata": {},
   "outputs": [
    {
     "name": "stdout",
     "output_type": "stream",
     "text": [
      "[1 1 1 1 1 1 1 1 1 1 1 1 1 1 1 1 1 1 1 1 1 1 1 1 1 1 1 1 1 1 1 1 1 1 1 1 1\n",
      " 1 1 1 1 1 1 1 1 1 1 1 1 1 2 0 2 0 0 0 0 0 0 0 0 0 0 0 0 0 0 0 0 0 0 0 0 0\n",
      " 0 0 0 2 0 0 0 0 0 0 0 0 0 0 0 0 0 0 0 0 0 0 0 0 0 0 2 0 2 2 2 2 0 2 2 2 2\n",
      " 2 2 0 0 2 2 2 2 0 2 0 2 0 2 2 0 0 2 2 2 2 2 0 2 2 2 2 0 2 2 2 0 2 2 2 0 2\n",
      " 2 0]\n"
     ]
    }
   ],
   "source": [
    "# Implementing K-Means with scikit-learn — with step-by-step comments\n",
    "import matplotlib.pyplot as plt\n",
    "from sklearn import datasets\n",
    "from sklearn.cluster import KMeans   # ✅ Checkpoint 1: Import KMeans\n",
    "\n",
    "# Load the Iris dataset\n",
    "iris = datasets.load_iris()\n",
    "\n",
    "# Extract the feature matrix (all 4 features of Iris)\n",
    "samples = iris.data\n",
    "\n",
    "# ✅ Checkpoint 2: Create a KMeans model instance to find 3 clusters\n",
    "model = KMeans(n_clusters=3, random_state=0)\n",
    "\n",
    "# ✅ Checkpoint 3: Fit the model to the data\n",
    "model.fit(samples)\n",
    "\n",
    "# ✅ Checkpoint 4: Predict the cluster labels for each sample\n",
    "labels = model.predict(samples)\n",
    "\n",
    "# Print the cluster labels\n",
    "print(labels)\n"
   ]
  },
  {
   "cell_type": "markdown",
   "id": "30860719",
   "metadata": {},
   "source": [
    "# New Data?\n",
    "\n",
    "Once a k-means model has been trained, it can also be applied to classify new, unseen data points.  \n",
    "\n",
    "This is done with the `.predict()` method, which assigns each new sample to the nearest cluster center that the model found during training.  \n",
    "\n",
    "For example, if we collect three new Iris flowers with the measurements:  \n",
    "\n",
    "[[5.1, 3.5, 1.4, 0.2],ù\n",
    "\n",
    "[3.4, 3.1, 1.6, 0.3],\n",
    "\n",
    "[4.9, 3.0, 1.4, 0.2]]\n",
    "\n",
    "\n",
    "we can feed this new data into the fitted model.  \n",
    "\n",
    "The model will then return the cluster labels for these samples, showing which cluster each flower belongs to.  \n",
    "\n",
    "In this way, k-means is not only useful for analyzing the original dataset but also serves as a tool to classify new observations based on the patterns it has already learned.  \n"
   ]
  },
  {
   "cell_type": "code",
   "execution_count": 18,
   "id": "6f67f370",
   "metadata": {},
   "outputs": [
    {
     "name": "stdout",
     "output_type": "stream",
     "text": [
      "New samples:\n",
      " [[5.7 4.4 1.5 0.4]\n",
      " [6.5 3.  5.5 0.4]\n",
      " [5.8 2.7 5.1 1.9]]\n",
      "Predicted labels: [1 0 0]\n",
      "Predicted class names: [np.str_('versicolor'), np.str_('setosa'), np.str_('setosa')]\n"
     ]
    }
   ],
   "source": [
    "# ------------------------------------------------------------\n",
    "# Create and fit a KMeans model with 3 clusters\n",
    "# ------------------------------------------------------------\n",
    "model = KMeans(n_clusters=3, random_state=0)\n",
    "model.fit(samples)\n",
    "\n",
    "# ------------------------------------------------------------\n",
    "# ✅ Checkpoint 1: Store the new Iris measurements as a NumPy array\n",
    "# ------------------------------------------------------------\n",
    "new_samples = np.array([\n",
    "    [5.7, 4.4, 1.5, 0.4],\n",
    "    [6.5, 3.0, 5.5, 0.4],\n",
    "    [5.8, 2.7, 5.1, 1.9]\n",
    "])\n",
    "\n",
    "# Test print to confirm shape and values\n",
    "print(\"New samples:\\n\", new_samples)\n",
    "\n",
    "# ------------------------------------------------------------\n",
    "# ✅ Checkpoint 2: Predict labels for the new samples\n",
    "# ------------------------------------------------------------\n",
    "labels = model.predict(new_samples)\n",
    "print(\"Predicted labels:\", labels)\n",
    "\n",
    "# ------------------------------------------------------------\n",
    "# ✅ Checkpoint 3: Convert numerical labels to class names\n",
    "# ------------------------------------------------------------\n",
    "new_names = [iris.target_names[label] for label in labels]\n",
    "print(\"Predicted class names:\", new_names)\n"
   ]
  },
  {
   "cell_type": "markdown",
   "id": "f9cac614",
   "metadata": {},
   "source": [
    "# Visualize After K-Means\n",
    "\n",
    "After running k-means with scikit-learn, we can create a scatter plot to see the clusters.  \n",
    "\n",
    "On the x-axis we place the sepal length, and on the y-axis the sepal width.  \n",
    "\n",
    "By setting the parameter `c = labels` in the scatter plot, each point is colored according to the cluster it belongs to.  \n",
    "\n",
    "Using `alpha = 0.5` makes the points slightly transparent, which helps when they overlap.  \n",
    "\n",
    "Finally, we add axis labels for sepal length and sepal width so that the plot is clear and easy to interpret.  \n"
   ]
  },
  {
   "cell_type": "code",
   "execution_count": 19,
   "id": "3f7ae701",
   "metadata": {},
   "outputs": [
    {
     "name": "stdout",
     "output_type": "stream",
     "text": [
      "Cluster labels for all samples:\n",
      " [1 1 1 1 1 1 1 1 1 1 1 1 1 1 1 1 1 1 1 1 1 1 1 1 1 1 1 1 1 1 1 1 1 1 1 1 1\n",
      " 1 1 1 1 1 1 1 1 1 1 1 1 1 2 0 2 0 0 0 0 0 0 0 0 0 0 0 0 0 0 0 0 0 0 0 0 0\n",
      " 0 0 0 2 0 0 0 0 0 0 0 0 0 0 0 0 0 0 0 0 0 0 0 0 0 0 2 0 2 2 2 2 0 2 2 2 2\n",
      " 2 2 0 0 2 2 2 2 0 2 0 2 0 2 2 0 0 2 2 2 2 2 0 2 2 2 2 0 2 2 2 0 2 2 2 0 2\n",
      " 2 0]\n"
     ]
    },
    {
     "data": {
      "image/png": "[encoded data removed]",
      "text/plain": [
       "<Figure size 640x480 with 1 Axes>"
      ]
     },
     "metadata": {},
     "output_type": "display_data"
    }
   ],
   "source": [
    "# Visualizing Iris data after K-Means clustering — with step-by-step comments\n",
    "import matplotlib.pyplot as plt\n",
    "from sklearn import datasets\n",
    "from sklearn.cluster import KMeans\n",
    "\n",
    "# ------------------------------------------------------------\n",
    "# Load the Iris dataset and extract the feature matrix\n",
    "# ------------------------------------------------------------\n",
    "iris = datasets.load_iris()\n",
    "samples = iris.data\n",
    "\n",
    "# ------------------------------------------------------------\n",
    "# Create and fit a KMeans model with 3 clusters\n",
    "# ------------------------------------------------------------\n",
    "model = KMeans(n_clusters=3, random_state=0)\n",
    "model.fit(samples)\n",
    "\n",
    "# ------------------------------------------------------------\n",
    "# Predict labels for all samples\n",
    "# ------------------------------------------------------------\n",
    "labels = model.predict(samples)\n",
    "print(\"Cluster labels for all samples:\\n\", labels)\n",
    "\n",
    "# ------------------------------------------------------------\n",
    "# ✅ Checkpoint 1: Extract feature columns for visualization\n",
    "# x = sepal length, y = sepal width\n",
    "# ------------------------------------------------------------\n",
    "x = samples[:, 0]\n",
    "y = samples[:, 1]\n",
    "\n",
    "# ------------------------------------------------------------\n",
    "# ✅ Checkpoint 2: Scatter plot with cluster colors\n",
    "# Each point is colored according to its cluster label\n",
    "# ------------------------------------------------------------\n",
    "plt.scatter(x, y, c=labels, alpha=0.5)\n",
    "plt.xlabel('sepal length (cm)')\n",
    "plt.ylabel('sepal width (cm)')\n",
    "plt.title('K-Means Clustering on Iris Data (Sepal Length vs Width)')\n",
    "plt.show()\n"
   ]
  },
  {
   "cell_type": "markdown",
   "id": "38c3dbc3",
   "metadata": {},
   "source": [
    "# Evaluation\n",
    "\n",
    "At this stage, we have successfully clustered the Iris dataset into three groups, both with our own Python implementation and with scikit-learn.  \n",
    "\n",
    "The natural question is whether these clusters actually match the biological species of the flowers.  \n",
    "\n",
    "The Iris dataset provides true target values, where `0` represents Iris-setosa, `1` represents Iris-versicolor, and `2` represents Iris-virginica.  \n",
    "\n",
    "By mapping these numerical targets to their species names, we can compare them directly with the cluster labels produced by k-means.  \n",
    "\n",
    "To evaluate this comparison, we use a cross-tabulation, which shows how many flowers of each species fall into each cluster.  \n",
    "\n",
    "The resulting table has the cluster labels in the rows and the species names in the columns, making it easy to see how well each cluster corresponds to a species.  \n",
    "\n",
    "From the table, it becomes clear that Iris-setosa was identified with 100% accuracy, Iris-versicolor with very high accuracy, and Iris-virginica with lower accuracy, since some of its samples were grouped with versicolor.  \n",
    "\n",
    "This evaluation demonstrates both the strengths and the limitations of the k-means clustering approach when applied to real data.  \n"
   ]
  },
  {
   "cell_type": "code",
   "execution_count": 20,
   "id": "9bf5a5f1",
   "metadata": {},
   "outputs": [
    {
     "name": "stdout",
     "output_type": "stream",
     "text": [
      "DataFrame with assigned cluster labels and true species:\n",
      "\n",
      "     labels    species\n",
      "0         1     setosa\n",
      "1         1     setosa\n",
      "2         1     setosa\n",
      "3         1     setosa\n",
      "4         1     setosa\n",
      "..      ...        ...\n",
      "145       2  virginica\n",
      "146       0  virginica\n",
      "147       2  virginica\n",
      "148       2  virginica\n",
      "149       0  virginica\n",
      "\n",
      "[150 rows x 2 columns]\n",
      "\n",
      "Cross-tabulation of clusters vs species:\n",
      "\n",
      "species  setosa  versicolor  virginica\n",
      "labels                                \n",
      "0             0          47         14\n",
      "1            50           0          0\n",
      "2             0           3         36\n"
     ]
    }
   ],
   "source": [
    "import pandas as pd\n",
    "\n",
    "# ------------------------------------------------------------\n",
    "# Load the Iris dataset\n",
    "# ------------------------------------------------------------\n",
    "iris = datasets.load_iris()\n",
    "samples = iris.data\n",
    "target = iris.target\n",
    "\n",
    "# ------------------------------------------------------------\n",
    "# Fit KMeans with 3 clusters\n",
    "# ------------------------------------------------------------\n",
    "model = KMeans(n_clusters=3, random_state=0)\n",
    "model.fit(samples)\n",
    "\n",
    "# ------------------------------------------------------------\n",
    "# ✅ Checkpoint 1: Build species list from true target values\n",
    "# ------------------------------------------------------------\n",
    "species = [iris.target_names[t] for t in list(target)]\n",
    "\n",
    "# ------------------------------------------------------------\n",
    "# ✅ Checkpoint 2: Create a DataFrame with cluster labels and species\n",
    "# Note: Use numerical labels directly, not species names, for clarity\n",
    "# ------------------------------------------------------------\n",
    "labels = model.labels_\n",
    "df = pd.DataFrame({'labels': labels, 'species': species})\n",
    "print(\"DataFrame with assigned cluster labels and true species:\\n\")\n",
    "print(df)\n",
    "\n",
    "# ------------------------------------------------------------\n",
    "# ✅ Checkpoint 3: Perform cross-tabulation to compare clusters vs species\n",
    "# ------------------------------------------------------------\n",
    "ct = pd.crosstab(df['labels'], df['species'])\n",
    "print(\"\\nCross-tabulation of clusters vs species:\\n\")\n",
    "print(ct)\n"
   ]
  },
  {
   "cell_type": "markdown",
   "id": "3bc05b99",
   "metadata": {},
   "source": [
    "# The number of Clusters\n",
    "\n",
    "So far, we have grouped the Iris plants into three clusters, but what if we didn’t already know there are three species in the dataset?  \n",
    "\n",
    "To answer this, we need to consider what makes a cluster “good.” A good cluster is one where the points are close together, and this compactness is measured by inertia. Inertia is defined as the sum of distances between each sample and the centroid of its assigned cluster. The smaller the inertia, the tighter the clustering, and the better the result.  \n",
    "\n",
    "In scikit-learn, inertia can be checked using `model.inertia_`. If we compute models with different values of k and plot the inertia values, we will always see a decreasing curve. That’s because adding more clusters naturally reduces the distance between points and centroids.  \n",
    "\n",
    "However, this is a trade-off. Too few clusters give high inertia, while too many clusters may create divisions that don’t add meaningful separation. The goal is to find a balance where inertia is low but the number of clusters remains small.  \n",
    "\n",
    "To make this decision, we can use the elbow method, which looks for the point in the graph where inertia begins to decrease more slowly. This point is often referred to as the “elbow.” For the Iris dataset, the elbow occurs at three clusters, confirming that k = 3 is the optimal choice.  \n"
   ]
  },
  {
   "cell_type": "code",
   "execution_count": 21,
   "id": "f1efccd7",
   "metadata": {},
   "outputs": [
    {
     "data": {
      "image/png": "[encoded data removed]",
      "text/plain": [
       "<Figure size 640x480 with 1 Axes>"
      ]
     },
     "metadata": {},
     "output_type": "display_data"
    }
   ],
   "source": [
    "# ------------------------------------------------------------\n",
    "# Load the Iris dataset\n",
    "# ------------------------------------------------------------\n",
    "iris = datasets.load_iris()\n",
    "samples = iris.data\n",
    "\n",
    "# ------------------------------------------------------------\n",
    "# ✅ Checkpoint 1: Prepare lists for k values and inertia scores\n",
    "# ------------------------------------------------------------\n",
    "num_clusters = list(range(1, 9))   # k = 1 through 8\n",
    "inertias = []                      # store inertia for each k\n",
    "\n",
    "# ------------------------------------------------------------\n",
    "# ✅ Checkpoint 2: Fit KMeans for each k and record inertia\n",
    "# ------------------------------------------------------------\n",
    "for k in num_clusters: \n",
    "    model = KMeans(n_clusters=k, random_state=0)\n",
    "    model.fit(samples)\n",
    "    inertias.append(model.inertia_)\n",
    "\n",
    "# ------------------------------------------------------------\n",
    "# ✅ Checkpoint 3: Plot number of clusters vs inertia\n",
    "# ------------------------------------------------------------\n",
    "plt.plot(num_clusters, inertias, '-o')\n",
    "plt.xlabel('Number of Clusters (k)')\n",
    "plt.ylabel('Inertia')\n",
    "plt.title('Elbow Method for Optimal k')\n",
    "plt.show()\n"
   ]
  }
 ],
 "metadata": {
  "kernelspec": {
   "display_name": "Python 3 (ipykernel)",
   "language": "python",
   "name": "python3"
  },
  "language_info": {
   "codemirror_mode": {
    "name": "ipython",
    "version": 3
   },
   "file_extension": ".py",
   "mimetype": "text/x-python",
   "name": "python",
   "nbconvert_exporter": "python",
   "pygments_lexer": "ipython3",
   "version": "3.10.6"
  },
  "toc": {
   "base_numbering": 1,
   "nav_menu": {},
   "number_sections": true,
   "sideBar": true,
   "skip_h1_title": false,
   "title_cell": "Table of Contents",
   "title_sidebar": "Contents",
   "toc_cell": false,
   "toc_position": {},
   "toc_section_display": true,
   "toc_window_display": false
  }
 },
 "nbformat": 4,
 "nbformat_minor": 5
}
