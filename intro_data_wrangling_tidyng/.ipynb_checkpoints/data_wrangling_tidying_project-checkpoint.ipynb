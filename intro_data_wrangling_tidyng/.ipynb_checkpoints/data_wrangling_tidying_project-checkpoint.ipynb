{
 "cells": [
  {
   "cell_type": "markdown",
   "id": "bcb6a9d1",
   "metadata": {},
   "source": [
    "<p style=\"text-align: center; font-size:24px;\"><b>Data Cleaning</b></p>\n",
    "\n",
    "A major part of data science is not building models but preparing data so that those models can work properly. In fact, most of the effort goes into cleaning and organizing raw information before any analysis takes place. Raw data often arrives messy, with inconsistencies and formats that make it hard to use directly. To make it usable, data scientists diagnose how “tidy” it is, reshape rows and columns so they line up with the questions being asked, and sometimes merge multiple sources together. They may need to correct value types, such as converting numbers that were stored as text, or handle gaps by dropping or filling missing entries. Another frequent task is manipulating strings to make the data more consistent and meaningful. All these steps are essential because clean, well-structured data is the foundation for reliable insights. Through practice on untidy datasets, one learns the key techniques that transform raw information into a state ready for exploration and analysis.\n"
   ]
  },
  {
   "cell_type": "markdown",
   "id": "06c9b0ce",
   "metadata": {},
   "source": []
  }
 ],
 "metadata": {
  "kernelspec": {
   "display_name": "Python 3 (ipykernel)",
   "language": "python",
   "name": "python3"
  },
  "language_info": {
   "codemirror_mode": {
    "name": "ipython",
    "version": 3
   },
   "file_extension": ".py",
   "mimetype": "text/x-python",
   "name": "python",
   "nbconvert_exporter": "python",
   "pygments_lexer": "ipython3",
   "version": "3.10.6"
  },
  "toc": {
   "base_numbering": 1,
   "nav_menu": {},
   "number_sections": true,
   "sideBar": true,
   "skip_h1_title": false,
   "title_cell": "Table of Contents",
   "title_sidebar": "Contents",
   "toc_cell": false,
   "toc_position": {},
   "toc_section_display": true,
   "toc_window_display": false
  }
 },
 "nbformat": 4,
 "nbformat_minor": 5
}
