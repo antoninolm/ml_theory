{
 "cells": [
  {
   "cell_type": "markdown",
   "id": "28853361",
   "metadata": {},
   "source": [
    "<p style=\"text-align: center; font-size:24px;\"><b>Data Cleaning & Transformation</b></p>\n",
    "\n",
    "A major part of data science is not building models but preparing data so that those models can work properly. In fact, most of the effort goes into cleaning and organizing raw information before any analysis takes place. Raw data often arrives messy, with inconsistencies and formats that make it hard to use directly. To make it usable, data scientists diagnose how “tidy” it is, reshape rows and columns so they line up with the questions being asked, and sometimes merge multiple sources together. They may need to correct value types, such as converting numbers that were stored as text, or handle gaps by dropping or filling missing entries. Another frequent task is manipulating strings to make the data more consistent and meaningful. All these steps are essential because clean, well-structured data is the foundation for reliable insights. Through practice on untidy datasets, one learns the key techniques that transform raw information into a state ready for exploration and analysis.\n"
   ]
  },
  {
   "cell_type": "markdown",
   "id": "6f94789f",
   "metadata": {},
   "source": [
    "# Data Cleaning"
   ]
  },
  {
   "cell_type": "code",
   "execution_count": 38,
   "id": "b416212d",
   "metadata": {},
   "outputs": [],
   "source": [
    "import pandas as pd"
   ]
  },
  {
   "cell_type": "markdown",
   "id": "422e7763",
   "metadata": {},
   "source": [
    "## Diagnose the data\n",
    "Tidy data is the standard we aim for when preparing information for analysis. In tidy form, every column represents one variable and every row represents one observation. This structure makes it easy to filter, aggregate, and visualize results. When data isn’t tidy, it often has values spread across columns or compressed into a single field, which makes analysis clumsy. For instance, a wide table with separate columns for “Checkings” and “Savings” balances is harder to work with than a long-form table where account type is a variable and each balance has its own row. By reshaping into the long form, you make the structure consistent and flexible.\n",
    "Before reshaping or cleaning, the first step is diagnosing the state of your dataset. With pandas, you can quickly get a sense of its shape and issues: `.head()` shows the first rows to check for structure, `.info()` summarizes data types and missing values, `.describe()` provides statistical overviews, `.columns` lists the headers, and `.value_counts()` reveals unique values in a column. These functions help you detect untidy patterns, inconsistencies, or errors so you can plan the cleaning steps needed to transform the data into a tidy, usable format."
   ]
  },
  {
   "cell_type": "code",
   "execution_count": 39,
   "id": "0bf4bb03",
   "metadata": {},
   "outputs": [
    {
     "name": "stdout",
     "output_type": "stream",
     "text": [
      "  Grocery Item  Cake Recipe  Pancake Recipe  Cookie Recipe\n",
      "0         Eggs            2               3              1\n",
      "1         Milk            1               2              1\n",
      "2        Flour            2               1              2\n",
      "  Grocery Item          Recipe  Number\n",
      "0         Eggs     Cake Recipe       2\n",
      "1         Milk     Cake Recipe       1\n",
      "2        Flour     Cake Recipe       2\n",
      "3         Eggs  Pancake Recipe       3\n",
      "4         Milk  Pancake Recipe       2\n",
      "<class 'pandas.core.frame.DataFrame'>\n",
      "RangeIndex: 3 entries, 0 to 2\n",
      "Data columns (total 4 columns):\n",
      " #   Column          Non-Null Count  Dtype \n",
      "---  ------          --------------  ----- \n",
      " 0   Grocery Item    3 non-null      object\n",
      " 1   Cake Recipe     3 non-null      int64 \n",
      " 2   Pancake Recipe  3 non-null      int64 \n",
      " 3   Cookie Recipe   3 non-null      int64 \n",
      "dtypes: int64(3), object(1)\n",
      "memory usage: 224.0+ bytes\n",
      "None\n",
      "<class 'pandas.core.frame.DataFrame'>\n",
      "RangeIndex: 9 entries, 0 to 8\n",
      "Data columns (total 3 columns):\n",
      " #   Column        Non-Null Count  Dtype \n",
      "---  ------        --------------  ----- \n",
      " 0   Grocery Item  9 non-null      object\n",
      " 1   Recipe        9 non-null      object\n",
      " 2   Number        9 non-null      int64 \n",
      "dtypes: int64(1), object(2)\n",
      "memory usage: 344.0+ bytes\n",
      "None\n",
      "       Cake Recipe  Pancake Recipe  Cookie Recipe\n",
      "count     3.000000             3.0       3.000000\n",
      "mean      1.666667             2.0       1.333333\n",
      "std       0.577350             1.0       0.577350\n",
      "min       1.000000             1.0       1.000000\n",
      "25%       1.500000             1.5       1.000000\n",
      "50%       2.000000             2.0       1.000000\n",
      "75%       2.000000             2.5       1.500000\n",
      "max       2.000000             3.0       2.000000\n",
      "         Number\n",
      "count  9.000000\n",
      "mean   1.666667\n",
      "std    0.707107\n",
      "min    1.000000\n",
      "25%    1.000000\n",
      "50%    2.000000\n",
      "75%    2.000000\n",
      "max    3.000000\n",
      "Grocery Item  Cake Recipe  Pancake Recipe  Cookie Recipe\n",
      "Eggs          2            3               1                1\n",
      "Flour         2            1               2                1\n",
      "Milk          1            2               1                1\n",
      "Name: count, dtype: int64\n",
      "Grocery Item  Recipe          Number\n",
      "Eggs          Cake Recipe     2         1\n",
      "              Cookie Recipe   1         1\n",
      "              Pancake Recipe  3         1\n",
      "Flour         Cake Recipe     2         1\n",
      "              Cookie Recipe   2         1\n",
      "              Pancake Recipe  1         1\n",
      "Milk          Cake Recipe     1         1\n",
      "              Cookie Recipe   1         1\n",
      "              Pancake Recipe  2         1\n",
      "Name: count, dtype: int64\n"
     ]
    }
   ],
   "source": [
    "# Read the CSV files from the new path \"datafolder/\"\n",
    "df1 = pd.read_csv(\"data_folder/df1.csv\")   # Load df1.csv from the datafolder directory\n",
    "df2 = pd.read_csv(\"data_folder/df2.csv\")   # Load df2.csv from the datafolder directory\n",
    "\n",
    "# Display the first 5 rows of each DataFrame\n",
    "print(df1.head())  # Quick check of df1 structure\n",
    "print(df2.head())  # Quick check of df2 structure\n",
    "\n",
    "# Display info summary (columns, data types, non-null counts)\n",
    "print(df1.info())  # Diagnose df1\n",
    "print(df2.info())  # Diagnose df2\n",
    "\n",
    "# Display descriptive statistics (mean, std, min, max, etc.)\n",
    "print(df1.describe())  # Summary stats for df1\n",
    "print(df2.describe())  # Summary stats for df2\n",
    "\n",
    "# Display distinct rows and their frequencies\n",
    "print(df1.value_counts())  # Value counts for unique rows in df1\n",
    "print(df2.value_counts())  # Value counts for unique rows in df2"
   ]
  },
  {
   "cell_type": "markdown",
   "id": "a58e53a1",
   "metadata": {},
   "source": [
    "## Dealing with multiples files\n",
    "When working in real-world projects, data often comes split into many separate files that share the same structure. An efficient way to handle this situation is to combine them into a single dataset so that analysis can be done on the whole rather than on fragments. For example, imagine you have files named `file1.csv`, `file2.csv`, `file3.csv`, and so on. Rather than reading them one by one and joining them manually, you can use the `glob` library to automatically collect all the filenames that follow a certain pattern.\n",
    "By writing `glob.glob(\"file*.csv\")`, Python returns a list of all files in the directory whose names start with “file” and end in `.csv`. You can then loop over this list, use `pandas.read_csv()` to read each file into a DataFrame, and store each DataFrame in a list. Finally, `pd.concat()` merges all those DataFrames into a single table.\n",
    "This approach means you don’t have to hard-code every filename; you just tell Python what the pattern looks like, and it handles the rest. The result is one combined DataFrame ready for cleaning, exploration, and analysis, no matter how many files you start with."
   ]
  },
  {
   "cell_type": "code",
   "execution_count": 40,
   "id": "e7152c40",
   "metadata": {},
   "outputs": [
    {
     "name": "stdout",
     "output_type": "stream",
     "text": [
      "    id         full_name gender_age fractions probability       grade\n",
      "0    0  Nikolia Rainsdon        F15       66%         74%  11th grade\n",
      "1    1    Libbie MacIver        F15       71%         83%  10th grade\n",
      "2    2    Caesar Arnison        M16       70%         78%  12th grade\n",
      "3    3     Leanora Cowup        F15       72%         74%   9th grade\n",
      "4    4     Leanora Cowup        F15       72%         74%   9th grade\n",
      "..  ..               ...        ...       ...         ...         ...\n",
      "95  95  Brig Meadowcroft        M16       84%         NaN  12th grade\n",
      "96  96  Isidor Abrashkov        M14       83%         78%  11th grade\n",
      "97  97      Siana McKune        F17       72%         76%  12th grade\n",
      "98  98       Tuck Lyford        M17       73%         84%  11th grade\n",
      "99  99       Janie Paris        F17       68%         82%  11th grade\n",
      "\n",
      "[600 rows x 6 columns]\n",
      "600\n"
     ]
    }
   ],
   "source": [
    "import pandas as pd      # pandas is used to work with tabular data\n",
    "import glob              # glob is used to find filenames matching a pattern\n",
    "\n",
    "# student_files is a list of all filenames that match \"exams*.csv\"\n",
    "# Example: [\"exams0.csv\", \"exams1.csv\", ..., \"exams9.csv\"]\n",
    "student_files = glob.glob(\"data_folder/exams*.csv\")\n",
    "\n",
    "# df_list is an empty Python list that will store multiple DataFrames\n",
    "df_list = []\n",
    "\n",
    "# Loop through each filename in student_files\n",
    "for filename in student_files:\n",
    "    # df is a pandas DataFrame created by reading the CSV file\n",
    "    df = pd.read_csv(filename)\n",
    "    # Append each DataFrame to df_list\n",
    "    df_list.append(df)\n",
    "\n",
    "# students is a single pandas DataFrame created by concatenating\n",
    "# all the DataFrames stored inside df_list\n",
    "students = pd.concat(df_list)\n",
    "\n",
    "# Print the combined DataFrame\n",
    "print(students)\n",
    "\n",
    "# Print the number of rows (observations) in the combined DataFrame\n",
    "print(len(students))"
   ]
  },
  {
   "cell_type": "markdown",
   "id": "afb902b1",
   "metadata": {},
   "source": [
    "## Reshaping your Data\n",
    "Reshaping data is often necessary to turn a dataset into tidy form, where every variable has its own column and every observation has its own row. A common issue is when different categories of the same variable are stored as separate columns. For instance, you might see account balances spread across “Checking” and “Savings” columns, which makes comparisons and aggregations awkward. The tidy version has a single “Account Type” column that indicates whether a row is a checking or savings balance, and a single “Amount” column that records the balance.\n",
    "The tool for this transformation in pandas is `.melt()`. It “unpivots” wide data into long format. You specify which column(s) should remain fixed (`id_vars`), which columns you want to transform into variable/value pairs (`value_vars`), what to call the new variable column (`var_name`), and what to call the new values column (`value_name`). For example, calling `.melt()` on the account table with “Account” as the ID and “Checking” and “Savings” as the value variables produces a long table where each row is one balance, clearly identified by account number and account type.\n",
    "This tidy structure is far more flexible. It makes it straightforward to group by account type, calculate totals, or merge with other datasets. After melting, it’s also common to rename the columns so they are descriptive, ensuring that the table is self-explanatory to anyone who uses it.\n"
   ]
  },
  {
   "cell_type": "code",
   "execution_count": 41,
   "id": "e8ad681c",
   "metadata": {},
   "outputs": [
    {
     "name": "stdout",
     "output_type": "stream",
     "text": [
      "Index(['Unnamed: 0', 'full_name', 'gender_age', 'fractions', 'probability',\n",
      "       'grade'],\n",
      "      dtype='object')\n",
      "-----------------------------------------------------\n",
      "           full_name gender_age       grade       exam score\n",
      "0     Moses Kirckman        M14  11th grade  fractions   69%\n",
      "1    Timofei Strowan        M18  11th grade  fractions   63%\n",
      "2       Silvain Poll        M18   9th grade  fractions   69%\n",
      "3     Lezley Pinxton        M18  11th grade  fractions   NaN\n",
      "4  Bernadene Saunper        F17  11th grade  fractions   72%\n",
      "-----------------------------------------------------\n",
      "Index(['full_name', 'gender_age', 'grade', 'exam', 'score'], dtype='object')\n",
      "-----------------------------------------------------\n",
      "exam\n",
      "fractions      1000\n",
      "probability    1000\n",
      "Name: count, dtype: int64\n"
     ]
    }
   ],
   "source": [
    "students = pd.read_csv(\"data_folder/students.csv\")\n",
    "\n",
    "# 1. Print the column names of the original students DataFrame\n",
    "print(students.columns)   # This shows what columns exist before reshaping\n",
    "\n",
    "# 2. Reshape the DataFrame with pd.melt()\n",
    "# - Keep 'full_name', 'gender_age', and 'grade' as identifier columns\n",
    "# - Melt the exam score columns: 'fractions' and 'probability'\n",
    "# - Create a new column 'exam' that stores the exam type\n",
    "# - Create a new column 'score' that stores the actual exam score\n",
    "students = pd.melt(\n",
    "    frame=students,\n",
    "    id_vars=['full_name', 'gender_age', 'grade'],\n",
    "    value_vars=['fractions', 'probability'],\n",
    "    value_name='score',\n",
    "    var_name='exam'\n",
    ")\n",
    "print(\"-----------------------------------------------------\")\n",
    "# 3. Print out the first rows to verify reshaping worked\n",
    "print(students.head())\n",
    "print(\"-----------------------------------------------------\")\n",
    "# 4. Print the new column names\n",
    "print(students.columns)\n",
    "print(\"-----------------------------------------------------\")\n",
    "# 5. Print the counts of each exam type\n",
    "print(students['exam'].value_counts())\n"
   ]
  },
  {
   "cell_type": "markdown",
   "id": "be6f7599",
   "metadata": {},
   "source": [
    "## Dealing with Duplicates\n",
    "Duplicates are a common issue in datasets, often caused by mistakes during data entry, collection, or saving. They can lead to misleading analyses if not handled properly. In pandas, you can detect duplicates with the `.duplicated()` method, which returns a series of Boolean values indicating whether each row is a repeat of a previous one. A row is considered a duplicate only if every value in that row matches another row exactly.\n",
    "To clean the dataset, `.drop_duplicates()` removes all repeated rows, keeping only the first occurrence. For example, if two identical “apple” rows exist, one will be dropped while unique rows remain. However, rows that differ in even one column (like two “peach” entries with different prices) are treated as distinct and not removed.\n",
    "You can also target duplicates in specific columns by using the `subset` parameter. Calling `.drop_duplicates(subset=[\"item\"])` ensures only the first row for each item is kept, dropping any additional entries, even if other values differ. This is helpful when you know that duplicates in a certain variable (like “item”) don’t add useful information. On the other hand, you wouldn’t want to remove duplicates based on a column like “price,” because multiple items legitimately share the same price.\n",
    "The key is to carefully decide which columns define uniqueness in your context. Used thoughtfully, `.duplicated()` and `.drop_duplicates()` ensure your data is clean, accurate, and reliable for analysis."
   ]
  },
  {
   "cell_type": "code",
   "execution_count": 42,
   "id": "597d76be",
   "metadata": {},
   "outputs": [
    {
     "name": "stdout",
     "output_type": "stream",
     "text": [
      "              full_name gender_age       grade         exam score\n",
      "0        Moses Kirckman        M14  11th grade    fractions   69%\n",
      "1       Timofei Strowan        M18  11th grade    fractions   63%\n",
      "2          Silvain Poll        M18   9th grade    fractions   69%\n",
      "3        Lezley Pinxton        M18  11th grade    fractions   NaN\n",
      "4     Bernadene Saunper        F17  11th grade    fractions   72%\n",
      "...                 ...        ...         ...          ...   ...\n",
      "1995     Wilie Stillert        F14   9th grade  probability   69%\n",
      "1996     Gertie Flicker        F15  11th grade  probability   86%\n",
      "1997       Yettie Labes        F14  12th grade  probability   82%\n",
      "1998     Lock McGuinley        M18  10th grade  probability   84%\n",
      "1999       Bebe Lebbern        F15  12th grade  probability   91%\n",
      "\n",
      "[2000 rows x 5 columns]\n",
      "False    1976\n",
      "True       24\n",
      "Name: count, dtype: int64\n",
      "False    1976\n",
      "Name: count, dtype: int64\n"
     ]
    }
   ],
   "source": [
    "import pandas as pd\n",
    "\n",
    "# Print the original DataFrame\n",
    "print(students)\n",
    "\n",
    "# 1. Create a Series showing which rows are duplicates\n",
    "duplicates = students.duplicated()\n",
    "\n",
    "# 2. Print counts of True/False → tells us how many rows are duplicates\n",
    "print(duplicates.value_counts())\n",
    "\n",
    "# 3. Drop duplicate rows and update the DataFrame\n",
    "students = students.drop_duplicates()\n",
    "\n",
    "# 4. Check again for duplicates after dropping\n",
    "duplicates = students.duplicated()\n",
    "print(duplicates.value_counts())\n"
   ]
  },
  {
   "cell_type": "markdown",
   "id": "2d82bde6",
   "metadata": {},
   "source": [
    "## Split Column values\n",
    "Sometimes data columns contain multiple pieces of information bundled together, and we need to separate them into distinct variables to make the dataset tidy. A common case is when dates are stored as strings without delimiters, like “MMDDYYYY.” For example, “12241989” represents December 24, 1989. While this format is compact, it makes analysis harder because month, day, and year are not directly accessible.\n",
    "When we know the exact structure of the string, pandas allows us to split it using string indexing. By slicing substrings with `.str`, we can create new columns. Taking the first two characters gives the month, the next two characters give the day, and the rest of the string provides the year. For instance, the value “10311966” becomes month = “10”, day = “31”, and year = “1966.”\n",
    "This transformation turns one messy column into three clear variables that can be used separately in analysis or visualization. It also helps prepare the data for conversion into numeric or datetime formats later. Splitting by index is thus a quick and reliable technique whenever you have strings with a consistent fixed-length structure."
   ]
  },
  {
   "cell_type": "markdown",
   "id": "71281cda",
   "metadata": {},
   "source": [
    "What .str does\n",
    "- In pandas, a column of text values (strings) is stored as a Series.\n",
    "- The .str accessor allows you to apply vectorized string operations directly to every element in the column.\n",
    "- For example, .str[0] takes the first character of every string, .str[1:] takes the substring starting from the second character to the end.\n",
    "- Without .str, you’d need to loop through each row manually, but .str applies the operation efficiently to the whole column."
   ]
  },
  {
   "cell_type": "code",
   "execution_count": 43,
   "id": "19c6d9e3",
   "metadata": {},
   "outputs": [
    {
     "name": "stdout",
     "output_type": "stream",
     "text": [
      "              full_name gender_age       grade         exam score\n",
      "0        Moses Kirckman        M14  11th grade    fractions   69%\n",
      "1       Timofei Strowan        M18  11th grade    fractions   63%\n",
      "2          Silvain Poll        M18   9th grade    fractions   69%\n",
      "3        Lezley Pinxton        M18  11th grade    fractions   NaN\n",
      "4     Bernadene Saunper        F17  11th grade    fractions   72%\n",
      "...                 ...        ...         ...          ...   ...\n",
      "1995     Wilie Stillert        F14   9th grade  probability   69%\n",
      "1996     Gertie Flicker        F15  11th grade  probability   86%\n",
      "1997       Yettie Labes        F14  12th grade  probability   82%\n",
      "1998     Lock McGuinley        M18  10th grade  probability   84%\n",
      "1999       Bebe Lebbern        F15  12th grade  probability   91%\n",
      "\n",
      "[1976 rows x 5 columns]\n",
      "Index(['full_name', 'gender_age', 'grade', 'exam', 'score'], dtype='object')\n",
      "0    M14\n",
      "1    M18\n",
      "2    M18\n",
      "3    M18\n",
      "4    F17\n",
      "Name: gender_age, dtype: object\n",
      "           full_name gender_age       grade       exam score gender age\n",
      "0     Moses Kirckman        M14  11th grade  fractions   69%      M  14\n",
      "1    Timofei Strowan        M18  11th grade  fractions   63%      M  18\n",
      "2       Silvain Poll        M18   9th grade  fractions   69%      M  18\n",
      "3     Lezley Pinxton        M18  11th grade  fractions   NaN      M  18\n",
      "4  Bernadene Saunper        F17  11th grade  fractions   72%      F  17\n",
      "Index(['full_name', 'gender_age', 'grade', 'exam', 'score', 'gender', 'age'], dtype='object')\n",
      "           full_name       grade       exam score gender age\n",
      "0     Moses Kirckman  11th grade  fractions   69%      M  14\n",
      "1    Timofei Strowan  11th grade  fractions   63%      M  18\n",
      "2       Silvain Poll   9th grade  fractions   69%      M  18\n",
      "3     Lezley Pinxton  11th grade  fractions   NaN      M  18\n",
      "4  Bernadene Saunper  11th grade  fractions   72%      F  17\n"
     ]
    }
   ],
   "source": [
    "# 1. Print the original DataFrame\n",
    "print(students)\n",
    "\n",
    "# Print column names to inspect structure\n",
    "print(students.columns)\n",
    "\n",
    "# 2. Inspect the first rows of the gender_age column\n",
    "print(students[\"gender_age\"].head())\n",
    "\n",
    "# 3. Extract the first character as gender\n",
    "students[\"gender\"] = students.gender_age.str[0]\n",
    "\n",
    "# 4. Extract the rest of the string as age\n",
    "students[\"age\"] = students.gender_age.str[1:]\n",
    "\n",
    "# 5. Inspect the DataFrame after adding new columns\n",
    "print(students.head())\n",
    "print(students.columns)\n",
    "\n",
    "# 6. Drop the old gender_age column by selecting only the needed columns\n",
    "students = students[['full_name', 'grade', 'exam', 'score', 'gender', 'age']]\n",
    "print(students.head())\n"
   ]
  },
  {
   "cell_type": "markdown",
   "id": "ec06c7ba",
   "metadata": {},
   "source": [
    "## Splitting Strings 2\n",
    "Sometimes a single column contains more than one piece of information, and splitting by fixed positions won’t work if the parts have different lengths. In those cases, we can split by a specific character that separates the values. For example, if a column named type has entries like user_Kenya or admin_US, the underscore _ is the natural divider between user type and country.\n",
    "With pandas, .str.split('_') separates each string into a list: everything before the underscore goes into the first position, and everything after goes into the second. By saving this intermediate result, we can then select the pieces we want. Using .str.get(0) picks the first part (e.g., user, admin), and .str.get(1) picks the second part (e.g., Kenya, US).\n",
    "This process reshapes the dataset into a tidier form with two new columns, usertype and country, which makes it much easier to analyze patterns such as how many users come from each country or how behavior differs across roles."
   ]
  },
  {
   "cell_type": "code",
   "execution_count": 44,
   "id": "b6867e29",
   "metadata": {
    "scrolled": true
   },
   "outputs": [
    {
     "name": "stdout",
     "output_type": "stream",
     "text": [
      "           full_name       grade       exam score gender age first_name  \\\n",
      "0     Moses Kirckman  11th grade  fractions   69%      M  14      Moses   \n",
      "1    Timofei Strowan  11th grade  fractions   63%      M  18    Timofei   \n",
      "2       Silvain Poll   9th grade  fractions   69%      M  18    Silvain   \n",
      "3     Lezley Pinxton  11th grade  fractions   NaN      M  18     Lezley   \n",
      "4  Bernadene Saunper  11th grade  fractions   72%      F  17  Bernadene   \n",
      "\n",
      "  last_name  \n",
      "0  Kirckman  \n",
      "1   Strowan  \n",
      "2      Poll  \n",
      "3   Pinxton  \n",
      "4   Saunper  \n"
     ]
    }
   ],
   "source": [
    "# 1. Split the 'full_name' column into two parts wherever there is a space \" \"\n",
    "name_split = students[\"full_name\"].str.split(\" \")\n",
    "\n",
    "# 2. Take the first part (index 0) as the first name\n",
    "students[\"first_name\"] = name_split.str.get(0)\n",
    "\n",
    "# 3. Take the second part (index 1) as the last name\n",
    "students[\"last_name\"] = name_split.str.get(1)\n",
    "\n",
    "# 4. Print the first rows to check the new structure\n",
    "print(students.head())"
   ]
  },
  {
   "cell_type": "markdown",
   "id": "bbb3f25f",
   "metadata": {},
   "source": [
    "## Looking at Types\n",
    "Every column in a pandas DataFrame has a data type, known as a **dtype**, and the dtype determines what kinds of operations are possible. Columns can be numeric (like `int` or `float`), boolean, dates or times (`datetime`, `timedelta`), categories, or generic objects (often strings). When data comes in from a CSV or other raw source, pandas may store some values as objects even if they look numeric, which can make analysis harder.\n",
    "\n",
    "For example, if a column of prices is stored as strings like `\"$3\"`, the dtype will be `object`. That means you can’t directly calculate averages or plot trends because pandas treats the column as text rather than numbers. By contrast, a column of calorie counts stored as `int64` can be summed, averaged, or plotted without issue.\n",
    "\n",
    "To check the types of all columns in your DataFrame, you use `.dtypes`. This returns a Series object listing the dtype of each column. For instance, in a table with fruit names, prices stored as strings, and calorie counts as integers, `.dtypes` would show `object` for the text columns and `int64` for the calorie column.\n",
    "\n",
    "Knowing your dtypes is the first step in cleaning because it tells you which columns need conversion before analysis. The next steps often involve transforming object columns into numeric or datetime types so you can apply mathematical or time-based operations to them.\n"
   ]
  },
  {
   "cell_type": "code",
   "execution_count": 45,
   "id": "59d374d8",
   "metadata": {
    "scrolled": true
   },
   "outputs": [
    {
     "name": "stdout",
     "output_type": "stream",
     "text": [
      "full_name     object\n",
      "grade         object\n",
      "exam          object\n",
      "score         object\n",
      "gender        object\n",
      "age           object\n",
      "first_name    object\n",
      "last_name     object\n",
      "dtype: object\n"
     ]
    },
    {
     "ename": "TypeError",
     "evalue": "can only concatenate str (not \"int\") to str",
     "output_type": "error",
     "traceback": [
      "\u001b[0;31m---------------------------------------------------------------------------\u001b[0m",
      "\u001b[0;31mTypeError\u001b[0m                                 Traceback (most recent call last)",
      "Cell \u001b[0;32mIn [45], line 6\u001b[0m\n\u001b[1;32m      2\u001b[0m \u001b[38;5;28mprint\u001b[39m(students\u001b[38;5;241m.\u001b[39mdtypes)\n\u001b[1;32m      4\u001b[0m \u001b[38;5;66;03m# 2. Try to calculate the mean of the 'score' column\u001b[39;00m\n\u001b[1;32m      5\u001b[0m \u001b[38;5;66;03m# This will cause an error if 'score' is stored as strings instead of numbers\u001b[39;00m\n\u001b[0;32m----> 6\u001b[0m \u001b[38;5;28mprint\u001b[39m(\u001b[43mstudents\u001b[49m\u001b[43m[\u001b[49m\u001b[38;5;124;43m\"\u001b[39;49m\u001b[38;5;124;43mscore\u001b[39;49m\u001b[38;5;124;43m\"\u001b[39;49m\u001b[43m]\u001b[49m\u001b[38;5;241;43m.\u001b[39;49m\u001b[43mmean\u001b[49m\u001b[43m(\u001b[49m\u001b[43m)\u001b[49m)\n",
      "File \u001b[0;32m~/.pyenv/versions/3.10.6/envs/lewagon/lib/python3.10/site-packages/pandas/core/series.py:6560\u001b[0m, in \u001b[0;36mSeries.mean\u001b[0;34m(self, axis, skipna, numeric_only, **kwargs)\u001b[0m\n\u001b[1;32m   6552\u001b[0m \u001b[38;5;129m@doc\u001b[39m(make_doc(\u001b[38;5;124m\"\u001b[39m\u001b[38;5;124mmean\u001b[39m\u001b[38;5;124m\"\u001b[39m, ndim\u001b[38;5;241m=\u001b[39m\u001b[38;5;241m1\u001b[39m))\n\u001b[1;32m   6553\u001b[0m \u001b[38;5;28;01mdef\u001b[39;00m \u001b[38;5;21mmean\u001b[39m(\n\u001b[1;32m   6554\u001b[0m     \u001b[38;5;28mself\u001b[39m,\n\u001b[0;32m   (...)\u001b[0m\n\u001b[1;32m   6558\u001b[0m     \u001b[38;5;241m*\u001b[39m\u001b[38;5;241m*\u001b[39mkwargs,\n\u001b[1;32m   6559\u001b[0m ):\n\u001b[0;32m-> 6560\u001b[0m     \u001b[38;5;28;01mreturn\u001b[39;00m \u001b[43mNDFrame\u001b[49m\u001b[38;5;241;43m.\u001b[39;49m\u001b[43mmean\u001b[49m\u001b[43m(\u001b[49m\u001b[38;5;28;43mself\u001b[39;49m\u001b[43m,\u001b[49m\u001b[43m \u001b[49m\u001b[43maxis\u001b[49m\u001b[43m,\u001b[49m\u001b[43m \u001b[49m\u001b[43mskipna\u001b[49m\u001b[43m,\u001b[49m\u001b[43m \u001b[49m\u001b[43mnumeric_only\u001b[49m\u001b[43m,\u001b[49m\u001b[43m \u001b[49m\u001b[38;5;241;43m*\u001b[39;49m\u001b[38;5;241;43m*\u001b[39;49m\u001b[43mkwargs\u001b[49m\u001b[43m)\u001b[49m\n",
      "File \u001b[0;32m~/.pyenv/versions/3.10.6/envs/lewagon/lib/python3.10/site-packages/pandas/core/generic.py:12439\u001b[0m, in \u001b[0;36mNDFrame.mean\u001b[0;34m(self, axis, skipna, numeric_only, **kwargs)\u001b[0m\n\u001b[1;32m  12432\u001b[0m \u001b[38;5;28;01mdef\u001b[39;00m \u001b[38;5;21mmean\u001b[39m(\n\u001b[1;32m  12433\u001b[0m     \u001b[38;5;28mself\u001b[39m,\n\u001b[1;32m  12434\u001b[0m     axis: Axis \u001b[38;5;241m|\u001b[39m \u001b[38;5;28;01mNone\u001b[39;00m \u001b[38;5;241m=\u001b[39m \u001b[38;5;241m0\u001b[39m,\n\u001b[0;32m   (...)\u001b[0m\n\u001b[1;32m  12437\u001b[0m     \u001b[38;5;241m*\u001b[39m\u001b[38;5;241m*\u001b[39mkwargs,\n\u001b[1;32m  12438\u001b[0m ) \u001b[38;5;241m-\u001b[39m\u001b[38;5;241m>\u001b[39m Series \u001b[38;5;241m|\u001b[39m \u001b[38;5;28mfloat\u001b[39m:\n\u001b[0;32m> 12439\u001b[0m     \u001b[38;5;28;01mreturn\u001b[39;00m \u001b[38;5;28;43mself\u001b[39;49m\u001b[38;5;241;43m.\u001b[39;49m\u001b[43m_stat_function\u001b[49m\u001b[43m(\u001b[49m\n\u001b[1;32m  12440\u001b[0m \u001b[43m        \u001b[49m\u001b[38;5;124;43m\"\u001b[39;49m\u001b[38;5;124;43mmean\u001b[39;49m\u001b[38;5;124;43m\"\u001b[39;49m\u001b[43m,\u001b[49m\u001b[43m \u001b[49m\u001b[43mnanops\u001b[49m\u001b[38;5;241;43m.\u001b[39;49m\u001b[43mnanmean\u001b[49m\u001b[43m,\u001b[49m\u001b[43m \u001b[49m\u001b[43maxis\u001b[49m\u001b[43m,\u001b[49m\u001b[43m \u001b[49m\u001b[43mskipna\u001b[49m\u001b[43m,\u001b[49m\u001b[43m \u001b[49m\u001b[43mnumeric_only\u001b[49m\u001b[43m,\u001b[49m\u001b[43m \u001b[49m\u001b[38;5;241;43m*\u001b[39;49m\u001b[38;5;241;43m*\u001b[39;49m\u001b[43mkwargs\u001b[49m\n\u001b[1;32m  12441\u001b[0m \u001b[43m    \u001b[49m\u001b[43m)\u001b[49m\n",
      "File \u001b[0;32m~/.pyenv/versions/3.10.6/envs/lewagon/lib/python3.10/site-packages/pandas/core/generic.py:12396\u001b[0m, in \u001b[0;36mNDFrame._stat_function\u001b[0;34m(self, name, func, axis, skipna, numeric_only, **kwargs)\u001b[0m\n\u001b[1;32m  12392\u001b[0m nv\u001b[38;5;241m.\u001b[39mvalidate_func(name, (), kwargs)\n\u001b[1;32m  12394\u001b[0m validate_bool_kwarg(skipna, \u001b[38;5;124m\"\u001b[39m\u001b[38;5;124mskipna\u001b[39m\u001b[38;5;124m\"\u001b[39m, none_allowed\u001b[38;5;241m=\u001b[39m\u001b[38;5;28;01mFalse\u001b[39;00m)\n\u001b[0;32m> 12396\u001b[0m \u001b[38;5;28;01mreturn\u001b[39;00m \u001b[38;5;28;43mself\u001b[39;49m\u001b[38;5;241;43m.\u001b[39;49m\u001b[43m_reduce\u001b[49m\u001b[43m(\u001b[49m\n\u001b[1;32m  12397\u001b[0m \u001b[43m    \u001b[49m\u001b[43mfunc\u001b[49m\u001b[43m,\u001b[49m\u001b[43m \u001b[49m\u001b[43mname\u001b[49m\u001b[38;5;241;43m=\u001b[39;49m\u001b[43mname\u001b[49m\u001b[43m,\u001b[49m\u001b[43m \u001b[49m\u001b[43maxis\u001b[49m\u001b[38;5;241;43m=\u001b[39;49m\u001b[43maxis\u001b[49m\u001b[43m,\u001b[49m\u001b[43m \u001b[49m\u001b[43mskipna\u001b[49m\u001b[38;5;241;43m=\u001b[39;49m\u001b[43mskipna\u001b[49m\u001b[43m,\u001b[49m\u001b[43m \u001b[49m\u001b[43mnumeric_only\u001b[49m\u001b[38;5;241;43m=\u001b[39;49m\u001b[43mnumeric_only\u001b[49m\n\u001b[1;32m  12398\u001b[0m \u001b[43m\u001b[49m\u001b[43m)\u001b[49m\n",
      "File \u001b[0;32m~/.pyenv/versions/3.10.6/envs/lewagon/lib/python3.10/site-packages/pandas/core/series.py:6468\u001b[0m, in \u001b[0;36mSeries._reduce\u001b[0;34m(self, op, name, axis, skipna, numeric_only, filter_type, **kwds)\u001b[0m\n\u001b[1;32m   6463\u001b[0m     \u001b[38;5;66;03m# GH#47500 - change to TypeError to match other methods\u001b[39;00m\n\u001b[1;32m   6464\u001b[0m     \u001b[38;5;28;01mraise\u001b[39;00m \u001b[38;5;167;01mTypeError\u001b[39;00m(\n\u001b[1;32m   6465\u001b[0m         \u001b[38;5;124mf\u001b[39m\u001b[38;5;124m\"\u001b[39m\u001b[38;5;124mSeries.\u001b[39m\u001b[38;5;132;01m{\u001b[39;00mname\u001b[38;5;132;01m}\u001b[39;00m\u001b[38;5;124m does not allow \u001b[39m\u001b[38;5;132;01m{\u001b[39;00mkwd_name\u001b[38;5;132;01m}\u001b[39;00m\u001b[38;5;124m=\u001b[39m\u001b[38;5;132;01m{\u001b[39;00mnumeric_only\u001b[38;5;132;01m}\u001b[39;00m\u001b[38;5;124m \u001b[39m\u001b[38;5;124m\"\u001b[39m\n\u001b[1;32m   6466\u001b[0m         \u001b[38;5;124m\"\u001b[39m\u001b[38;5;124mwith non-numeric dtypes.\u001b[39m\u001b[38;5;124m\"\u001b[39m\n\u001b[1;32m   6467\u001b[0m     )\n\u001b[0;32m-> 6468\u001b[0m \u001b[38;5;28;01mreturn\u001b[39;00m \u001b[43mop\u001b[49m\u001b[43m(\u001b[49m\u001b[43mdelegate\u001b[49m\u001b[43m,\u001b[49m\u001b[43m \u001b[49m\u001b[43mskipna\u001b[49m\u001b[38;5;241;43m=\u001b[39;49m\u001b[43mskipna\u001b[49m\u001b[43m,\u001b[49m\u001b[43m \u001b[49m\u001b[38;5;241;43m*\u001b[39;49m\u001b[38;5;241;43m*\u001b[39;49m\u001b[43mkwds\u001b[49m\u001b[43m)\u001b[49m\n",
      "File \u001b[0;32m~/.pyenv/versions/3.10.6/envs/lewagon/lib/python3.10/site-packages/pandas/core/nanops.py:147\u001b[0m, in \u001b[0;36mbottleneck_switch.__call__.<locals>.f\u001b[0;34m(values, axis, skipna, **kwds)\u001b[0m\n\u001b[1;32m    145\u001b[0m         result \u001b[38;5;241m=\u001b[39m alt(values, axis\u001b[38;5;241m=\u001b[39maxis, skipna\u001b[38;5;241m=\u001b[39mskipna, \u001b[38;5;241m*\u001b[39m\u001b[38;5;241m*\u001b[39mkwds)\n\u001b[1;32m    146\u001b[0m \u001b[38;5;28;01melse\u001b[39;00m:\n\u001b[0;32m--> 147\u001b[0m     result \u001b[38;5;241m=\u001b[39m \u001b[43malt\u001b[49m\u001b[43m(\u001b[49m\u001b[43mvalues\u001b[49m\u001b[43m,\u001b[49m\u001b[43m \u001b[49m\u001b[43maxis\u001b[49m\u001b[38;5;241;43m=\u001b[39;49m\u001b[43maxis\u001b[49m\u001b[43m,\u001b[49m\u001b[43m \u001b[49m\u001b[43mskipna\u001b[49m\u001b[38;5;241;43m=\u001b[39;49m\u001b[43mskipna\u001b[49m\u001b[43m,\u001b[49m\u001b[43m \u001b[49m\u001b[38;5;241;43m*\u001b[39;49m\u001b[38;5;241;43m*\u001b[39;49m\u001b[43mkwds\u001b[49m\u001b[43m)\u001b[49m\n\u001b[1;32m    149\u001b[0m \u001b[38;5;28;01mreturn\u001b[39;00m result\n",
      "File \u001b[0;32m~/.pyenv/versions/3.10.6/envs/lewagon/lib/python3.10/site-packages/pandas/core/nanops.py:404\u001b[0m, in \u001b[0;36m_datetimelike_compat.<locals>.new_func\u001b[0;34m(values, axis, skipna, mask, **kwargs)\u001b[0m\n\u001b[1;32m    401\u001b[0m \u001b[38;5;28;01mif\u001b[39;00m datetimelike \u001b[38;5;129;01mand\u001b[39;00m mask \u001b[38;5;129;01mis\u001b[39;00m \u001b[38;5;28;01mNone\u001b[39;00m:\n\u001b[1;32m    402\u001b[0m     mask \u001b[38;5;241m=\u001b[39m isna(values)\n\u001b[0;32m--> 404\u001b[0m result \u001b[38;5;241m=\u001b[39m \u001b[43mfunc\u001b[49m\u001b[43m(\u001b[49m\u001b[43mvalues\u001b[49m\u001b[43m,\u001b[49m\u001b[43m \u001b[49m\u001b[43maxis\u001b[49m\u001b[38;5;241;43m=\u001b[39;49m\u001b[43maxis\u001b[49m\u001b[43m,\u001b[49m\u001b[43m \u001b[49m\u001b[43mskipna\u001b[49m\u001b[38;5;241;43m=\u001b[39;49m\u001b[43mskipna\u001b[49m\u001b[43m,\u001b[49m\u001b[43m \u001b[49m\u001b[43mmask\u001b[49m\u001b[38;5;241;43m=\u001b[39;49m\u001b[43mmask\u001b[49m\u001b[43m,\u001b[49m\u001b[43m \u001b[49m\u001b[38;5;241;43m*\u001b[39;49m\u001b[38;5;241;43m*\u001b[39;49m\u001b[43mkwargs\u001b[49m\u001b[43m)\u001b[49m\n\u001b[1;32m    406\u001b[0m \u001b[38;5;28;01mif\u001b[39;00m datetimelike:\n\u001b[1;32m    407\u001b[0m     result \u001b[38;5;241m=\u001b[39m _wrap_results(result, orig_values\u001b[38;5;241m.\u001b[39mdtype, fill_value\u001b[38;5;241m=\u001b[39miNaT)\n",
      "File \u001b[0;32m~/.pyenv/versions/3.10.6/envs/lewagon/lib/python3.10/site-packages/pandas/core/nanops.py:719\u001b[0m, in \u001b[0;36mnanmean\u001b[0;34m(values, axis, skipna, mask)\u001b[0m\n\u001b[1;32m    716\u001b[0m     dtype_count \u001b[38;5;241m=\u001b[39m dtype\n\u001b[1;32m    718\u001b[0m count \u001b[38;5;241m=\u001b[39m _get_counts(values\u001b[38;5;241m.\u001b[39mshape, mask, axis, dtype\u001b[38;5;241m=\u001b[39mdtype_count)\n\u001b[0;32m--> 719\u001b[0m the_sum \u001b[38;5;241m=\u001b[39m \u001b[43mvalues\u001b[49m\u001b[38;5;241;43m.\u001b[39;49m\u001b[43msum\u001b[49m\u001b[43m(\u001b[49m\u001b[43maxis\u001b[49m\u001b[43m,\u001b[49m\u001b[43m \u001b[49m\u001b[43mdtype\u001b[49m\u001b[38;5;241;43m=\u001b[39;49m\u001b[43mdtype_sum\u001b[49m\u001b[43m)\u001b[49m\n\u001b[1;32m    720\u001b[0m the_sum \u001b[38;5;241m=\u001b[39m _ensure_numeric(the_sum)\n\u001b[1;32m    722\u001b[0m \u001b[38;5;28;01mif\u001b[39;00m axis \u001b[38;5;129;01mis\u001b[39;00m \u001b[38;5;129;01mnot\u001b[39;00m \u001b[38;5;28;01mNone\u001b[39;00m \u001b[38;5;129;01mand\u001b[39;00m \u001b[38;5;28mgetattr\u001b[39m(the_sum, \u001b[38;5;124m\"\u001b[39m\u001b[38;5;124mndim\u001b[39m\u001b[38;5;124m\"\u001b[39m, \u001b[38;5;28;01mFalse\u001b[39;00m):\n",
      "File \u001b[0;32m~/.pyenv/versions/3.10.6/envs/lewagon/lib/python3.10/site-packages/numpy/_core/_methods.py:52\u001b[0m, in \u001b[0;36m_sum\u001b[0;34m(a, axis, dtype, out, keepdims, initial, where)\u001b[0m\n\u001b[1;32m     50\u001b[0m \u001b[38;5;28;01mdef\u001b[39;00m \u001b[38;5;21m_sum\u001b[39m(a, axis\u001b[38;5;241m=\u001b[39m\u001b[38;5;28;01mNone\u001b[39;00m, dtype\u001b[38;5;241m=\u001b[39m\u001b[38;5;28;01mNone\u001b[39;00m, out\u001b[38;5;241m=\u001b[39m\u001b[38;5;28;01mNone\u001b[39;00m, keepdims\u001b[38;5;241m=\u001b[39m\u001b[38;5;28;01mFalse\u001b[39;00m,\n\u001b[1;32m     51\u001b[0m          initial\u001b[38;5;241m=\u001b[39m_NoValue, where\u001b[38;5;241m=\u001b[39m\u001b[38;5;28;01mTrue\u001b[39;00m):\n\u001b[0;32m---> 52\u001b[0m     \u001b[38;5;28;01mreturn\u001b[39;00m \u001b[43mumr_sum\u001b[49m\u001b[43m(\u001b[49m\u001b[43ma\u001b[49m\u001b[43m,\u001b[49m\u001b[43m \u001b[49m\u001b[43maxis\u001b[49m\u001b[43m,\u001b[49m\u001b[43m \u001b[49m\u001b[43mdtype\u001b[49m\u001b[43m,\u001b[49m\u001b[43m \u001b[49m\u001b[43mout\u001b[49m\u001b[43m,\u001b[49m\u001b[43m \u001b[49m\u001b[43mkeepdims\u001b[49m\u001b[43m,\u001b[49m\u001b[43m \u001b[49m\u001b[43minitial\u001b[49m\u001b[43m,\u001b[49m\u001b[43m \u001b[49m\u001b[43mwhere\u001b[49m\u001b[43m)\u001b[49m\n",
      "\u001b[0;31mTypeError\u001b[0m: can only concatenate str (not \"int\") to str"
     ]
    }
   ],
   "source": [
    "# 1. Inspect the data types of each column\n",
    "print(students.dtypes)\n",
    "\n",
    "# 2. Try to calculate the mean of the 'score' column\n",
    "# This will cause an error if 'score' is stored as strings instead of numbers\n",
    "print(students[\"score\"].mean())"
   ]
  },
  {
   "cell_type": "markdown",
   "id": "3401f20d",
   "metadata": {},
   "source": [
    "# String Parsing\n",
    "String parsing is an important step in cleaning data, especially when numbers are stored as text with extra characters that make them unusable for calculations. A common case is prices stored with dollar signs. While `\"$3\"` looks like a number, pandas reads it as a string because of the symbol, meaning you can’t average or compare values directly.\n",
    "To fix this, you can use regular expressions with `.replace()` to strip out unwanted characters. For example, applying `.replace('[\\$,]', '', regex=True)` to the price column removes dollar signs and commas, leaving only numeric characters in the strings. Once the column contains clean strings, you then use `pd.to_numeric()` to convert it into a numeric dtype, such as float.\n",
    "After these steps, the column can be used for proper analysis: you can compute the mean price, sum totals, or make price comparisons between fruits. This transformation turns the dataset from something visually understandable but computationally awkward into a format that is both tidy and analytically useful.\n",
    "By parsing strings like this, you turn inconsistent, text-based data into reliable numerical variables, a crucial step for accurate analysis and visualization."
   ]
  },
  {
   "cell_type": "code",
   "execution_count": 46,
   "id": "a21d2fb9",
   "metadata": {},
   "outputs": [
    {
     "name": "stdout",
     "output_type": "stream",
     "text": [
      "full_name     object\n",
      "grade         object\n",
      "exam          object\n",
      "score         object\n",
      "gender        object\n",
      "age           object\n",
      "first_name    object\n",
      "last_name     object\n",
      "dtype: object\n",
      "full_name      object\n",
      "grade          object\n",
      "exam           object\n",
      "score         float64\n",
      "gender         object\n",
      "age            object\n",
      "first_name     object\n",
      "last_name      object\n",
      "dtype: object\n",
      "           full_name       grade       exam  score gender age first_name  \\\n",
      "0     Moses Kirckman  11th grade  fractions   69.0      M  14      Moses   \n",
      "1    Timofei Strowan  11th grade  fractions   63.0      M  18    Timofei   \n",
      "2       Silvain Poll   9th grade  fractions   69.0      M  18    Silvain   \n",
      "3     Lezley Pinxton  11th grade  fractions    NaN      M  18     Lezley   \n",
      "4  Bernadene Saunper  11th grade  fractions   72.0      F  17  Bernadene   \n",
      "\n",
      "  last_name  \n",
      "0  Kirckman  \n",
      "1   Strowan  \n",
      "2      Poll  \n",
      "3   Pinxton  \n",
      "4   Saunper  \n"
     ]
    }
   ],
   "source": [
    "# From object the score becomes float\n",
    "print(students.dtypes) \n",
    "\n",
    "# 1. Remove the '%' signs from the score column using regex\n",
    "students[\"score\"] = students[\"score\"].replace('[\\%,]', '', regex=True)\n",
    "\n",
    "# 2. Convert the cleaned score column from string (object) to numeric (int/float)\n",
    "students[\"score\"] = pd.to_numeric(students[\"score\"])\n",
    "\n",
    "# Check the result\n",
    "print(students.dtypes)   # confirm 'score' is now numeric\n",
    "print(students.head())   # preview the cleaned DataFrame\n"
   ]
  },
  {
   "cell_type": "markdown",
   "id": "992e21db",
   "metadata": {},
   "source": [
    "## More String Parsing\n",
    "Sometimes the numbers we need for analysis are hidden inside longer text strings. For example, workout logs might store both the type of exercise and the number of repetitions in the same field: `\"lunges - 30 reps\"`. While this is easy for humans to read, it’s not structured enough for analysis. To make the data usable, we want to separate the exercise type from the number of reps.\n",
    "With pandas, we can do this using `.str.split()` together with a regular expression. Splitting on the pattern `(\\d+)` tells pandas to break the string wherever it finds digits, and because the digits are in parentheses, they are preserved as part of the result. Using `expand=True` creates a temporary DataFrame where the exercise description, number of reps, and leftover text like `\"reps\"` are split into separate columns.\n",
    "Once we have this split DataFrame, we can assign the parts back to the original data. The middle column (the digits) becomes the `reps` column, and we convert it to numeric with `pd.to_numeric()` so we can calculate totals or averages. The first column (the exercise name) can be cleaned with `.replace('[\\- ]', '', regex=True)` to remove stray hyphens or spaces, leaving just the exercise name.\n",
    "The result is a tidy dataset where each row has separate, meaningful variables: `date`, `exercise`, and `reps`. Now we can easily track how many squats or lunges were done over time, compare exercises, and perform all kinds of analysis that would not be possible if everything remained trapped in a single string."
   ]
  },
  {
   "cell_type": "code",
   "execution_count": 47,
   "id": "cd7f50cc",
   "metadata": {},
   "outputs": [
    {
     "name": "stdout",
     "output_type": "stream",
     "text": [
      "0    11th grade\n",
      "1    11th grade\n",
      "2     9th grade\n",
      "3    11th grade\n",
      "4    11th grade\n",
      "Name: grade, dtype: object\n",
      "full_name      object\n",
      "grade          object\n",
      "exam           object\n",
      "score         float64\n",
      "gender         object\n",
      "age            object\n",
      "first_name     object\n",
      "last_name      object\n",
      "dtype: object\n",
      "10.620445344129555\n"
     ]
    }
   ],
   "source": [
    "import pandas as pd\n",
    "\n",
    "# 1) Prime 5 righe della colonna grade\n",
    "print(students['grade'].head())\n",
    "\n",
    "# 2) Estrai il numero con regex (più diretto di split)\n",
    "students['grade'] = students['grade'].str.extract(r'(\\d+)')\n",
    "\n",
    "# 3) Tipi\n",
    "print(students.dtypes)\n",
    "\n",
    "# 4) Converti a numerico\n",
    "students['grade'] = pd.to_numeric(students['grade'], errors='coerce')\n",
    "\n",
    "# 5) Media\n",
    "avg_grade = students['grade'].mean()\n",
    "print(avg_grade)\n"
   ]
  },
  {
   "cell_type": "markdown",
   "id": "f37e4cec",
   "metadata": {},
   "source": [
    "## Missing Values\n",
    "Missing values are a routine problem in datasets and can occur for many reasons: incomplete data collection, errors in storage, or simple human mistakes. In pandas, these show up as `NaN` (Not a Number), which represents the absence of a value. While some calculations can ignore `NaN`s, others will fail or give misleading results unless the gaps are handled properly.\n",
    "There are two main strategies to deal with missing values:\n",
    "\n",
    "**1. Dropping rows with missing data.**\n",
    "If you don’t want incomplete rows to affect your analysis, you can remove them using `.dropna()`. By default, this deletes any row containing a `NaN`. For more targeted cleaning, you can specify a `subset`, which only removes rows where certain columns are missing. For instance, dropping rows with `NaN` in `num_guests` keeps the rest of the table intact.\n",
    "\n",
    "**2. Filling in missing data.**\n",
    "Sometimes it’s more useful to replace missing values rather than delete them, especially if losing rows would throw away important information. The `.fillna()` method allows you to substitute `NaN`s with chosen values. A common practice is to fill with the mean of the column or another statistic, so the filled values are consistent with the data’s distribution. For example, filling a missing `bill` with the average bill and missing `num_guests` with the average number of guests preserves the dataset size while making it usable for analysis.\n",
    "\n",
    "Choosing between dropping and filling depends on the context: dropping is safer when you want only complete records, while filling is helpful when you need to retain all rows but ensure the data is valid for calculations. Both are essential techniques for preparing clean, reliable datasets."
   ]
  },
  {
   "cell_type": "code",
   "execution_count": 48,
   "id": "750fbef4",
   "metadata": {},
   "outputs": [
    {
     "name": "stdout",
     "output_type": "stream",
     "text": [
      "77.69657422512235\n"
     ]
    }
   ],
   "source": [
    "# 1. Get the mean of the score column before filling NaNs\n",
    "score_mean = students[\"score\"].mean()\n",
    "print(score_mean)"
   ]
  },
  {
   "cell_type": "markdown",
   "id": "e09a7fd9",
   "metadata": {},
   "source": [
    "# Feature Engineering\n",
    "summary"
   ]
  },
  {
   "cell_type": "markdown",
   "id": "4dead637",
   "metadata": {},
   "source": [
    "## Numerical Transformation introduction\n",
    "Numerical transformations are techniques used to adjust and re-express numerical features in a dataset so they can be more effectively used in analysis or machine learning models. Even though data may already be in numeric form, its raw scale, distribution, or range can make it harder for algorithms to compare values fairly or to learn meaningful patterns.\n",
    "\n",
    "Some models, such as logistic regression and neural networks, are very sensitive to how numbers are scaled, while others, like decision trees, are less affected but can still benefit from cleaner inputs. Transformations also help in handling extreme outliers or skewed distributions, making results easier to interpret.\n",
    "\n",
    "The most common types of numerical transformations include:\n",
    "\n",
    "Centering: shifting the values so they are balanced around zero.\n",
    "\n",
    "Standardization: scaling values to have a mean of 0 and standard deviation of 1.\n",
    "\n",
    "Min–Max Scaling: compressing values into a fixed range, usually between 0 and 1.\n",
    "\n",
    "Binning: grouping continuous numbers into intervals or categories.\n",
    "\n",
    "Logarithmic Transformation: reducing skewness by compressing very large values.\n",
    "\n",
    "These methods do not change the essence of the data but adjust its scale or distribution, making comparisons between features more meaningful and helping models perform better."
   ]
  },
  {
   "cell_type": "code",
   "execution_count": 50,
   "id": "db4ecfac",
   "metadata": {},
   "outputs": [
    {
     "name": "stdout",
     "output_type": "stream",
     "text": [
      "Index(['spent', 'nearest_starbucks', 'age', 'rate_quality', 'rate_price',\n",
      "       'rate_promo', 'ambiance', 'wifi', 'service', 'meetings_hangout'],\n",
      "      dtype='object')\n",
      "<class 'pandas.core.frame.DataFrame'>\n",
      "RangeIndex: 122 entries, 0 to 121\n",
      "Data columns (total 10 columns):\n",
      " #   Column             Non-Null Count  Dtype\n",
      "---  ------             --------------  -----\n",
      " 0   spent              122 non-null    int64\n",
      " 1   nearest_starbucks  122 non-null    int64\n",
      " 2   age                122 non-null    int64\n",
      " 3   rate_quality       122 non-null    int64\n",
      " 4   rate_price         122 non-null    int64\n",
      " 5   rate_promo         122 non-null    int64\n",
      " 6   ambiance           122 non-null    int64\n",
      " 7   wifi               122 non-null    int64\n",
      " 8   service            122 non-null    int64\n",
      " 9   meetings_hangout   122 non-null    int64\n",
      "dtypes: int64(10)\n",
      "memory usage: 9.7 KB\n",
      "None\n"
     ]
    }
   ],
   "source": [
    "# Load the CSV file into a DataFrame called coffee\n",
    "coffee = pd.read_csv(\"data_folder/starbucks_customers.csv\")\n",
    "\n",
    "# Print the list of column names to understand available features\n",
    "print(coffee.columns)\n",
    "\n",
    "# Print a summary of the dataset:\n",
    "#   - number of rows and columns\n",
    "#   - each column’s data type\n",
    "#   - count of non-null values (helps detect missing data)\n",
    "print(coffee.info())\n"
   ]
  },
  {
   "cell_type": "markdown",
   "id": "f7c8c423",
   "metadata": {},
   "source": [
    "## Centering your data\n",
    "\n",
    "entering means subtracting the mean of a dataset from each individual data point so that the resulting distribution has a mean of zero. By doing this, we can better analyze how far each value lies above or below the average.\n",
    "\n",
    "The example focuses on the nearest_starbucks feature:\n",
    "\n",
    "First, calculate the mean distance.\n",
    "\n",
    "Then subtract this mean from each distance value to create a centered version of the dataset.\n",
    "\n",
    "Finally, visualize the result with a histogram, which shows the distribution now centered around 0.\n",
    "\n",
    "This makes it easier to interpret the spread of the data, highlighting whether most customers live close to a Starbucks or much farther away.\n",
    "\n",
    "The same technique can be applied to any numerical feature, such as customer age, to compare relative distances from the mean."
   ]
  },
  {
   "cell_type": "code",
   "execution_count": null,
   "id": "ea598c47",
   "metadata": {},
   "outputs": [],
   "source": [
    "# ======================\n",
    "# 1. Select age feature\n",
    "# ======================\n",
    "ages = coffee[\"age\"]\n",
    "\n",
    "# ======================\n",
    "# 2. Find min and max\n",
    "# ======================\n",
    "min_age = ages.min()\n",
    "print(\"Minimum age:\", min_age)\n",
    "\n",
    "max_age = ages.max()\n",
    "print(\"Maximum age:\", max_age)\n",
    "\n",
    "# ======================\n",
    "# 3. Calculate spread\n",
    "# ======================\n",
    "difference = max_age - min_age\n",
    "print(\"Range (max - min):\", difference)\n",
    "\n",
    "# ======================\n",
    "# 4. Find the mean\n",
    "# ======================\n",
    "mean_age = ages.mean()\n",
    "print(\"Mean age:\", mean_age)\n",
    "\n",
    "# ======================\n",
    "# 5. Center data\n",
    "# ======================\n",
    "centered_ages = ages - mean_age\n",
    "print(centered_ages.head())"
   ]
  },
  {
   "cell_type": "code",
   "execution_count": 53,
   "id": "1a06f153",
   "metadata": {
    "scrolled": false
   },
   "outputs": [
    {
     "data": {
      "image/png": "[encoded data removed]",
      "text/plain": [
       "<Figure size 1200x500 with 2 Axes>"
      ]
     },
     "metadata": {},
     "output_type": "display_data"
    }
   ],
   "source": [
    "# Plot side by side histograms\n",
    "fig, axes = plt.subplots(1, 2, figsize=(12,5), sharey=True)\n",
    "\n",
    "# Original distribution\n",
    "axes[0].hist(ages, bins=10, color=\"lightcoral\", edgecolor=\"black\")\n",
    "axes[0].set_title(\"Original Age Distribution\")\n",
    "axes[0].set_xlabel(\"Age\")\n",
    "axes[0].set_ylabel(\"Count\")\n",
    "\n",
    "# Centered distribution\n",
    "axes[1].hist(centered_ages, bins=10, color=\"skyblue\", edgecolor=\"black\")\n",
    "axes[1].set_title(\"Centered Age Distribution\")\n",
    "axes[1].set_xlabel(\"Distance from Mean\")\n",
    "\n",
    "plt.tight_layout()\n",
    "plt.show()"
   ]
  },
  {
   "cell_type": "markdown",
   "id": "53f74d1d",
   "metadata": {},
   "source": [
    "📊 Markdown Explanation\n",
    "\n",
    "The histogram shows the distribution of customer ages after centering. Each bar represents how many customers fall within a certain distance from the average age. Since we subtracted the mean, the center of the histogram is at 0, which corresponds to the average customer.\n",
    "\n",
    "- If a bar is to the left of 0, it means those customers are younger than the average.\n",
    "For example, if the mean age is ~35, and a bar is at -10, that represents customers around 25 years old.\n",
    "\n",
    "- If a bar is to the right of 0, it means those customers are older than the average.\n",
    "For example, if the mean age is ~35, and a bar is at +15, that represents customers around 50 years old.\n",
    "\n",
    "By centering the data, we can easily compare how spread out the ages are relative to the mean, rather than working with raw values. This is especially useful when preparing data for machine learning models."
   ]
  },
  {
   "attachments": {
    "image.png": {
     "image/png": "[encoded data removed]"
    }
   },
   "cell_type": "markdown",
   "id": "3b08aa37",
   "metadata": {},
   "source": [
    "## Standardizing the Data\n",
    "Instead of just subtracting the mean (centering), standardization also divides each data point by the standard deviation. This transformation results in a dataset with a mean of 0 and a standard deviation of 1.\n",
    "\n",
    "Why is this important? Because many machine learning models treat all features equally, regardless of scale. If one feature is measured in large values (like income in dollars) and another in smaller values (like age in years), the larger-scaled feature could dominate the model. Standardization puts them on the same scale, making comparisons fairer and improving performance.\n",
    "\n",
    "We especially want to standardize before:\n",
    "\n",
    "Dimensionality reduction (e.g., PCA)\n",
    "\n",
    "Distance-based algorithms (KMeans, KNN, DBSCAN)\n",
    "\n",
    "Regularized models (LASSO, Ridge)\n",
    "\n",
    "The formula is straightforward:\n",
    "![image.png](attachment:image.png)\n",
    "\n",
    "The lesson uses the nearest_starbucks feature to show this in practice:\n",
    "\n",
    "Compute the mean and standard deviation.\n",
    "\n",
    "Apply the formula to transform each value.\n",
    "\n",
    "Verify the result has mean ~0 and std ~1.\n",
    "\n",
    "Finally, the idea is extended to the age feature, allowing you to compare features on the same scale and reveal patterns that would otherwise be hidden.\n",
    "\n",
    "👉 In short: standardization helps ensure all features contribute equally to machine learning models."
   ]
  },
  {
   "cell_type": "code",
   "execution_count": 55,
   "id": "e4014164",
   "metadata": {},
   "outputs": [
    {
     "name": "stdout",
     "output_type": "stream",
     "text": [
      "Standardized mean: 1.7290358580227847e-16\n",
      "Standardized std deviation: 0.9999999999999999\n"
     ]
    }
   ],
   "source": [
    "# Select the \"age\" column\n",
    "ages = coffee['age']\n",
    "\n",
    "# 1. Find the mean of ages\n",
    "mean_age = np.mean(ages)   # average age across all customers\n",
    "\n",
    "# 2. Find the standard deviation of ages\n",
    "std_dev_age = np.std(ages) # measure of how spread out ages are\n",
    "\n",
    "# 3. Standardize ages using the Z-score formula\n",
    "ages_standardized = (ages - mean_age) / std_dev_age\n",
    "\n",
    "# 4. Check the new distribution (should be mean ~ 0 and std ~ 1)\n",
    "print(\"Standardized mean:\", np.mean(ages_standardized))\n",
    "print(\"Standardized std deviation:\", np.std(ages_standardized))\n"
   ]
  },
  {
   "cell_type": "code",
   "execution_count": 56,
   "id": "f57eaf21",
   "metadata": {},
   "outputs": [
    {
     "data": {
      "image/png": "[encoded data removed]",
      "text/plain": [
       "<Figure size 1200x500 with 2 Axes>"
      ]
     },
     "metadata": {},
     "output_type": "display_data"
    }
   ],
   "source": [
    "# Plot side by side histograms\n",
    "fig, axes = plt.subplots(1, 2, figsize=(12,5), sharey=True)\n",
    "\n",
    "# Original distribution\n",
    "axes[0].hist(ages, bins=10, color=\"lightcoral\", edgecolor=\"black\")\n",
    "axes[0].set_title(\"Original Age Distribution\")\n",
    "axes[0].set_xlabel(\"Age\")\n",
    "axes[0].set_ylabel(\"Count\")\n",
    "\n",
    "# Centered distribution\n",
    "axes[1].hist(ages_standardized, bins=10, color=\"skyblue\", edgecolor=\"black\")\n",
    "axes[1].set_title(\"Standardized Distribution\")\n",
    "axes[1].set_xlabel(\"Distance from Mean\")\n",
    "\n",
    "plt.tight_layout()\n",
    "plt.show()"
   ]
  },
  {
   "cell_type": "markdown",
   "id": "99e956f4",
   "metadata": {},
   "source": [
    "Standardization (Z-score normalization) does not change the shape of the distribution.\n",
    "It only shifts and rescales the values so that:\n",
    "\n",
    "the mean = 0\n",
    "\n",
    "the standard deviation = 1\n",
    "\n",
    "So if your original age distribution was skewed or not normally distributed, the standardized version will keep that skewness — just expressed in standardized units (e.g., “how many std deviations away from the mean”).\n",
    "\n",
    "That’s why, for example:\n",
    "\n",
    "If ages were right-skewed originally (say, more younger customers and fewer older ones), the standardized distribution will still be right-skewed.\n",
    "\n",
    "Standardization is about comparability across features, not about making things Gaussian.\n",
    "\n",
    "👉 If your goal was to make the data more normally distributed, you would need a different transformation (e.g., log-transform, Box-Cox, or Yeo-Johnson)."
   ]
  },
  {
   "cell_type": "markdown",
   "id": "bc16f324",
   "metadata": {},
   "source": [
    "## Standardizing our Data with Sklearn\n",
    "\n",
    "When working with real-world datasets, doing the math by hand to standardize features is a great way to understand what’s happening — subtracting the mean, dividing by the standard deviation, and getting values that sit on the same scale. But when you’re preparing data for machine learning, you’ll almost never do that manually. Instead, you can rely on tools like scikit-learn’s `StandardScaler`, which wraps all of that math into a clean, reusable workflow.\n",
    "\n",
    "The only catch is that scikit-learn expects data in a specific format: a 2D array. That’s why we reshape our series into a single column with `.reshape(-1, 1)`. The `-1` tells NumPy to automatically figure out how many rows to create, while the `1` fixes the number of columns. Once reshaped, `StandardScaler` fits to the data and transforms it in one step, returning a scaled version where the mean is essentially zero and the standard deviation is one.\n",
    "\n",
    "Those strange numbers written in exponential notation, like `-9.464196275493137e-17`, are nothing to worry about — they’re just the computer’s way of writing a value that is so close to zero it might as well be zero. The outcome is the same: your features are standardized, which means models like logistic regression, KNN, or clustering algorithms won’t be biased by different scales in the data.\n",
    "\n",
    "Would you like me to expand this into a teaching-style notebook cell where I show the manual standardization of a feature next to the scikit-learn version, so you can literally see they give the same result?\n"
   ]
  },
  {
   "cell_type": "code",
   "execution_count": 57,
   "id": "60caada0",
   "metadata": {},
   "outputs": [
    {
     "name": "stdout",
     "output_type": "stream",
     "text": [
      "Original ages shape: (122,)\n",
      "Reshaped ages shape: (122, 1)\n",
      "Mean of scaled ages: 1.7290358580227847e-16\n",
      "Std of scaled ages: 0.9999999999999999\n"
     ]
    }
   ],
   "source": [
    "# Import the scaler from scikit-learn\n",
    "from sklearn.preprocessing import StandardScaler  \n",
    "\n",
    "# Select the ages feature\n",
    "ages = coffee['age']\n",
    "\n",
    "# 1. Instantiate the StandardScaler\n",
    "scaler = StandardScaler()\n",
    "\n",
    "# 2. Reshape ages into a 2D array (required by scikit-learn)\n",
    "ages_reshaped = np.array(ages).reshape(-1,1)\n",
    "\n",
    "# Print the shape of the original and reshaped arrays\n",
    "print(\"Original ages shape:\", ages.shape)          # This is a 1D Series\n",
    "print(\"Reshaped ages shape:\", ages_reshaped.shape) # Now 2D, with one column\n",
    "\n",
    "# 3. Standardize the data with fit_transform\n",
    "ages_scaled = scaler.fit_transform(ages_reshaped)\n",
    "\n",
    "# 4. Print mean and std of the scaled data\n",
    "print(\"Mean of scaled ages:\", np.mean(ages_scaled))   # Should be ~0\n",
    "print(\"Std of scaled ages:\", np.std(ages_scaled))     # Should be ~1\n"
   ]
  },
  {
   "cell_type": "markdown",
   "id": "3626ab35",
   "metadata": {},
   "source": [
    "📝 Explanation (Markdown)\n",
    "\n",
    "We reshape the ages feature because scikit-learn expects a 2D array as input, where rows represent samples and columns represent features.\n",
    "The command .reshape(-1, 1) tells NumPy to automatically figure out the correct number of rows (-1) and set exactly one column (1).\n",
    "\n",
    "- The original ages shape shows that the data is a 1D Series.\n",
    "\n",
    "- The reshaped ages shape confirms that it is now 2D, ready for scaling.\n",
    "\n",
    "- The mean of scaled ages comes out very close to 0, which is the goal of standardization.\n",
    "\n",
    "- The standard deviation of scaled ages comes out very close to 1, ensuring all values are on the same scale.\n",
    "\n",
    "👉 Standardization ensures that features with different original units (like age in years vs. distance in miles) can be compared fairly by models that are sensitive to scale."
   ]
  },
  {
   "attachments": {
    "image.png": {
     "image/png": "[encoded data removed]"
    }
   },
   "cell_type": "markdown",
   "id": "4ebb2d21",
   "metadata": {},
   "source": [
    "## Min-Max Normalizer\n",
    "Min-max normalization is another way to rescale numerical data so that all values fall neatly between 0 and 1. Instead of centering or adjusting by the standard deviation, we look at the minimum and maximum values in a feature: the smallest becomes 0, the largest becomes 1, and everything else is linearly scaled in between.\n",
    "\n",
    "The formula looks like this:\n",
    "\n",
    "![image.png](attachment:image.png)\n",
    "\n",
    "This approach is useful when your data has a consistent range without extreme outliers. Unlike standardization, which produces values centered around zero with a standard deviation of one, min-max normalization preserves the relative distances between points but compresses them into a bounded scale.\n",
    "\n",
    "For example, if we take the distance to the nearest Starbucks feature from the dataset, min-max normalization will make the closest customer equal to 0 and the farthest equal to 1. Everyone else’s distance is expressed as a fraction between them: someone halfway in the range becomes 0.5, someone at three-quarters of the way becomes 0.75, and so on.\n",
    "\n",
    "The result is a clean, comparable range that can be especially helpful when feeding data into machine learning models that are sensitive to input magnitudes, such as neural networks or KNN.\n",
    "\n",
    "👉 The only drawback is that if your dataset has extreme outliers, the compression effect can squash most of your values into a very small portion of the 0–1 interval, making the transformation less meaningful. Would you like me to show you the code implementation for the ages column with a plot comparing before and after normalization?"
   ]
  },
  {
   "cell_type": "code",
   "execution_count": 58,
   "id": "349c6634",
   "metadata": {},
   "outputs": [
    {
     "name": "stdout",
     "output_type": "stream",
     "text": [
      "Range of spent values: 28\n",
      "\n",
      "Normalized spent values (first 10):\n",
      "0    0.464286\n",
      "1    0.892857\n",
      "2    0.357143\n",
      "3    0.250000\n",
      "4    0.357143\n",
      "5    0.392857\n",
      "6    0.750000\n",
      "7    0.535714\n",
      "8    0.000000\n",
      "9    0.250000\n",
      "Name: spent, dtype: float64\n"
     ]
    }
   ],
   "source": [
    "# ======================\n",
    "# Min-Max Normalization on \"spent\"\n",
    "# ======================\n",
    "\n",
    "# 1) Extract the \"spent\" feature\n",
    "spent = coffee[\"spent\"]\n",
    "\n",
    "# 2) Find max and min values of \"spent\"\n",
    "max_spent = np.max(spent)\n",
    "min_spent = np.min(spent)\n",
    "\n",
    "# 3) Find the range of values (spread between max and min)\n",
    "spent_range = max_spent - min_spent\n",
    "print(\"Range of spent values:\", spent_range)\n",
    "\n",
    "# 4) Normalize values using min-max formula\n",
    "spent_normalized = (spent - min_spent) / spent_range\n",
    "\n",
    "# 5) Print transformed values\n",
    "print(\"\\nNormalized spent values (first 10):\")\n",
    "print(spent_normalized.head(10))"
   ]
  },
  {
   "cell_type": "code",
   "execution_count": 59,
   "id": "4290a6da",
   "metadata": {},
   "outputs": [
    {
     "data": {
      "image/png": "[encoded data removed]",
      "text/plain": [
       "<Figure size 1200x500 with 2 Axes>"
      ]
     },
     "metadata": {},
     "output_type": "display_data"
    }
   ],
   "source": [
    "# ======================\n",
    "# Visualize original vs normalized\n",
    "# ======================\n",
    "fig, axes = plt.subplots(1, 2, figsize=(12,5), sharey=True)\n",
    "\n",
    "# Original distribution\n",
    "axes[0].hist(spent, bins=10, color=\"lightgreen\", edgecolor=\"black\")\n",
    "axes[0].set_title(\"Original 'spent' Distribution\")\n",
    "axes[0].set_xlabel(\"Spent\")\n",
    "axes[0].set_ylabel(\"Count\")\n",
    "\n",
    "# Normalized distribution\n",
    "axes[1].hist(spent_normalized, bins=10, color=\"skyblue\", edgecolor=\"black\")\n",
    "axes[1].set_title(\"Normalized 'spent' Distribution\")\n",
    "axes[1].set_xlabel(\"Normalized Spent (0–1)\")\n",
    "\n",
    "plt.tight_layout()\n",
    "plt.show()"
   ]
  },
  {
   "cell_type": "markdown",
   "id": "1b717e9f",
   "metadata": {},
   "source": [
    "What happened here?\n",
    "\n",
    "By applying min-max normalization to the spent feature, we transformed all values into a scale between 0 and 1. The customer who spent the least amount now corresponds to 0, while the one who spent the most corresponds to 1. All other spending amounts are expressed proportionally within this interval.\n",
    "\n",
    "The left histogram shows the original spending distribution, which might have a wide range of values. The right histogram shows the normalized version, where the overall shape of the distribution is preserved, but the scale has been rescaled to a common 0–1 range.\n",
    "\n",
    "This makes the feature directly comparable with others, which is especially important when using machine learning models that are sensitive to feature magnitudes (like neural networks or distance-based models)."
   ]
  },
  {
   "cell_type": "code",
   "execution_count": 62,
   "id": "ec19a46d",
   "metadata": {},
   "outputs": [
    {
     "name": "stdout",
     "output_type": "stream",
     "text": [
      "Minimum of reshaped_scaled (should be 0): 0.0\n",
      "Maximum of reshaped_scaled (should be 1): 1.0\n"
     ]
    }
   ],
   "source": [
    "# =====================================\n",
    "# Min-Max Normalization with Sklearn\n",
    "# =====================================\n",
    "\n",
    "# Take the \"spent\" feature\n",
    "spent = coffee['spent']\n",
    "\n",
    "# Step 1: Reshape the array into 2D for sklearn\n",
    "spent_reshaped = np.array(spent).reshape(-1, 1)\n",
    "\n",
    "# Step 2: Instantiate MinMaxScaler\n",
    "mmscaler = MinMaxScaler()\n",
    "\n",
    "# Step 3: Perform fit_transform to scale the feature\n",
    "reshaped_scaled = mmscaler.fit_transform(spent_reshaped)\n",
    "\n",
    "# Step 4: Print min and max of the scaled data with explanations\n",
    "print(\"Minimum of reshaped_scaled (should be 0):\", np.min(reshaped_scaled))\n",
    "print(\"Maximum of reshaped_scaled (should be 1):\", np.max(reshaped_scaled))"
   ]
  },
  {
   "cell_type": "code",
   "execution_count": 63,
   "id": "aff089b7",
   "metadata": {},
   "outputs": [
    {
     "data": {
      "image/png": "[encoded data removed]",
      "text/plain": [
       "<Figure size 1200x500 with 2 Axes>"
      ]
     },
     "metadata": {},
     "output_type": "display_data"
    }
   ],
   "source": [
    "# Visualization: compare original and normalized distributions side by side\n",
    "fig, axes = plt.subplots(1, 2, figsize=(12, 5), sharey=True)\n",
    "\n",
    "# Original distribution\n",
    "axes[0].hist(spent, bins=20, color=\"lightcoral\", edgecolor=\"black\")\n",
    "axes[0].set_title(\"Original 'Spent' Distribution\")\n",
    "axes[0].set_xlabel(\"Amount Spent\")\n",
    "axes[0].set_ylabel(\"Count\")\n",
    "\n",
    "# Normalized distribution\n",
    "axes[1].hist(reshaped_scaled, bins=20, color=\"skyblue\", edgecolor=\"black\")\n",
    "axes[1].set_title(\"Normalized 'Spent' Distribution\")\n",
    "axes[1].set_xlabel(\"Normalized Value (0–1)\")\n",
    "\n",
    "plt.tight_layout()\n",
    "plt.show()"
   ]
  },
  {
   "cell_type": "markdown",
   "id": "d8822926",
   "metadata": {},
   "source": [
    "📘 Explanation\n",
    "\n",
    "Here we applied Min-Max Normalization to the spent feature using sklearn. The original distribution of spending values is scaled down so the lowest spending maps to 0 and the highest to 1.\n",
    "\n",
    "As the prints confirm:\n",
    "\n",
    "- np.min(reshaped_scaled) → gives the minimum of the scaled array (0)\n",
    "\n",
    "- np.max(reshaped_scaled) → gives the maximum of the scaled array (1)\n",
    "\n",
    "The shape of the histogram doesn’t change—it still reflects the same spending behavior among customers—but the scale has been compressed to a fixed range [0,1]. This makes it much easier to compare this feature with others that might have different numeric ranges."
   ]
  },
  {
   "cell_type": "markdown",
   "id": "54bf6568",
   "metadata": {},
   "source": [
    "## Binning your Data\n",
    "Binning is all about grouping continuous data into **intervals (bins)** so we can simplify patterns and make distributions easier to interpret.\n",
    "\n",
    "In this lesson, the example used the **distance to the nearest Starbucks** and grouped customers into ranges like “less than 1 km,” “1–3 km,” “3–5 km,” and “more than 5 km.”\n",
    "\n",
    "The trick here is with `pd.cut()`:\n",
    "\n",
    "* It includes the **lower bound** of the bin but **excludes the upper bound**.\n",
    "* That’s why we define bins as `[0, 1, 3, 5, 8.1]` instead of ending at 8 — so customers reporting exactly 8 km still get included in the last group.\n",
    "\n",
    "After creating the binned column, we can count how many customers fall into each range and visualize it with a bar chart.\n",
    "\n",
    "The same approach can be applied to other features, like **age**, to group customers into categories (e.g., young adults, middle-aged, seniors) instead of treating every single numeric value separately.\n",
    "\n",
    "👉 The key trade-off is:\n",
    "\n",
    "* **Too few bins** → you might hide important patterns.\n",
    "* **Too many bins** → you might keep too much noise and lose clarity.\n",
    "\n",
    "Would you like me to suggest **sensible bin ranges for the age feature** (like decades: 18–25, 26–35, etc.), or should I stick strictly to evenly sized intervals?\n"
   ]
  },
  {
   "cell_type": "code",
   "execution_count": 65,
   "id": "e03b0bc4",
   "metadata": {},
   "outputs": [
    {
     "name": "stdout",
     "output_type": "stream",
     "text": [
      "Minimum age in dataset: 13\n",
      "Maximum age in dataset: 70\n",
      "\n",
      "First 10 rows of binned_ages:\n",
      "0    [40, 71)\n",
      "1    [30, 40)\n",
      "2    [20, 30)\n",
      "3    [20, 30)\n",
      "4    [20, 30)\n",
      "5    [20, 30)\n",
      "6    [20, 30)\n",
      "7    [20, 30)\n",
      "8    [20, 30)\n",
      "9    [20, 30)\n",
      "Name: binned_ages, dtype: category\n",
      "Categories (4, interval[int64, left]): [[12, 20) < [20, 30) < [30, 40) < [40, 71)]\n"
     ]
    },
    {
     "data": {
      "image/png": "[encoded data removed]",
      "text/plain": [
       "<Figure size 640x480 with 1 Axes>"
      ]
     },
     "metadata": {},
     "output_type": "display_data"
    }
   ],
   "source": [
    "# ===========================\n",
    "# 1) Print min and max ages\n",
    "# ===========================\n",
    "ages = coffee['age']\n",
    "print(\"Minimum age in dataset:\", np.min(ages))\n",
    "print(\"Maximum age in dataset:\", np.max(ages))\n",
    "\n",
    "# ===========================\n",
    "# 2) Define bin boundaries\n",
    "# ===========================\n",
    "age_bins = [12, 20, 30, 40, 71]\n",
    "\n",
    "# ===========================\n",
    "# 3) Create binned column\n",
    "# ===========================\n",
    "coffee[\"binned_ages\"] = pd.cut(coffee['age'], age_bins, right=False)\n",
    "\n",
    "# ===========================\n",
    "# 4) Preview first 10 rows\n",
    "# ===========================\n",
    "print(\"\\nFirst 10 rows of binned_ages:\")\n",
    "print(coffee[\"binned_ages\"].head(10))\n",
    "\n",
    "# ===========================\n",
    "# 5) Plot bar chart of bins\n",
    "# ===========================\n",
    "coffee['binned_ages'].value_counts().sort_index().plot(kind='bar', color='teal', edgecolor='black')\n",
    "\n",
    "plt.title('Starbucks Customer Age Distribution (Binned)')\n",
    "plt.xlabel('Age Range')\n",
    "plt.ylabel('Number of Customers')\n",
    "plt.xticks(rotation=0)  # Keep age bins horizontal\n",
    "plt.tight_layout()\n",
    "plt.show()\n"
   ]
  },
  {
   "cell_type": "markdown",
   "id": "31b62862",
   "metadata": {},
   "source": [
    "## Natural Log Transformation\n",
    "\n",
    "Natural log transformations are an incredibly useful tool when working with skewed data, especially when we want to bring extreme values closer together.\n",
    "\n",
    "The key idea is that when we take the natural log of each value in a dataset, we compress large values more than small ones. This makes highly skewed distributions—like odometer readings for cars, where most cars have low mileage but a few have extremely high mileage—look closer to a normal (bell-shaped) distribution.\n",
    "\n",
    "For instance, without transformation, a car with 10,000 miles and one with 150,000 miles look drastically different. But after applying the natural log, their values become much closer (9.22 vs 11.93). The difference is now easier for machine learning models to handle, since the scale of the data has been compressed.\n",
    "\n",
    "However, this technique has some caveats:\n",
    "\n",
    "- You cannot apply log transformations to negative or zero values, since the natural log is undefined for those.\n",
    "\n",
    "- It is best suited for right-skewed data (many small values, few very large values).\n",
    "\n",
    "- If the data is left-skewed or non-parametric, other transformations like squaring, cubing, or Box-Cox may be more appropriate.\n",
    "\n",
    "In short, log transformations are a way to stabilize variance, reduce skewness, and make features more model-friendly. But they need to be applied thoughtfully, depending on the nature of the dataset."
   ]
  },
  {
   "cell_type": "code",
   "execution_count": 67,
   "id": "608b2b08",
   "metadata": {},
   "outputs": [
    {
     "data": {
      "image/png": "[encoded data removed]",
      "text/plain": [
       "<Figure size 1200x500 with 2 Axes>"
      ]
     },
     "metadata": {},
     "output_type": "display_data"
    },
    {
     "name": "stdout",
     "output_type": "stream",
     "text": [
      "Original mean: 9.770491803278688\n",
      "Original std dev: 6.590836765261772\n",
      "Log-transformed mean: 2.0954010199119812\n",
      "Log-transformed std dev: 0.8792331700249331\n"
     ]
    }
   ],
   "source": [
    "# Select the \"spent\" feature we want to transform\n",
    "spent = coffee[\"spent\"]\n",
    "\n",
    "# ----------------------\n",
    "# Step 1: Plot the original distribution\n",
    "# ----------------------\n",
    "plt.figure(figsize=(12,5))\n",
    "plt.subplot(1, 2, 1)\n",
    "plt.hist(spent, bins=30, color=\"lightcoral\", edgecolor=\"black\")\n",
    "plt.title(\"Original Distribution of Spent\")\n",
    "plt.xlabel(\"Spent ($)\")\n",
    "plt.ylabel(\"Count\")\n",
    "\n",
    "# ----------------------\n",
    "# Step 2: Apply natural log transformation\n",
    "#    - np.log compresses the scale\n",
    "#    - Add 1 to avoid log(0) issues if zeros exist\n",
    "# ----------------------\n",
    "spent_logged = np.log(spent + 1)\n",
    "\n",
    "# ----------------------\n",
    "# Step 3: Plot the transformed distribution\n",
    "# ----------------------\n",
    "plt.subplot(1, 2, 2)\n",
    "plt.hist(spent_logged, bins=30, color=\"skyblue\", edgecolor=\"black\")\n",
    "plt.title(\"Log-Transformed Distribution of Spent\")\n",
    "plt.xlabel(\"log(Spent + 1)\")\n",
    "plt.ylabel(\"Count\")\n",
    "\n",
    "plt.tight_layout()\n",
    "plt.show()\n",
    "\n",
    "# ----------------------\n",
    "# Step 4: Quick check of summary statistics\n",
    "# ----------------------\n",
    "print(\"Original mean:\", np.mean(spent))\n",
    "print(\"Original std dev:\", np.std(spent))\n",
    "print(\"Log-transformed mean:\", np.mean(spent_logged))\n",
    "print(\"Log-transformed std dev:\", np.std(spent_logged))\n"
   ]
  },
  {
   "cell_type": "markdown",
   "id": "4cc46970",
   "metadata": {},
   "source": [
    "# EncodingCategorical Data"
   ]
  },
  {
   "cell_type": "markdown",
   "id": "6d89439f",
   "metadata": {},
   "source": [
    "Categorical data comes in two forms: nominal (no natural order, like car colors) and ordinal (ordered categories, like condition ratings). Many machine learning algorithms can’t handle text, so categorical features must be encoded into numbers.\n",
    "\n",
    "In the used car dataset, the condition column is ordinal. Values like Excellent, New, Like New, Good, Fair clearly follow a hierarchy from best to worst condition. To prepare this feature for modeling, we can:\n",
    "\n",
    "1. Map labels manually using a dictionary (e.g., \"Excellent\" → 5, \"Fair\" → 1).\n",
    "\n",
    "2. Use scikit-learn’s OrdinalEncoder, where we specify the category order and transform text into numeric values automatically.\n",
    "\n",
    "This ensures the dataset is machine-readable and preserves the order of conditions, which is crucial for training models that rely on numerical input."
   ]
  },
  {
   "cell_type": "code",
   "execution_count": 68,
   "id": "b155ae90",
   "metadata": {},
   "outputs": [
    {
     "name": "stdout",
     "output_type": "stream",
     "text": [
      "Unnamed: 0        int64\n",
      "year              int64\n",
      "make             object\n",
      "model            object\n",
      "trim             object\n",
      "body             object\n",
      "transmission     object\n",
      "vin              object\n",
      "state            object\n",
      "condition       float64\n",
      "odometer        float64\n",
      "color            object\n",
      "interior         object\n",
      "seller           object\n",
      "mmr               int64\n",
      "sellingprice      int64\n",
      "saledate         object\n",
      "Unnamed: 16     float64\n",
      "dtype: object\n"
     ]
    }
   ],
   "source": [
    "# Load dataset\n",
    "cars = pd.read_csv('data_folder/cars.csv')\n",
    "\n",
    "# Check variable types — this shows us which columns are categorical (dtype = object)\n",
    "print(cars.dtypes)"
   ]
  },
  {
   "cell_type": "code",
   "execution_count": 69,
   "id": "852b9960",
   "metadata": {},
   "outputs": [
    {
     "name": "stdout",
     "output_type": "stream",
     "text": [
      "condition\n",
      "1.9    732\n",
      "3.5    507\n",
      "4.3    475\n",
      "4.4    468\n",
      "4.1    460\n",
      "3.7    446\n",
      "3.6    422\n",
      "4.2    404\n",
      "2.0    376\n",
      "4.0    370\n",
      "2.9    357\n",
      "3.9    351\n",
      "2.8    338\n",
      "2.7    303\n",
      "3.4    303\n",
      "3.8    297\n",
      "2.6    225\n",
      "4.9    224\n",
      "4.6    220\n",
      "4.8    220\n",
      "4.5    219\n",
      "2.5    203\n",
      "3.3    199\n",
      "3.0    197\n",
      "4.7    191\n",
      "5.0    186\n",
      "3.2    179\n",
      "2.4    175\n",
      "2.1    162\n",
      "3.1    156\n",
      "2.3    154\n",
      "1.0    127\n",
      "2.2    110\n",
      "1.8      8\n",
      "1.7      5\n",
      "1.3      3\n",
      "1.4      2\n",
      "1.6      1\n",
      "1.5      1\n",
      "1.1      1\n",
      "Name: count, dtype: int64\n"
     ]
    }
   ],
   "source": [
    "# ======================\n",
    "# Ordinal Encoding (Manual with Dictionary)\n",
    "# ======================\n",
    "\n",
    "# Inspect the distribution of the 'condition' column\n",
    "print(cars['condition'].value_counts())\n",
    "\n",
    "# Define hierarchy: Excellent > New > Like New > Good > Fair\n",
    "rating_dict = {'Excellent':5, 'New':4, 'Like New':3, 'Good':2, 'Fair':1}\n",
    "\n",
    "# Map each label to its numeric score and create a new column\n",
    "cars['condition_rating'] = cars['condition'].map(rating_dict)"
   ]
  },
  {
   "cell_type": "code",
   "execution_count": 70,
   "id": "55c2308a",
   "metadata": {},
   "outputs": [
    {
     "ename": "ValueError",
     "evalue": "could not convert string to float: 'Excellent'",
     "output_type": "error",
     "traceback": [
      "\u001b[0;31m---------------------------------------------------------------------------\u001b[0m",
      "\u001b[0;31mValueError\u001b[0m                                Traceback (most recent call last)",
      "Cell \u001b[0;32mIn [70], line 13\u001b[0m\n\u001b[1;32m     10\u001b[0m condition_reshaped \u001b[38;5;241m=\u001b[39m cars[\u001b[38;5;124m'\u001b[39m\u001b[38;5;124mcondition\u001b[39m\u001b[38;5;124m'\u001b[39m]\u001b[38;5;241m.\u001b[39mvalues\u001b[38;5;241m.\u001b[39mreshape(\u001b[38;5;241m-\u001b[39m\u001b[38;5;241m1\u001b[39m,\u001b[38;5;241m1\u001b[39m)\n\u001b[1;32m     12\u001b[0m \u001b[38;5;66;03m# Apply transformation and assign to new column\u001b[39;00m\n\u001b[0;32m---> 13\u001b[0m cars[\u001b[38;5;124m'\u001b[39m\u001b[38;5;124mcondition_rating\u001b[39m\u001b[38;5;124m'\u001b[39m] \u001b[38;5;241m=\u001b[39m \u001b[43mencoder\u001b[49m\u001b[38;5;241;43m.\u001b[39;49m\u001b[43mfit_transform\u001b[49m\u001b[43m(\u001b[49m\u001b[43mcondition_reshaped\u001b[49m\u001b[43m)\u001b[49m\n",
      "File \u001b[0;32m~/.pyenv/versions/3.10.6/envs/lewagon/lib/python3.10/site-packages/sklearn/utils/_set_output.py:319\u001b[0m, in \u001b[0;36m_wrap_method_output.<locals>.wrapped\u001b[0;34m(self, X, *args, **kwargs)\u001b[0m\n\u001b[1;32m    317\u001b[0m \u001b[38;5;129m@wraps\u001b[39m(f)\n\u001b[1;32m    318\u001b[0m \u001b[38;5;28;01mdef\u001b[39;00m \u001b[38;5;21mwrapped\u001b[39m(\u001b[38;5;28mself\u001b[39m, X, \u001b[38;5;241m*\u001b[39margs, \u001b[38;5;241m*\u001b[39m\u001b[38;5;241m*\u001b[39mkwargs):\n\u001b[0;32m--> 319\u001b[0m     data_to_wrap \u001b[38;5;241m=\u001b[39m \u001b[43mf\u001b[49m\u001b[43m(\u001b[49m\u001b[38;5;28;43mself\u001b[39;49m\u001b[43m,\u001b[49m\u001b[43m \u001b[49m\u001b[43mX\u001b[49m\u001b[43m,\u001b[49m\u001b[43m \u001b[49m\u001b[38;5;241;43m*\u001b[39;49m\u001b[43margs\u001b[49m\u001b[43m,\u001b[49m\u001b[43m \u001b[49m\u001b[38;5;241;43m*\u001b[39;49m\u001b[38;5;241;43m*\u001b[39;49m\u001b[43mkwargs\u001b[49m\u001b[43m)\u001b[49m\n\u001b[1;32m    320\u001b[0m     \u001b[38;5;28;01mif\u001b[39;00m \u001b[38;5;28misinstance\u001b[39m(data_to_wrap, \u001b[38;5;28mtuple\u001b[39m):\n\u001b[1;32m    321\u001b[0m         \u001b[38;5;66;03m# only wrap the first output for cross decomposition\u001b[39;00m\n\u001b[1;32m    322\u001b[0m         return_tuple \u001b[38;5;241m=\u001b[39m (\n\u001b[1;32m    323\u001b[0m             _wrap_data_with_container(method, data_to_wrap[\u001b[38;5;241m0\u001b[39m], X, \u001b[38;5;28mself\u001b[39m),\n\u001b[1;32m    324\u001b[0m             \u001b[38;5;241m*\u001b[39mdata_to_wrap[\u001b[38;5;241m1\u001b[39m:],\n\u001b[1;32m    325\u001b[0m         )\n",
      "File \u001b[0;32m~/.pyenv/versions/3.10.6/envs/lewagon/lib/python3.10/site-packages/sklearn/base.py:918\u001b[0m, in \u001b[0;36mTransformerMixin.fit_transform\u001b[0;34m(self, X, y, **fit_params)\u001b[0m\n\u001b[1;32m    903\u001b[0m         warnings\u001b[38;5;241m.\u001b[39mwarn(\n\u001b[1;32m    904\u001b[0m             (\n\u001b[1;32m    905\u001b[0m                 \u001b[38;5;124mf\u001b[39m\u001b[38;5;124m\"\u001b[39m\u001b[38;5;124mThis object (\u001b[39m\u001b[38;5;132;01m{\u001b[39;00m\u001b[38;5;28mself\u001b[39m\u001b[38;5;241m.\u001b[39m\u001b[38;5;18m__class__\u001b[39m\u001b[38;5;241m.\u001b[39m\u001b[38;5;18m__name__\u001b[39m\u001b[38;5;132;01m}\u001b[39;00m\u001b[38;5;124m) has a `transform`\u001b[39m\u001b[38;5;124m\"\u001b[39m\n\u001b[0;32m   (...)\u001b[0m\n\u001b[1;32m    913\u001b[0m             \u001b[38;5;167;01mUserWarning\u001b[39;00m,\n\u001b[1;32m    914\u001b[0m         )\n\u001b[1;32m    916\u001b[0m \u001b[38;5;28;01mif\u001b[39;00m y \u001b[38;5;129;01mis\u001b[39;00m \u001b[38;5;28;01mNone\u001b[39;00m:\n\u001b[1;32m    917\u001b[0m     \u001b[38;5;66;03m# fit method of arity 1 (unsupervised transformation)\u001b[39;00m\n\u001b[0;32m--> 918\u001b[0m     \u001b[38;5;28;01mreturn\u001b[39;00m \u001b[38;5;28;43mself\u001b[39;49m\u001b[38;5;241;43m.\u001b[39;49m\u001b[43mfit\u001b[49m\u001b[43m(\u001b[49m\u001b[43mX\u001b[49m\u001b[43m,\u001b[49m\u001b[43m \u001b[49m\u001b[38;5;241;43m*\u001b[39;49m\u001b[38;5;241;43m*\u001b[39;49m\u001b[43mfit_params\u001b[49m\u001b[43m)\u001b[49m\u001b[38;5;241m.\u001b[39mtransform(X)\n\u001b[1;32m    919\u001b[0m \u001b[38;5;28;01melse\u001b[39;00m:\n\u001b[1;32m    920\u001b[0m     \u001b[38;5;66;03m# fit method of arity 2 (supervised transformation)\u001b[39;00m\n\u001b[1;32m    921\u001b[0m     \u001b[38;5;28;01mreturn\u001b[39;00m \u001b[38;5;28mself\u001b[39m\u001b[38;5;241m.\u001b[39mfit(X, y, \u001b[38;5;241m*\u001b[39m\u001b[38;5;241m*\u001b[39mfit_params)\u001b[38;5;241m.\u001b[39mtransform(X)\n",
      "File \u001b[0;32m~/.pyenv/versions/3.10.6/envs/lewagon/lib/python3.10/site-packages/sklearn/base.py:1389\u001b[0m, in \u001b[0;36m_fit_context.<locals>.decorator.<locals>.wrapper\u001b[0;34m(estimator, *args, **kwargs)\u001b[0m\n\u001b[1;32m   1382\u001b[0m     estimator\u001b[38;5;241m.\u001b[39m_validate_params()\n\u001b[1;32m   1384\u001b[0m \u001b[38;5;28;01mwith\u001b[39;00m config_context(\n\u001b[1;32m   1385\u001b[0m     skip_parameter_validation\u001b[38;5;241m=\u001b[39m(\n\u001b[1;32m   1386\u001b[0m         prefer_skip_nested_validation \u001b[38;5;129;01mor\u001b[39;00m global_skip_validation\n\u001b[1;32m   1387\u001b[0m     )\n\u001b[1;32m   1388\u001b[0m ):\n\u001b[0;32m-> 1389\u001b[0m     \u001b[38;5;28;01mreturn\u001b[39;00m \u001b[43mfit_method\u001b[49m\u001b[43m(\u001b[49m\u001b[43mestimator\u001b[49m\u001b[43m,\u001b[49m\u001b[43m \u001b[49m\u001b[38;5;241;43m*\u001b[39;49m\u001b[43margs\u001b[49m\u001b[43m,\u001b[49m\u001b[43m \u001b[49m\u001b[38;5;241;43m*\u001b[39;49m\u001b[38;5;241;43m*\u001b[39;49m\u001b[43mkwargs\u001b[49m\u001b[43m)\u001b[49m\n",
      "File \u001b[0;32m~/.pyenv/versions/3.10.6/envs/lewagon/lib/python3.10/site-packages/sklearn/preprocessing/_encoders.py:1515\u001b[0m, in \u001b[0;36mOrdinalEncoder.fit\u001b[0;34m(self, X, y)\u001b[0m\n\u001b[1;32m   1508\u001b[0m     \u001b[38;5;28;01mraise\u001b[39;00m \u001b[38;5;167;01mTypeError\u001b[39;00m(\n\u001b[1;32m   1509\u001b[0m         \u001b[38;5;124m\"\u001b[39m\u001b[38;5;124munknown_value should only be set when \u001b[39m\u001b[38;5;124m\"\u001b[39m\n\u001b[1;32m   1510\u001b[0m         \u001b[38;5;124m\"\u001b[39m\u001b[38;5;124mhandle_unknown is \u001b[39m\u001b[38;5;124m'\u001b[39m\u001b[38;5;124muse_encoded_value\u001b[39m\u001b[38;5;124m'\u001b[39m\u001b[38;5;124m, \u001b[39m\u001b[38;5;124m\"\u001b[39m\n\u001b[1;32m   1511\u001b[0m         \u001b[38;5;124mf\u001b[39m\u001b[38;5;124m\"\u001b[39m\u001b[38;5;124mgot \u001b[39m\u001b[38;5;132;01m{\u001b[39;00m\u001b[38;5;28mself\u001b[39m\u001b[38;5;241m.\u001b[39munknown_value\u001b[38;5;132;01m}\u001b[39;00m\u001b[38;5;124m.\u001b[39m\u001b[38;5;124m\"\u001b[39m\n\u001b[1;32m   1512\u001b[0m     )\n\u001b[1;32m   1514\u001b[0m \u001b[38;5;66;03m# `_fit` will only raise an error when `self.handle_unknown=\"error\"`\u001b[39;00m\n\u001b[0;32m-> 1515\u001b[0m fit_results \u001b[38;5;241m=\u001b[39m \u001b[38;5;28;43mself\u001b[39;49m\u001b[38;5;241;43m.\u001b[39;49m\u001b[43m_fit\u001b[49m\u001b[43m(\u001b[49m\n\u001b[1;32m   1516\u001b[0m \u001b[43m    \u001b[49m\u001b[43mX\u001b[49m\u001b[43m,\u001b[49m\n\u001b[1;32m   1517\u001b[0m \u001b[43m    \u001b[49m\u001b[43mhandle_unknown\u001b[49m\u001b[38;5;241;43m=\u001b[39;49m\u001b[38;5;28;43mself\u001b[39;49m\u001b[38;5;241;43m.\u001b[39;49m\u001b[43mhandle_unknown\u001b[49m\u001b[43m,\u001b[49m\n\u001b[1;32m   1518\u001b[0m \u001b[43m    \u001b[49m\u001b[43mensure_all_finite\u001b[49m\u001b[38;5;241;43m=\u001b[39;49m\u001b[38;5;124;43m\"\u001b[39;49m\u001b[38;5;124;43mallow-nan\u001b[39;49m\u001b[38;5;124;43m\"\u001b[39;49m\u001b[43m,\u001b[49m\n\u001b[1;32m   1519\u001b[0m \u001b[43m    \u001b[49m\u001b[43mreturn_and_ignore_missing_for_infrequent\u001b[49m\u001b[38;5;241;43m=\u001b[39;49m\u001b[38;5;28;43;01mTrue\u001b[39;49;00m\u001b[43m,\u001b[49m\n\u001b[1;32m   1520\u001b[0m \u001b[43m\u001b[49m\u001b[43m)\u001b[49m\n\u001b[1;32m   1521\u001b[0m \u001b[38;5;28mself\u001b[39m\u001b[38;5;241m.\u001b[39m_missing_indices \u001b[38;5;241m=\u001b[39m fit_results[\u001b[38;5;124m\"\u001b[39m\u001b[38;5;124mmissing_indices\u001b[39m\u001b[38;5;124m\"\u001b[39m]\n\u001b[1;32m   1523\u001b[0m cardinalities \u001b[38;5;241m=\u001b[39m [\u001b[38;5;28mlen\u001b[39m(categories) \u001b[38;5;28;01mfor\u001b[39;00m categories \u001b[38;5;129;01min\u001b[39;00m \u001b[38;5;28mself\u001b[39m\u001b[38;5;241m.\u001b[39mcategories_]\n",
      "File \u001b[0;32m~/.pyenv/versions/3.10.6/envs/lewagon/lib/python3.10/site-packages/sklearn/preprocessing/_encoders.py:118\u001b[0m, in \u001b[0;36m_BaseEncoder._fit\u001b[0;34m(self, X, handle_unknown, ensure_all_finite, return_counts, return_and_ignore_missing_for_infrequent)\u001b[0m\n\u001b[1;32m    115\u001b[0m \u001b[38;5;28;01melse\u001b[39;00m:\n\u001b[1;32m    116\u001b[0m     Xi_dtype \u001b[38;5;241m=\u001b[39m Xi\u001b[38;5;241m.\u001b[39mdtype\n\u001b[0;32m--> 118\u001b[0m cats \u001b[38;5;241m=\u001b[39m \u001b[43mnp\u001b[49m\u001b[38;5;241;43m.\u001b[39;49m\u001b[43marray\u001b[49m\u001b[43m(\u001b[49m\u001b[38;5;28;43mself\u001b[39;49m\u001b[38;5;241;43m.\u001b[39;49m\u001b[43mcategories\u001b[49m\u001b[43m[\u001b[49m\u001b[43mi\u001b[49m\u001b[43m]\u001b[49m\u001b[43m,\u001b[49m\u001b[43m \u001b[49m\u001b[43mdtype\u001b[49m\u001b[38;5;241;43m=\u001b[39;49m\u001b[43mXi_dtype\u001b[49m\u001b[43m)\u001b[49m\n\u001b[1;32m    119\u001b[0m \u001b[38;5;28;01mif\u001b[39;00m (\n\u001b[1;32m    120\u001b[0m     cats\u001b[38;5;241m.\u001b[39mdtype \u001b[38;5;241m==\u001b[39m \u001b[38;5;28mobject\u001b[39m\n\u001b[1;32m    121\u001b[0m     \u001b[38;5;129;01mand\u001b[39;00m \u001b[38;5;28misinstance\u001b[39m(cats[\u001b[38;5;241m0\u001b[39m], \u001b[38;5;28mbytes\u001b[39m)\n\u001b[1;32m    122\u001b[0m     \u001b[38;5;129;01mand\u001b[39;00m Xi\u001b[38;5;241m.\u001b[39mdtype\u001b[38;5;241m.\u001b[39mkind \u001b[38;5;241m!=\u001b[39m \u001b[38;5;124m\"\u001b[39m\u001b[38;5;124mS\u001b[39m\u001b[38;5;124m\"\u001b[39m\n\u001b[1;32m    123\u001b[0m ):\n\u001b[1;32m    124\u001b[0m     msg \u001b[38;5;241m=\u001b[39m (\n\u001b[1;32m    125\u001b[0m         \u001b[38;5;124mf\u001b[39m\u001b[38;5;124m\"\u001b[39m\u001b[38;5;124mIn column \u001b[39m\u001b[38;5;132;01m{\u001b[39;00mi\u001b[38;5;132;01m}\u001b[39;00m\u001b[38;5;124m, the predefined categories have type \u001b[39m\u001b[38;5;124m'\u001b[39m\u001b[38;5;124mbytes\u001b[39m\u001b[38;5;124m'\u001b[39m\u001b[38;5;124m\"\u001b[39m\n\u001b[1;32m    126\u001b[0m         \u001b[38;5;124m\"\u001b[39m\u001b[38;5;124m which is incompatible with values of type\u001b[39m\u001b[38;5;124m\"\u001b[39m\n\u001b[1;32m    127\u001b[0m         \u001b[38;5;124mf\u001b[39m\u001b[38;5;124m\"\u001b[39m\u001b[38;5;124m \u001b[39m\u001b[38;5;124m'\u001b[39m\u001b[38;5;132;01m{\u001b[39;00m\u001b[38;5;28mtype\u001b[39m(Xi[\u001b[38;5;241m0\u001b[39m])\u001b[38;5;241m.\u001b[39m\u001b[38;5;18m__name__\u001b[39m\u001b[38;5;132;01m}\u001b[39;00m\u001b[38;5;124m'\u001b[39m\u001b[38;5;124m.\u001b[39m\u001b[38;5;124m\"\u001b[39m\n\u001b[1;32m    128\u001b[0m     )\n",
      "\u001b[0;31mValueError\u001b[0m: could not convert string to float: 'Excellent'"
     ]
    }
   ],
   "source": [
    "# ======================\n",
    "# Ordinal Encoding (Scikit-learn)\n",
    "# ======================\n",
    "from sklearn.preprocessing import OrdinalEncoder\n",
    "\n",
    "# Create encoder with the defined order of categories\n",
    "encoder = OrdinalEncoder(categories=[['Excellent', 'New', 'Like New', 'Good', 'Fair']])\n",
    "\n",
    "# Reshape the feature into a 2D array as required by sklearn\n",
    "condition_reshaped = cars['condition'].values.reshape(-1,1)\n",
    "\n",
    "# Apply transformation and assign to new column\n",
    "cars['condition_rating'] = encoder.fit_transform(condition_reshaped)"
   ]
  },
  {
   "cell_type": "code",
   "execution_count": null,
   "id": "99515269",
   "metadata": {},
   "outputs": [],
   "source": []
  }
 ],
 "metadata": {
  "kernelspec": {
   "display_name": "Python 3 (ipykernel)",
   "language": "python",
   "name": "python3"
  },
  "language_info": {
   "codemirror_mode": {
    "name": "ipython",
    "version": 3
   },
   "file_extension": ".py",
   "mimetype": "text/x-python",
   "name": "python",
   "nbconvert_exporter": "python",
   "pygments_lexer": "ipython3",
   "version": "3.10.6"
  },
  "toc": {
   "base_numbering": 1,
   "nav_menu": {},
   "number_sections": true,
   "sideBar": true,
   "skip_h1_title": false,
   "title_cell": "Table of Contents",
   "title_sidebar": "Contents",
   "toc_cell": false,
   "toc_position": {},
   "toc_section_display": true,
   "toc_window_display": false
  }
 },
 "nbformat": 4,
 "nbformat_minor": 5
}
