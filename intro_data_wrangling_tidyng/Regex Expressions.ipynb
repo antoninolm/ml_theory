{
 "cells": [
  {
   "cell_type": "markdown",
   "id": "44cff29e",
   "metadata": {},
   "source": [
    "<p style=\"text-align: center; font-size:24px;\"><b>Regex Expressions</b></p>\n",
    "\n",
    "summary"
   ]
  },
  {
   "cell_type": "markdown",
   "id": "8b42a366",
   "metadata": {},
   "source": [
    "# Literals \n",
    "in regular expressions are the most straightforward way to perform a search. A literal simply means writing the exact text you want to find. For example, the expression `a` matches the character `a`, and `bananas` matches exactly the word “bananas.” What makes literals powerful is that they can match not only whole words but also parts of a text. If you search with `monkey`, it will match the word “monkey” even when it appears inside a longer sentence such as “The monkeys like to eat bananas.” This behavior isn’t limited to letters: numbers and combinations of characters work as well. The literal `3` will match the digit “3” in “34,” and `5 gibbons` will match exactly those characters in that order. Under the hood, regular expressions process text from left to right, moving one character at a time. As soon as the pattern matches the first character, the engine continues to check if the following sequence fits the rest of the expression, creating a continuous match."
   ]
  },
  {
   "cell_type": "code",
   "execution_count": 7,
   "id": "6474a4f4",
   "metadata": {},
   "outputs": [
    {
     "name": "stdout",
     "output_type": "stream",
     "text": [
      "     text\n",
      "0  monkey\n",
      "        text\n",
      "2  5 gibbons\n",
      "           text\n",
      "3  34 elephants\n"
     ]
    }
   ],
   "source": [
    "# Small dataset with text\n",
    "df = pd.DataFrame({\n",
    "    \"text\": [\"monkey\", \"bananas\", \"5 gibbons\", \"34 elephants\"]\n",
    "})\n",
    "\n",
    "# Match the literal 'monkey'\n",
    "print(df[df[\"text\"].str.contains(\"monkey\")])\n",
    "\n",
    "# Match the literal '5 gibbons'\n",
    "print(df[df[\"text\"].str.contains(\"5 gibbons\")])\n",
    "\n",
    "# Match the literal '3'\n",
    "print(df[df[\"text\"].str.contains(\"3\")])\n"
   ]
  },
  {
   "cell_type": "markdown",
   "id": "063f8976",
   "metadata": {},
   "source": [
    "# Alternation\n",
    "Ib regular expressions is the way to express a choice between two or more options. It works with the pipe symbol `|`, which you can think of as the logical “or.” For example, the pattern `baboons|gorillas` will look for either the word “baboons” or the word “gorillas.” If the text is “I love baboons,” the regex matches “baboons,” and if the text is “I love gorillas,” it matches “gorillas.” What matters is that one of the alternatives appears. At this stage, the alternation only applies to the specific word itself, not to the entire sentence around it. So `baboons|gorillas` will not match the whole phrase “I love baboons” or “I love gorillas,” but only the single words. Later on, you can build more complex expressions that capture the full sentence if you want, but alternation gives you the first step: a way to handle multiple possibilities with a single pattern.\n"
   ]
  },
  {
   "cell_type": "code",
   "execution_count": 8,
   "id": "ecde1e8e",
   "metadata": {},
   "outputs": [
    {
     "name": "stdout",
     "output_type": "stream",
     "text": [
      "              text\n",
      "0   I love baboons\n",
      "1  I love gorillas\n"
     ]
    }
   ],
   "source": [
    "# Simple dataset\n",
    "df = pd.DataFrame({\n",
    "    \"text\": [\"I love baboons\", \"I love gorillas\", \"I love monkeys\"]\n",
    "})\n",
    "\n",
    "# Match either 'baboons' OR 'gorillas'\n",
    "print(df[df[\"text\"].str.contains(\"baboons|gorillas\")])\n"
   ]
  },
  {
   "cell_type": "markdown",
   "id": "ae9389a2",
   "metadata": {},
   "source": [
    "# Character sets \n",
    "In regular expressions give you flexibility when you want to allow for multiple possible characters in the same position. Instead of writing a rigid expression that only accepts one exact spelling, you can use square brackets to define alternatives. For example, con[sc]en[sc]us will match the correct spelling “consensus,” but it will also match common mistakes like “concensus,” “consencus,” and “concencus.” The brackets [sc] mean “this position can be either s or c,” and the regex engine will accept both. Character sets work at the single-character level: [cat] does not mean “cat,” but rather “c or a or t.” You can also reverse the meaning with the caret symbol ^. If placed inside the brackets at the beginning, as in [^cat], the regex matches any character that is not c, a, or t. For instance, [^cat] will happily match the letters d, o, or g. With character sets and their negated form, regular expressions become much more forgiving and adaptable, allowing us to account for variation or error in text."
   ]
  },
  {
   "cell_type": "code",
   "execution_count": 9,
   "id": "479a0766",
   "metadata": {},
   "outputs": [
    {
     "name": "stdout",
     "output_type": "stream",
     "text": [
      "        text\n",
      "0  consensus\n",
      "1  concensus\n",
      "2  consencus\n",
      "3  concencus\n",
      "  text\n",
      "4  dog\n"
     ]
    }
   ],
   "source": [
    "# Example dataset with different spellings\n",
    "df = pd.DataFrame({\n",
    "    \"text\": [\"consensus\", \"concensus\", \"consencus\", \"concencus\", \"dog\"]\n",
    "})\n",
    "\n",
    "# Regex with character sets to catch all spelling variants\n",
    "print(df[df[\"text\"].str.contains(\"con[sc]en[sc]us\")])\n",
    "\n",
    "# Regex with a negated character set: match words that start with NOT c, a, or t\n",
    "print(df[df[\"text\"].str.contains(\"^[^cat]\")])\n"
   ]
  },
  {
   "cell_type": "markdown",
   "id": "b9078067",
   "metadata": {},
   "source": [
    "# Wildcards \n",
    "In regular expressions are a way to say, “I don’t care what character appears here, as long as something does.” The symbol . acts as this placeholder, and it can represent any single character: a letter, a digit, a symbol, or even a space. For example, writing nine dots in a row like ......... will match any text with exactly nine characters, such as “orangutan” or “marsupial.” You can also mix wildcards with normal text. The regex I ate . bananas will match “I ate 3 bananas” or “I ate 8 bananas,” since the dot stands in for the digit. But what if you actually want to look for a period character rather than using it as a wildcard? That’s where the backslash escape comes in. If you write \\. the dot loses its special meaning and is treated as a literal period. So Howler monkeys are really lazy\\. matches the sentence “Howler monkeys are really lazy.” including the dot at the end. Wildcards are a powerful way to allow flexibility when the exact character is not important."
   ]
  },
  {
   "cell_type": "code",
   "execution_count": 10,
   "id": "61683428",
   "metadata": {},
   "outputs": [
    {
     "name": "stdout",
     "output_type": "stream",
     "text": [
      "        text\n",
      "0  orangutan\n",
      "1  marsupial\n",
      "              text\n",
      "2  I ate 3 bananas\n",
      "3  I ate 8 bananas\n",
      "                              text\n",
      "4  Howler monkeys are really lazy.\n"
     ]
    }
   ],
   "source": [
    "# Example dataset\n",
    "df = pd.DataFrame({\n",
    "    \"text\": [\n",
    "        \"orangutan\",\n",
    "        \"marsupial\",\n",
    "        \"I ate 3 bananas\",\n",
    "        \"I ate 8 bananas\",\n",
    "        \"Howler monkeys are really lazy.\"\n",
    "    ]\n",
    "})\n",
    "\n",
    "# 1. Match any 9-character word using 9 wildcards (.........)\n",
    "print(df[df[\"text\"].str.contains(\"^.........$\")])\n",
    "\n",
    "# 2. Match 'I ate . bananas' → the dot matches any single character\n",
    "print(df[df[\"text\"].str.contains(\"I ate . bananas\")])\n",
    "\n",
    "# 3. Match a literal period at the end using \\.\n",
    "print(df[df[\"text\"].str.contains(\"Howler monkeys are really lazy\\\\.\")])\n"
   ]
  },
  {
   "cell_type": "markdown",
   "id": "b273f724",
   "metadata": {},
   "source": [
    "# Ranges\n",
    "In this case, the idea is to understand how regular expressions can be used to flexibly locate and capture the hidden part of a URL, such as a key, and then add it to the end of another base URL. Conceptually, the hidden key is just a sequence of characters embedded in a longer string. By writing a regex that looks for a certain pattern, you can extract it and then concatenate it to the original link. For example, if your browser shows a URL with an embedded key like https://example.com/?id=XYZ123, you could use a regex to capture the XYZ123 part and then append it to another given URL. This demonstrates the practical use of regex: finding a specific chunk of text even when it’s surrounded by other characters."
   ]
  },
  {
   "cell_type": "code",
   "execution_count": 11,
   "id": "830fdbf5",
   "metadata": {},
   "outputs": [
    {
     "name": "stdout",
     "output_type": "stream",
     "text": [
      "Final URL: https://myapp.com/start?key=XYZ123\n"
     ]
    }
   ],
   "source": [
    "import re\n",
    "\n",
    "# Example: a browser URL that contains a hidden key\n",
    "browser_url = \"https://example.com/page?hidden_key=XYZ123\"\n",
    "\n",
    "# Base URL where we want to append the key\n",
    "base_url = \"https://myapp.com/start?key=\"\n",
    "\n",
    "# Use regex to extract the hidden key after 'hidden_key='\n",
    "match = re.search(r\"hidden_key=([A-Za-z0-9]+)\", browser_url)\n",
    "\n",
    "if match:\n",
    "    hidden_key = match.group(1)  # Extract the key (XYZ123)\n",
    "    final_url = base_url + hidden_key\n",
    "    print(\"Final URL:\", final_url)\n"
   ]
  },
  {
   "cell_type": "markdown",
   "id": "397f773e",
   "metadata": {},
   "source": [
    "# Shorthand character classes \n",
    "It make regular expressions much easier to write when you are dealing with common types of characters. Instead of spelling out long ranges every time, you can use compact symbols. For example, \\w stands for “word characters,” meaning any letter (uppercase or lowercase), digit, or underscore. Similarly, \\d matches any digit from 0 to 9, and \\s matches any whitespace, such as a space, tab, or newline. With these, you can quickly express patterns like “a digit, followed by a space, followed by several letters.” For instance, the regex \\d\\s\\w\\w\\w\\w\\w\\w\\w matches the text “3 monkeys”: it sees a digit 3, a whitespace space, and then seven letters.\n",
    "There are also negated versions: \\W matches any character that is not a word character, \\D matches anything that is not a digit, and \\S matches anything that is not whitespace. These broaden your control by letting you explicitly exclude categories of characters. Together, shorthand character classes are essential tools for making regex patterns both concise and clear."
   ]
  },
  {
   "cell_type": "code",
   "execution_count": 12,
   "id": "5598d83c",
   "metadata": {},
   "outputs": [
    {
     "name": "stdout",
     "output_type": "stream",
     "text": [
      "Match '\\d\\s\\w{7}':\n",
      "        text\n",
      "0  3 monkeys \n",
      "\n",
      "Match '\\d':\n",
      "        text\n",
      "0  3 monkeys\n",
      "1  12_apples\n",
      "3         42 \n",
      "\n",
      "Match '\\D':\n",
      "              text\n",
      "0        3 monkeys\n",
      "1        12_apples\n",
      "2      hello world\n",
      "4  no_digits_here! \n",
      "\n",
      "Match '\\s':\n",
      "          text\n",
      "0    3 monkeys\n",
      "2  hello world\n"
     ]
    }
   ],
   "source": [
    "# Example dataset\n",
    "df = pd.DataFrame({\n",
    "    \"text\": [\n",
    "        \"3 monkeys\",\n",
    "        \"12_apples\",\n",
    "        \"hello world\",\n",
    "        \"42\",\n",
    "        \"no_digits_here!\"\n",
    "    ]\n",
    "})\n",
    "\n",
    "# 1. Match a digit followed by a space and then 7 word characters\n",
    "print(\"Match '\\\\d\\\\s\\\\w{7}':\")\n",
    "print(df[df[\"text\"].str.contains(r\"\\d\\s\\w{7}\")], \"\\n\")\n",
    "\n",
    "# 2. Match any text containing at least one digit\n",
    "print(\"Match '\\\\d':\")\n",
    "print(df[df[\"text\"].str.contains(r\"\\d\")], \"\\n\")\n",
    "\n",
    "# 3. Match any text containing a non-digit\n",
    "print(\"Match '\\\\D':\")\n",
    "print(df[df[\"text\"].str.contains(r\"\\D\")], \"\\n\")\n",
    "\n",
    "# 4. Match any text containing whitespace\n",
    "print(\"Match '\\\\s':\")\n",
    "print(df[df[\"text\"].str.contains(r\"\\s\")])\n"
   ]
  },
  {
   "cell_type": "markdown",
   "id": "4189c975",
   "metadata": {},
   "source": [
    "# Grouping \n",
    "In regular expressions allows you to structure patterns so that alternation or repetition applies only to part of the regex. Without grouping, the | alternation symbol acts on everything before or after it, which can lead to unexpected matches. For instance, if you try I love baboons|gorillas, it will correctly match “I love baboons,” but with “I love gorillas” it only matches “gorillas,” because the | divides the whole expression into “I love baboons” or “gorillas.” By adding parentheses, you can control the scope: I love (baboons|gorillas) matches “I love baboons” or “I love gorillas.” This way, the alternation is limited to just the words inside the group. Groups also act as capture groups, meaning they can extract the matched portion of text for later use, making them powerful not only for matching but also for data extraction."
   ]
  },
  {
   "cell_type": "code",
   "execution_count": 14,
   "id": "cb5c4024",
   "metadata": {},
   "outputs": [
    {
     "name": "stdout",
     "output_type": "stream",
     "text": [
      "Match 'I love (baboons|gorillas)':\n",
      "              text\n",
      "0   I love baboons\n",
      "1  I love gorillas \n",
      "\n",
      "Extracted animals:\n",
      "              text    animal\n",
      "0   I love baboons   baboons\n",
      "1  I love gorillas  gorillas\n",
      "2   I love monkeys       NaN\n",
      "3         gorillas       NaN\n"
     ]
    },
    {
     "name": "stderr",
     "output_type": "stream",
     "text": [
      "/tmp/ipykernel_3420/2912285152.py:13: UserWarning: This pattern is interpreted as a regular expression, and has match groups. To actually get the groups, use str.extract.\n",
      "  print(df[df[\"text\"].str.contains(r\"I love (baboons|gorillas)\")], \"\\n\")\n"
     ]
    }
   ],
   "source": [
    "# Example dataset\n",
    "df = pd.DataFrame({\n",
    "    \"text\": [\n",
    "        \"I love baboons\",\n",
    "        \"I love gorillas\",\n",
    "        \"I love monkeys\",\n",
    "        \"gorillas\"\n",
    "    ]\n",
    "})\n",
    "\n",
    "# Regex with grouping to match full phrases\n",
    "print(\"Match 'I love (baboons|gorillas)':\")\n",
    "print(df[df[\"text\"].str.contains(r\"I love (baboons|gorillas)\")], \"\\n\")\n",
    "\n",
    "# Capture group example: extract which animal was matched\n",
    "df[\"animal\"] = df[\"text\"].str.extract(r\"I love (baboons|gorillas)\")\n",
    "print(\"Extracted animals:\")\n",
    "print(df)\n"
   ]
  },
  {
   "cell_type": "markdown",
   "id": "68d77f76",
   "metadata": {},
   "source": [
    "# Fixed quantifiers \n",
    "They let you move beyond matching text character by character. Instead of writing the same symbol multiple times in a row, you can use curly braces to indicate exactly how many times something should appear, or within what range. For example, \\w{3} matches exactly three word characters, while \\w{4,7} matches a word of at least four characters but no more than seven. This is more compact and flexible than repeating \\w over and over. Quantifiers also work inside larger patterns: roa{3}r matches “roaaar,” and roa{3,7}r will match “roaaar” through “roaaaaaaar,” since it accepts between three and seven as. One key point is that quantifiers are greedy: they try to match as much as possible. For instance, mo{2,4} applied to “moooo” will return the longest valid option—“moooo” with four os—rather than the shorter “moo” or “mooo.” Fixed quantifiers make regex far more expressive and efficient when describing patterns of repetition."
   ]
  },
  {
   "cell_type": "code",
   "execution_count": 15,
   "id": "18126867",
   "metadata": {},
   "outputs": [
    {
     "name": "stdout",
     "output_type": "stream",
     "text": [
      "Match '\\w{6}\\s\\w{6}':\n",
      "            text\n",
      "0  rhesus monkey \n",
      "\n",
      "Match 'roa{3,7}r':\n",
      "         text\n",
      "1      roaaar\n",
      "2    roaaaaar\n",
      "3  roaaaaaaar \n",
      "\n",
      "Match 'mo{2,4}':\n",
      "    text\n",
      "4  moooo\n"
     ]
    }
   ],
   "source": [
    "# Example dataset\n",
    "df = pd.DataFrame({\n",
    "    \"text\": [\n",
    "        \"rhesus monkey\",\n",
    "        \"roaaar\",\n",
    "        \"roaaaaar\",\n",
    "        \"roaaaaaaar\",\n",
    "        \"moooo\"\n",
    "    ]\n",
    "})\n",
    "\n",
    "# 1. Match exactly 6 letters, a space, and 6 more letters (like 'rhesus monkey')\n",
    "print(\"Match '\\\\w{6}\\\\s\\\\w{6}':\")\n",
    "print(df[df[\"text\"].str.contains(r\"\\w{6}\\s\\w{6}\")], \"\\n\")\n",
    "\n",
    "# 2. Match 'ro' + between 3 and 7 'a's + 'r'\n",
    "print(\"Match 'roa{3,7}r':\")\n",
    "print(df[df[\"text\"].str.contains(r\"roa{3,7}r\")], \"\\n\")\n",
    "\n",
    "# 3. Show greedy behavior: 'mo{2,4}' on 'moooo'\n",
    "print(\"Match 'mo{2,4}':\")\n",
    "print(df[df[\"text\"].str.contains(r\"mo{2,4}\")])\n"
   ]
  },
  {
   "cell_type": "markdown",
   "id": "79ca5c1c",
   "metadata": {},
   "source": [
    "# Fixed quantifiers \n",
    "They sre a way to specify exactly how many times a character or group of characters should repeat, rather than writing each occurrence out manually. With curly braces {}, you can ask for a precise number of repetitions or define a range. For instance, \\w{6}\\s\\w{6} means “match six word characters, followed by a space, then six more word characters,” which fits the string “rhesus monkey.” Similarly, roa{3,7}r matches “ro” followed by between three and seven “a” characters, then “r,” so it will catch “roaaar,” “roaaaaar,” and “roaaaaaaar.” Quantifiers are greedy by default, which means they try to take as many characters as they can while still fulfilling the pattern. So mo{2,4} applied to “moooo” doesn’t stop at “moo” or “mooo” but instead matches the full “moooo” with four “o”s."
   ]
  },
  {
   "cell_type": "code",
   "execution_count": 16,
   "id": "e784611b",
   "metadata": {},
   "outputs": [
    {
     "name": "stdout",
     "output_type": "stream",
     "text": [
      "Match '\\w{6}\\s\\w{6}':\n",
      "            text\n",
      "0  rhesus monkey \n",
      "\n",
      "Match 'roa{3,7}r':\n",
      "         text\n",
      "1      roaaar\n",
      "2    roaaaaar\n",
      "3  roaaaaaaar \n",
      "\n",
      "Match 'mo{2,4}':\n",
      "    text\n",
      "4  moooo\n"
     ]
    }
   ],
   "source": [
    "# Example dataset\n",
    "df = pd.DataFrame({\n",
    "    \"text\": [\n",
    "        \"rhesus monkey\",\n",
    "        \"roaaar\",\n",
    "        \"roaaaaar\",\n",
    "        \"roaaaaaaar\",\n",
    "        \"moooo\"\n",
    "    ]\n",
    "})\n",
    "\n",
    "# 1. Match exactly 6 letters, a space, and 6 more letters (like 'rhesus monkey')\n",
    "print(\"Match '\\\\w{6}\\\\s\\\\w{6}':\")\n",
    "print(df[df[\"text\"].str.contains(r\"\\w{6}\\s\\w{6}\")], \"\\n\")\n",
    "\n",
    "# 2. Match 'ro' + between 3 and 7 'a's + 'r'\n",
    "print(\"Match 'roa{3,7}r':\")\n",
    "print(df[df[\"text\"].str.contains(r\"roa{3,7}r\")], \"\\n\")\n",
    "\n",
    "# 3. Show greedy behavior: 'mo{2,4}' on 'moooo'\n",
    "print(\"Match 'mo{2,4}':\")\n",
    "print(df[df[\"text\"].str.contains(r\"mo{2,4}\")])\n"
   ]
  },
  {
   "cell_type": "markdown",
   "id": "50770fe3",
   "metadata": {},
   "source": [
    "# Optional quantifiers \n",
    "They make a character or group of characters flexible, allowing them to appear once or not at all. This is especially useful when dealing with variations in spelling or wording. For example, the regex humou?r can match both “humor” and “humour,” because the u is marked optional—it may appear zero or one time. The ? always applies only to the character (or group, if parentheses are used) immediately before it. With grouping, you can extend this power to longer sequences. For instance, The monkey ate a (rotten )?banana matches both “The monkey ate a banana” and “The monkey ate a rotten banana,” since the group (rotten ) is treated as optional. Because ? itself is a special symbol, you must escape it with a backslash if you want to search for an actual question mark. So Aren't owl monkeys beautiful\\? will match the sentence including the final ?. Optional quantifiers give your regex just the right balance of precision and flexibility, making it robust against natural variations in text."
   ]
  },
  {
   "cell_type": "code",
   "execution_count": 17,
   "id": "824897c1",
   "metadata": {},
   "outputs": [
    {
     "name": "stdout",
     "output_type": "stream",
     "text": [
      "Match 'humou?r':\n",
      "     text\n",
      "0   humor\n",
      "1  humour \n",
      "\n",
      "Match 'The monkey ate a (rotten )?banana':\n",
      "                             text\n",
      "2         The monkey ate a banana\n",
      "3  The monkey ate a rotten banana \n",
      "\n",
      "Match 'Aren't owl monkeys beautiful\\?':\n",
      "                            text\n",
      "4  Aren't owl monkeys beautiful?\n"
     ]
    },
    {
     "name": "stderr",
     "output_type": "stream",
     "text": [
      "/tmp/ipykernel_3420/984184667.py:18: UserWarning: This pattern is interpreted as a regular expression, and has match groups. To actually get the groups, use str.extract.\n",
      "  print(df[df[\"text\"].str.contains(r\"The monkey ate a (rotten )?banana\")], \"\\n\")\n"
     ]
    }
   ],
   "source": [
    "# Example dataset\n",
    "df = pd.DataFrame({\n",
    "    \"text\": [\n",
    "        \"humor\",\n",
    "        \"humour\",\n",
    "        \"The monkey ate a banana\",\n",
    "        \"The monkey ate a rotten banana\",\n",
    "        \"Aren't owl monkeys beautiful?\"\n",
    "    ]\n",
    "})\n",
    "\n",
    "# 1. Match 'humor' or 'humour'\n",
    "print(\"Match 'humou?r':\")\n",
    "print(df[df[\"text\"].str.contains(r\"humou?r\")], \"\\n\")\n",
    "\n",
    "# 2. Match with optional group '(rotten )'\n",
    "print(\"Match 'The monkey ate a (rotten )?banana':\")\n",
    "print(df[df[\"text\"].str.contains(r\"The monkey ate a (rotten )?banana\")], \"\\n\")\n",
    "\n",
    "# 3. Match a literal question mark at the end\n",
    "print(\"Match 'Aren't owl monkeys beautiful\\\\?':\")\n",
    "print(df[df[\"text\"].str.contains(r\"Aren't owl monkeys beautiful\\?\")])\n"
   ]
  },
  {
   "cell_type": "markdown",
   "id": "cc61957d",
   "metadata": {},
   "source": [
    "# Anchors \n",
    "Used to make your regular expressions more precise by tying them to the beginning or the end of a string. The caret ^ is used to assert that a match must start at the very beginning, while the dollar sign $ asserts that it must end at the very last character. For example, ^Monkeys: my mortal enemy$ matches exactly the text “Monkeys: my mortal enemy” and nothing more. It won’t match longer versions like “Spider Monkeys: my mortal enemy in the wild,” because in that case the string starts with “Spider” and ends with “wild.” Without anchors, however, the same regex would still find “Monkeys: my mortal enemy” as a substring within the longer text. Anchors are invaluable when you need complete control over the placement of a match, ensuring you capture only exact strings rather than fragments buried inside larger ones. Since ^ and $ are metacharacters, escaping them is necessary when you actually want to match those symbols. For instance, My spider monkey has \\$10\\^6 in the bank will match the sentence containing “$10^6” as literal characters."
   ]
  },
  {
   "cell_type": "code",
   "execution_count": null,
   "id": "a86a627e",
   "metadata": {},
   "outputs": [],
   "source": [
    "import pandas as pd\n",
    "\n",
    "# Example dataset\n",
    "df = pd.DataFrame({\n",
    "    \"text\": [\n",
    "        \"Monkeys: my mortal enemy\",\n",
    "        \"Spider Monkeys: my mortal enemy in the wild\",\n",
    "        \"Squirrel Monkeys: my mortal enemy in the wild\",\n",
    "        \"My spider monkey has $10^6 in the bank\"\n",
    "    ]\n",
    "})\n",
    "\n",
    "# 1. Match exactly 'Monkeys: my mortal enemy' with anchors\n",
    "print(\"Match '^Monkeys: my mortal enemy$':\")\n",
    "print(df[df[\"text\"].str.contains(r\"^Monkeys: my mortal enemy$\")], \"\\n\")\n",
    "\n",
    "# 2. Match 'Monkeys: my mortal enemy' without anchors (substring match)\n",
    "print(\"Match 'Monkeys: my mortal enemy' (no anchors):\")\n",
    "print(df[df[\"text\"].str.contains(r\"Monkeys: my mortal enemy\")], \"\\n\")\n",
    "\n",
    "# 3. Match literal '$' and '^' characters\n",
    "print(\"Match 'My spider monkey has \\\\$10\\\\^6 in the bank':\")\n",
    "print(df[df[\"text\"].str.contains(r\"My spider monkey has \\$10\\^6 in the bank\")])\n"
   ]
  }
 ],
 "metadata": {
  "kernelspec": {
   "display_name": "Python 3 (ipykernel)",
   "language": "python",
   "name": "python3"
  },
  "language_info": {
   "codemirror_mode": {
    "name": "ipython",
    "version": 3
   },
   "file_extension": ".py",
   "mimetype": "text/x-python",
   "name": "python",
   "nbconvert_exporter": "python",
   "pygments_lexer": "ipython3",
   "version": "3.10.6"
  },
  "toc": {
   "base_numbering": 1,
   "nav_menu": {},
   "number_sections": true,
   "sideBar": true,
   "skip_h1_title": false,
   "title_cell": "Table of Contents",
   "title_sidebar": "Contents",
   "toc_cell": false,
   "toc_position": {},
   "toc_section_display": true,
   "toc_window_display": false
  }
 },
 "nbformat": 4,
 "nbformat_minor": 5
}
